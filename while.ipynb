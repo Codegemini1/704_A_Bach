{
 "cells": [
  {
   "cell_type": "code",
   "execution_count": 1,
   "id": "f9492214-4882-4d32-bcbc-7e32b15faed2",
   "metadata": {},
   "outputs": [],
   "source": [
    "l = [10, 1.5, 'Hello', True]"
   ]
  },
  {
   "cell_type": "code",
   "execution_count": 2,
   "id": "d538881e-737c-4174-9ed7-70feb36c3640",
   "metadata": {},
   "outputs": [
    {
     "data": {
      "text/plain": [
       "[10, 1.5, 'Hello', True]"
      ]
     },
     "execution_count": 2,
     "metadata": {},
     "output_type": "execute_result"
    }
   ],
   "source": [
    "l"
   ]
  },
  {
   "cell_type": "code",
   "execution_count": 3,
   "id": "71a7dde0-2ef3-47cc-b2ff-7eb5cc2f668c",
   "metadata": {},
   "outputs": [
    {
     "name": "stdout",
     "output_type": "stream",
     "text": [
      "10\n",
      "1.5\n",
      "Hello\n",
      "True\n"
     ]
    }
   ],
   "source": [
    "for i in l:\n",
    "    print(i)"
   ]
  },
  {
   "cell_type": "code",
   "execution_count": 5,
   "id": "91a40c79-2452-4421-a409-e1a9d1772e1c",
   "metadata": {},
   "outputs": [
    {
     "name": "stdout",
     "output_type": "stream",
     "text": [
      "10 <class 'int'>\n",
      "1.5 <class 'float'>\n",
      "Hello <class 'str'>\n",
      "True <class 'bool'>\n"
     ]
    }
   ],
   "source": [
    "for i in l:\n",
    "    print(i, type(i))"
   ]
  },
  {
   "cell_type": "code",
   "execution_count": 9,
   "id": "1831390c-e27f-44aa-8f95-d718fa4c6b06",
   "metadata": {},
   "outputs": [],
   "source": [
    "l = [10, 1.5, 'Hello', True, 15, 12.5, 5]"
   ]
  },
  {
   "cell_type": "code",
   "execution_count": 10,
   "id": "3919ea79-932d-4067-aeb2-0947a1ae97b6",
   "metadata": {},
   "outputs": [
    {
     "name": "stdout",
     "output_type": "stream",
     "text": [
      "10\n",
      "15\n",
      "5\n"
     ]
    }
   ],
   "source": [
    "for i in l:\n",
    "    if type(i) == int:\n",
    "        print(i)"
   ]
  },
  {
   "cell_type": "code",
   "execution_count": 6,
   "id": "bafb7bfe-80e7-4857-bd9e-f5994b66bc45",
   "metadata": {},
   "outputs": [
    {
     "data": {
      "text/plain": [
       "int"
      ]
     },
     "execution_count": 6,
     "metadata": {},
     "output_type": "execute_result"
    }
   ],
   "source": [
    "type(5)"
   ]
  },
  {
   "cell_type": "code",
   "execution_count": 7,
   "id": "a4466dde-69b2-4455-b175-55234d7bb1aa",
   "metadata": {},
   "outputs": [
    {
     "data": {
      "text/plain": [
       "True"
      ]
     },
     "execution_count": 7,
     "metadata": {},
     "output_type": "execute_result"
    }
   ],
   "source": [
    "type(5) == int"
   ]
  },
  {
   "cell_type": "code",
   "execution_count": 11,
   "id": "910f1b70-48ae-4ee5-96e5-13fbec3028cd",
   "metadata": {},
   "outputs": [
    {
     "name": "stdout",
     "output_type": "stream",
     "text": [
      "1.5\n",
      "12.5\n"
     ]
    }
   ],
   "source": [
    "for i in l:\n",
    "    if type(i) == float:\n",
    "        print(i)"
   ]
  },
  {
   "cell_type": "code",
   "execution_count": 12,
   "id": "c2bbddcb-dee2-411e-be61-5864389550a4",
   "metadata": {},
   "outputs": [
    {
     "data": {
      "text/plain": [
       "False"
      ]
     },
     "execution_count": 12,
     "metadata": {},
     "output_type": "execute_result"
    }
   ],
   "source": [
    "10.5 == float"
   ]
  },
  {
   "cell_type": "code",
   "execution_count": 13,
   "id": "d94c0861-2c06-45df-a841-e0209f6e81bf",
   "metadata": {},
   "outputs": [
    {
     "data": {
      "text/plain": [
       "True"
      ]
     },
     "execution_count": 13,
     "metadata": {},
     "output_type": "execute_result"
    }
   ],
   "source": [
    "type(10.5) == float"
   ]
  },
  {
   "cell_type": "code",
   "execution_count": 14,
   "id": "1523166d-b154-4d4c-ad30-8813a21b111e",
   "metadata": {},
   "outputs": [
    {
     "data": {
      "text/plain": [
       "float"
      ]
     },
     "execution_count": 14,
     "metadata": {},
     "output_type": "execute_result"
    }
   ],
   "source": [
    "type(10.5)"
   ]
  },
  {
   "cell_type": "code",
   "execution_count": 15,
   "id": "be1e8600-8d36-4922-8b1c-0a2e10f12d40",
   "metadata": {},
   "outputs": [
    {
     "name": "stdout",
     "output_type": "stream",
     "text": [
      "Hello\n"
     ]
    }
   ],
   "source": [
    "for i in l:\n",
    "    if type(i) == str:\n",
    "        print(i)"
   ]
  },
  {
   "cell_type": "code",
   "execution_count": 16,
   "id": "7311ce93-9052-42f4-88cc-7668b90c086a",
   "metadata": {},
   "outputs": [
    {
     "name": "stdout",
     "output_type": "stream",
     "text": [
      "h\n",
      "e\n",
      "l\n",
      "l\n",
      "o\n"
     ]
    }
   ],
   "source": [
    "for i in 'hello':\n",
    "    print(i)"
   ]
  },
  {
   "cell_type": "code",
   "execution_count": 17,
   "id": "caf2a5b8-d998-465f-9d18-ba783581d6ec",
   "metadata": {},
   "outputs": [
    {
     "name": "stdout",
     "output_type": "stream",
     "text": [
      "H\n",
      "e\n",
      "l\n",
      "l\n",
      "o\n"
     ]
    }
   ],
   "source": [
    "for i in l:\n",
    "    if type(i) == str:\n",
    "        for char in i:  # i = 'hello'\n",
    "            print(char)"
   ]
  },
  {
   "cell_type": "code",
   "execution_count": 18,
   "id": "888f7a63-85be-4638-9d67-8bcc17fde083",
   "metadata": {},
   "outputs": [
    {
     "name": "stdout",
     "output_type": "stream",
     "text": [
      "Hello\n",
      "Hello\n",
      "Hello\n",
      "Hello\n",
      "Hello\n"
     ]
    }
   ],
   "source": [
    "for i in l:\n",
    "    if type(i) == str:\n",
    "        for char in i:  # i = 'hello'\n",
    "            print(i)"
   ]
  },
  {
   "cell_type": "code",
   "execution_count": 19,
   "id": "3757562a-a0b7-4489-91fe-d5d6e402eca4",
   "metadata": {},
   "outputs": [],
   "source": [
    "d = {'a':10, 'b':20, 'c':30}"
   ]
  },
  {
   "cell_type": "code",
   "execution_count": 20,
   "id": "f6304447-d0cf-4db9-8398-6a481b915e86",
   "metadata": {},
   "outputs": [
    {
     "name": "stdout",
     "output_type": "stream",
     "text": [
      "a 10\n",
      "b 20\n",
      "c 30\n"
     ]
    }
   ],
   "source": [
    "for key , values in d.items():\n",
    "    print(key,values)"
   ]
  },
  {
   "cell_type": "markdown",
   "id": "29abf67f-2c8f-4bb0-94b7-216b5c775d05",
   "metadata": {},
   "source": [
    "# While loop"
   ]
  },
  {
   "cell_type": "code",
   "execution_count": 22,
   "id": "f61e0212-bd53-471f-b38b-c5af458342cd",
   "metadata": {},
   "outputs": [],
   "source": [
    "num = 0"
   ]
  },
  {
   "cell_type": "code",
   "execution_count": 23,
   "id": "71974ea3-927d-4816-8306-be6f41077f98",
   "metadata": {},
   "outputs": [
    {
     "name": "stdout",
     "output_type": "stream",
     "text": [
      "0\n",
      "1\n",
      "2\n",
      "3\n",
      "4\n"
     ]
    }
   ],
   "source": [
    "while num < 5:\n",
    "    print(num)\n",
    "    num = num + 1"
   ]
  },
  {
   "cell_type": "code",
   "execution_count": 24,
   "id": "4b11c315-75e4-4026-9610-d4ffcbc206b5",
   "metadata": {},
   "outputs": [
    {
     "name": "stdout",
     "output_type": "stream",
     "text": [
      "25\n",
      "24\n",
      "23\n",
      "22\n",
      "21\n",
      "20\n",
      "19\n"
     ]
    }
   ],
   "source": [
    "age = 25\n",
    "while age > 18:\n",
    "    print(age)\n",
    "    age = age - 1"
   ]
  },
  {
   "cell_type": "code",
   "execution_count": 25,
   "id": "1e46ce44-82dc-40cb-a09a-5b1d59a59f39",
   "metadata": {},
   "outputs": [
    {
     "data": {
      "text/plain": [
       "True"
      ]
     },
     "execution_count": 25,
     "metadata": {},
     "output_type": "execute_result"
    }
   ],
   "source": [
    "'pizza' == 'pizza'"
   ]
  },
  {
   "cell_type": "code",
   "execution_count": 26,
   "id": "ec96871d-66b0-4a9b-8e9c-650bd468fd58",
   "metadata": {},
   "outputs": [
    {
     "data": {
      "text/plain": [
       "False"
      ]
     },
     "execution_count": 26,
     "metadata": {},
     "output_type": "execute_result"
    }
   ],
   "source": [
    "'pizza' != 'pizza'"
   ]
  },
  {
   "cell_type": "code",
   "execution_count": 29,
   "id": "fd8ac9fb-f9c7-4652-9799-1f7dd00ef4d8",
   "metadata": {},
   "outputs": [
    {
     "name": "stdout",
     "output_type": "stream",
     "text": [
      "hello\n"
     ]
    },
    {
     "name": "stdin",
     "output_type": "stream",
     "text": [
      "Enter hello123 for stop loop python564\n"
     ]
    },
    {
     "name": "stdout",
     "output_type": "stream",
     "text": [
      "python564\n"
     ]
    },
    {
     "name": "stdin",
     "output_type": "stream",
     "text": [
      "Enter hello123 for stop loop jkdf\n"
     ]
    },
    {
     "name": "stdout",
     "output_type": "stream",
     "text": [
      "jkdf\n"
     ]
    },
    {
     "name": "stdin",
     "output_type": "stream",
     "text": [
      "Enter hello123 for stop loop skjsd\n"
     ]
    },
    {
     "name": "stdout",
     "output_type": "stream",
     "text": [
      "skjsd\n"
     ]
    },
    {
     "name": "stdin",
     "output_type": "stream",
     "text": [
      "Enter hello123 for stop loop sjdjhd\n"
     ]
    },
    {
     "name": "stdout",
     "output_type": "stream",
     "text": [
      "sjdjhd\n"
     ]
    },
    {
     "name": "stdin",
     "output_type": "stream",
     "text": [
      "Enter hello123 for stop loop hello123\n"
     ]
    }
   ],
   "source": [
    "password = 'hello'\n",
    "while password != 'hello123':\n",
    "    print(password)\n",
    "    password = input('Enter hello123 for stop loop')"
   ]
  },
  {
   "cell_type": "code",
   "execution_count": 27,
   "id": "a54df616-f39e-4446-a552-80a4e5c9c9b4",
   "metadata": {},
   "outputs": [
    {
     "data": {
      "text/plain": [
       "True"
      ]
     },
     "execution_count": 27,
     "metadata": {},
     "output_type": "execute_result"
    }
   ],
   "source": [
    "'hello' != 'hello123'"
   ]
  },
  {
   "cell_type": "code",
   "execution_count": 28,
   "id": "3b5298d5-0da7-45b9-8bd3-f5f3e154a232",
   "metadata": {},
   "outputs": [
    {
     "data": {
      "text/plain": [
       "False"
      ]
     },
     "execution_count": 28,
     "metadata": {},
     "output_type": "execute_result"
    }
   ],
   "source": [
    "'hello123' != 'hello123'"
   ]
  },
  {
   "cell_type": "code",
   "execution_count": null,
   "id": "ee900d8e-44fb-4ba2-b4f9-1ba7b5abb71a",
   "metadata": {},
   "outputs": [],
   "source": []
  }
 ],
 "metadata": {
  "kernelspec": {
   "display_name": "Python 3 (ipykernel)",
   "language": "python",
   "name": "python3"
  },
  "language_info": {
   "codemirror_mode": {
    "name": "ipython",
    "version": 3
   },
   "file_extension": ".py",
   "mimetype": "text/x-python",
   "name": "python",
   "nbconvert_exporter": "python",
   "pygments_lexer": "ipython3",
   "version": "3.12.4"
  }
 },
 "nbformat": 4,
 "nbformat_minor": 5
}

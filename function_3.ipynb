{
 "cells": [
  {
   "cell_type": "code",
   "execution_count": 1,
   "id": "691c1b55-d58e-4f18-bbeb-e775490b8939",
   "metadata": {},
   "outputs": [],
   "source": [
    "def test(a,b,c):\n",
    "    return a,b,c"
   ]
  },
  {
   "cell_type": "code",
   "execution_count": 2,
   "id": "c534de2f-c6bf-4547-9b76-bae034a864ad",
   "metadata": {},
   "outputs": [
    {
     "data": {
      "text/plain": [
       "(1, 2, 3)"
      ]
     },
     "execution_count": 2,
     "metadata": {},
     "output_type": "execute_result"
    }
   ],
   "source": [
    "test(1,2,3)"
   ]
  },
  {
   "cell_type": "code",
   "execution_count": 3,
   "id": "ee6eba2e-c028-47d2-a491-f179a47a61a0",
   "metadata": {},
   "outputs": [],
   "source": [
    "def test2(*args):\n",
    "    return args"
   ]
  },
  {
   "cell_type": "code",
   "execution_count": 4,
   "id": "257731b6-67a9-4c6a-8f82-edc9c1216aa9",
   "metadata": {},
   "outputs": [
    {
     "data": {
      "text/plain": [
       "(1, 4, 2, 'jd', True)"
      ]
     },
     "execution_count": 4,
     "metadata": {},
     "output_type": "execute_result"
    }
   ],
   "source": [
    "test2(1,4,2,'jd', True)"
   ]
  },
  {
   "cell_type": "code",
   "execution_count": 5,
   "id": "b09117c5-fe66-4238-9871-bc69c7d22270",
   "metadata": {},
   "outputs": [],
   "source": [
    "def test3(*args):\n",
    "    l = []\n",
    "    for i in args:\n",
    "        if type(i) == int:\n",
    "            l.append(i)\n",
    "    result = sum(l)\n",
    "    return result"
   ]
  },
  {
   "cell_type": "code",
   "execution_count": 6,
   "id": "12fa6ed4-d543-4aa1-981b-9d079d3739c1",
   "metadata": {},
   "outputs": [
    {
     "data": {
      "text/plain": [
       "7"
      ]
     },
     "execution_count": 6,
     "metadata": {},
     "output_type": "execute_result"
    }
   ],
   "source": [
    "test3(1,4,2,'jd', True)"
   ]
  },
  {
   "cell_type": "code",
   "execution_count": 7,
   "id": "f98a52a2-8ffe-4147-9ea6-384ea5401b85",
   "metadata": {},
   "outputs": [],
   "source": [
    "l = [10,20,30,'Hello', [1,2,3,'Python'], True]"
   ]
  },
  {
   "cell_type": "code",
   "execution_count": 8,
   "id": "8097ce08-410e-4d3f-bfdc-ac31577f4421",
   "metadata": {},
   "outputs": [
    {
     "name": "stdout",
     "output_type": "stream",
     "text": [
      "10\n",
      "20\n",
      "30\n",
      "Hello\n",
      "[1, 2, 3, 'Python']\n",
      "True\n"
     ]
    }
   ],
   "source": [
    "for i in l:\n",
    "    print(i)"
   ]
  },
  {
   "cell_type": "code",
   "execution_count": 10,
   "id": "3d853b12-2858-45cd-8675-8858a56a98f5",
   "metadata": {},
   "outputs": [],
   "source": [
    "k = []\n",
    "for i in l:\n",
    "    if type(i) == int:\n",
    "        k.append(i)\n",
    "    elif type(i) == list: # now i = that nested list\n",
    "        for data in i:\n",
    "            if type(data) == int:\n",
    "                k.append(data)"
   ]
  },
  {
   "cell_type": "code",
   "execution_count": 11,
   "id": "dbea8f53-f3fd-4e34-8ce8-13db8a41a484",
   "metadata": {},
   "outputs": [
    {
     "data": {
      "text/plain": [
       "[10, 20, 30, 1, 2, 3]"
      ]
     },
     "execution_count": 11,
     "metadata": {},
     "output_type": "execute_result"
    }
   ],
   "source": [
    "k"
   ]
  },
  {
   "cell_type": "code",
   "execution_count": 9,
   "id": "19023154-c6ac-45ee-bd9c-36eec4b11c62",
   "metadata": {},
   "outputs": [
    {
     "data": {
      "text/plain": [
       "list"
      ]
     },
     "execution_count": 9,
     "metadata": {},
     "output_type": "execute_result"
    }
   ],
   "source": [
    "type([1,2])"
   ]
  },
  {
   "cell_type": "code",
   "execution_count": 12,
   "id": "fa8bc183-8ab9-4e00-867b-0effe96901a9",
   "metadata": {},
   "outputs": [],
   "source": [
    "def test3(*args):\n",
    "    k = []\n",
    "    for i in args:\n",
    "        if type(i) == int:\n",
    "            k.append(i)\n",
    "        elif type(i) == list:\n",
    "            for data in i:\n",
    "                if type(data) == int:\n",
    "                    k.append(data)\n",
    "    return k"
   ]
  },
  {
   "cell_type": "code",
   "execution_count": 13,
   "id": "6e583193-fd22-45f7-9ad1-65de15f37f8d",
   "metadata": {},
   "outputs": [
    {
     "data": {
      "text/plain": [
       "[10, 20, 30, 1, 2, 3]"
      ]
     },
     "execution_count": 13,
     "metadata": {},
     "output_type": "execute_result"
    }
   ],
   "source": [
    "test3(10,20,30,'Hello', [1,2,3,'Python'], True)"
   ]
  },
  {
   "cell_type": "code",
   "execution_count": 14,
   "id": "5c69c496-4c90-4ec3-ae07-6c5e8a4a5279",
   "metadata": {},
   "outputs": [],
   "source": [
    "def test4(a):\n",
    "    for i in range(1,a+1):\n",
    "        print('*' * i)"
   ]
  },
  {
   "cell_type": "code",
   "execution_count": 15,
   "id": "d9fccf56-3786-4200-b205-f851e3aadf76",
   "metadata": {},
   "outputs": [
    {
     "name": "stdout",
     "output_type": "stream",
     "text": [
      "*\n",
      "**\n",
      "***\n",
      "****\n",
      "*****\n"
     ]
    }
   ],
   "source": [
    "test4(5)"
   ]
  },
  {
   "cell_type": "code",
   "execution_count": 16,
   "id": "5539b0fc-2934-4f17-a423-a0a91a9b6d88",
   "metadata": {},
   "outputs": [],
   "source": [
    "def test5(a, *args):\n",
    "    return a, args"
   ]
  },
  {
   "cell_type": "code",
   "execution_count": 17,
   "id": "9eb40451-33c4-4e8e-8b85-a9696006168d",
   "metadata": {},
   "outputs": [
    {
     "data": {
      "text/plain": [
       "(1, (2, 3, 4, 5, 6, 7, 8, 9))"
      ]
     },
     "execution_count": 17,
     "metadata": {},
     "output_type": "execute_result"
    }
   ],
   "source": [
    "test5(1,2,3,4,5,6,7,8,9)"
   ]
  },
  {
   "cell_type": "code",
   "execution_count": 18,
   "id": "f87531cb-8709-438b-af06-82fb1a4224f0",
   "metadata": {},
   "outputs": [],
   "source": [
    "def test6(a,b,c,*args):\n",
    "    return a, b, c, args"
   ]
  },
  {
   "cell_type": "code",
   "execution_count": 19,
   "id": "175a4538-3401-4cdb-8821-c6226b53a5e1",
   "metadata": {},
   "outputs": [
    {
     "data": {
      "text/plain": [
       "(1, 2, 3, (4, 5, 6, 7, 8, 5, 4, 3, 2))"
      ]
     },
     "execution_count": 19,
     "metadata": {},
     "output_type": "execute_result"
    }
   ],
   "source": [
    "test6(1,2,3,4,5,6,7,8,5,4,3,2)"
   ]
  },
  {
   "cell_type": "markdown",
   "id": "dc8a09b4-3e37-47b5-be8e-be9b12c04624",
   "metadata": {},
   "source": [
    "# Kwargs"
   ]
  },
  {
   "cell_type": "code",
   "execution_count": 20,
   "id": "9d6a4c51-9963-4e28-9283-0a7fab34fabe",
   "metadata": {},
   "outputs": [],
   "source": [
    "def test7(**kwargs):\n",
    "    return kwargs"
   ]
  },
  {
   "cell_type": "code",
   "execution_count": 21,
   "id": "01ca0745-1f45-4557-8846-21cb317e9eda",
   "metadata": {},
   "outputs": [
    {
     "data": {
      "text/plain": [
       "{'a': 1, 'b': 5, 'c': 3}"
      ]
     },
     "execution_count": 21,
     "metadata": {},
     "output_type": "execute_result"
    }
   ],
   "source": [
    "test7(a=1,b=5,c=3)"
   ]
  },
  {
   "cell_type": "code",
   "execution_count": 22,
   "id": "24a9312b-3553-45f1-b007-7f3f00533403",
   "metadata": {},
   "outputs": [],
   "source": [
    "def test8(a,**kwargs):\n",
    "    return a, kwargs"
   ]
  },
  {
   "cell_type": "code",
   "execution_count": 23,
   "id": "ed8d197e-3394-4522-985c-db5e8733f6bc",
   "metadata": {},
   "outputs": [
    {
     "data": {
      "text/plain": [
       "(10, {'name': 'djb', 'city': 'hsbds'})"
      ]
     },
     "execution_count": 23,
     "metadata": {},
     "output_type": "execute_result"
    }
   ],
   "source": [
    "test8(10,name='djb', city= 'hsbds')"
   ]
  },
  {
   "cell_type": "code",
   "execution_count": 26,
   "id": "0fd5d019-e4d3-467f-8f63-ac5a41fb07d0",
   "metadata": {},
   "outputs": [],
   "source": [
    "def test9(a,*args,**kwargs):\n",
    "    return a, args, kwargs"
   ]
  },
  {
   "cell_type": "code",
   "execution_count": 27,
   "id": "01d1acee-8717-441c-9a1b-14d24e42100b",
   "metadata": {},
   "outputs": [
    {
     "data": {
      "text/plain": [
       "(1, (23, 34, 32, 42, 43, 53, 54), {'q': 2, 'v': 5, 'd': 3})"
      ]
     },
     "execution_count": 27,
     "metadata": {},
     "output_type": "execute_result"
    }
   ],
   "source": [
    "test9(1,23,34,32,42,43,53,54,q=2,v=5,d=3)"
   ]
  },
  {
   "cell_type": "code",
   "execution_count": 28,
   "id": "28e3ad72-1517-48b6-8913-5c69addf3e07",
   "metadata": {},
   "outputs": [],
   "source": [
    "def test10(*args, a):\n",
    "    return args , a"
   ]
  },
  {
   "cell_type": "code",
   "execution_count": 29,
   "id": "c6f66a5f-ff69-44d2-9f00-6d3a0d11cf51",
   "metadata": {},
   "outputs": [
    {
     "ename": "TypeError",
     "evalue": "test10() missing 1 required keyword-only argument: 'a'",
     "output_type": "error",
     "traceback": [
      "\u001b[1;31m---------------------------------------------------------------------------\u001b[0m",
      "\u001b[1;31mTypeError\u001b[0m                                 Traceback (most recent call last)",
      "Cell \u001b[1;32mIn[29], line 1\u001b[0m\n\u001b[1;32m----> 1\u001b[0m test10(\u001b[38;5;241m1\u001b[39m,\u001b[38;5;241m2\u001b[39m,\u001b[38;5;241m33\u001b[39m,\u001b[38;5;241m4\u001b[39m,\u001b[38;5;241m5\u001b[39m,\u001b[38;5;241m4\u001b[39m,\u001b[38;5;241m34\u001b[39m,\u001b[38;5;241m5\u001b[39m)\n",
      "\u001b[1;31mTypeError\u001b[0m: test10() missing 1 required keyword-only argument: 'a'"
     ]
    }
   ],
   "source": [
    "test10(1,2,33,4,5,4,34,5)"
   ]
  },
  {
   "cell_type": "code",
   "execution_count": 30,
   "id": "99931d7e-14db-44b1-a0eb-ff7265002b5b",
   "metadata": {},
   "outputs": [
    {
     "ename": "SyntaxError",
     "evalue": "arguments cannot follow var-keyword argument (3957820660.py, line 1)",
     "output_type": "error",
     "traceback": [
      "\u001b[1;36m  Cell \u001b[1;32mIn[30], line 1\u001b[1;36m\u001b[0m\n\u001b[1;33m    def test10(**kwargs, *args):\u001b[0m\n\u001b[1;37m                         ^\u001b[0m\n\u001b[1;31mSyntaxError\u001b[0m\u001b[1;31m:\u001b[0m arguments cannot follow var-keyword argument\n"
     ]
    }
   ],
   "source": [
    "def test10(**kwargs, *args):\n",
    "    return kwargs, args"
   ]
  },
  {
   "cell_type": "markdown",
   "id": "b706b780-191f-4699-9112-e6d8041c77a4",
   "metadata": {},
   "source": [
    "# Advanced function"
   ]
  },
  {
   "cell_type": "markdown",
   "id": "a5362ea6-a444-4567-b590-5b4156fe1fcd",
   "metadata": {},
   "source": [
    "List Comprehension"
   ]
  },
  {
   "cell_type": "code",
   "execution_count": 32,
   "id": "e287bf5f-9b84-4ee5-8421-19ac7ada41fc",
   "metadata": {},
   "outputs": [
    {
     "data": {
      "text/plain": [
       "[10, 20, 30, 'Hello', [1, 2, 3, 'Python'], True]"
      ]
     },
     "execution_count": 32,
     "metadata": {},
     "output_type": "execute_result"
    }
   ],
   "source": [
    "l"
   ]
  },
  {
   "cell_type": "code",
   "execution_count": 34,
   "id": "495e47a4-ea89-401e-9418-20249c1a2d66",
   "metadata": {},
   "outputs": [],
   "source": [
    "# condetion inside list"
   ]
  },
  {
   "cell_type": "code",
   "execution_count": 37,
   "id": "fc6987cf-ec30-4761-848e-9d439b4214c1",
   "metadata": {},
   "outputs": [
    {
     "name": "stdout",
     "output_type": "stream",
     "text": [
      "1\n",
      "2\n",
      "3\n",
      "4\n"
     ]
    }
   ],
   "source": [
    "for i in range(1,5):\n",
    "    print(i)"
   ]
  },
  {
   "cell_type": "code",
   "execution_count": 38,
   "id": "2c0a7033-24a6-4768-a4b6-aa5b1ee0f403",
   "metadata": {},
   "outputs": [
    {
     "data": {
      "text/plain": [
       "[1, 2, 3, 4]"
      ]
     },
     "execution_count": 38,
     "metadata": {},
     "output_type": "execute_result"
    }
   ],
   "source": [
    "[i for i in range(1,5)]"
   ]
  },
  {
   "cell_type": "code",
   "execution_count": 39,
   "id": "036351f3-370b-45ec-8d80-fe8251303af1",
   "metadata": {},
   "outputs": [
    {
     "data": {
      "text/plain": [
       "[2, 3, 4, 5]"
      ]
     },
     "execution_count": 39,
     "metadata": {},
     "output_type": "execute_result"
    }
   ],
   "source": [
    "[i+1 for i in range(1,5)]"
   ]
  },
  {
   "cell_type": "code",
   "execution_count": 40,
   "id": "2d35b123-90b0-4f2d-ae95-9c18c000bc91",
   "metadata": {},
   "outputs": [
    {
     "name": "stdout",
     "output_type": "stream",
     "text": [
      "2\n",
      "4\n",
      "6\n",
      "8\n",
      "10\n"
     ]
    }
   ],
   "source": [
    "for i in range(1,11):\n",
    "    if i % 2 == 0:\n",
    "        print(i)"
   ]
  },
  {
   "cell_type": "code",
   "execution_count": 41,
   "id": "9352abf9-f092-4014-b8a0-eef10c7186db",
   "metadata": {},
   "outputs": [
    {
     "data": {
      "text/plain": [
       "[2, 4, 6, 8, 10]"
      ]
     },
     "execution_count": 41,
     "metadata": {},
     "output_type": "execute_result"
    }
   ],
   "source": [
    "[i for i in range(1,11) if i % 2 == 0]"
   ]
  },
  {
   "cell_type": "code",
   "execution_count": 42,
   "id": "196cb54a-2989-44cf-83fa-f05a64f5de07",
   "metadata": {},
   "outputs": [],
   "source": [
    "# Dictionary Comprehension"
   ]
  },
  {
   "cell_type": "code",
   "execution_count": 43,
   "id": "1e299114-62d3-4092-8b76-cb0ee30b7d98",
   "metadata": {},
   "outputs": [
    {
     "data": {
      "text/plain": [
       "{1: 1, 2: 2, 3: 3, 4: 4}"
      ]
     },
     "execution_count": 43,
     "metadata": {},
     "output_type": "execute_result"
    }
   ],
   "source": [
    "{i:i for i in range(1,5)}"
   ]
  },
  {
   "cell_type": "code",
   "execution_count": 44,
   "id": "486fb265-0ae1-426b-ba2e-c505e9ded37d",
   "metadata": {},
   "outputs": [
    {
     "data": {
      "text/plain": [
       "{1: 1, 2: 4, 3: 9, 4: 16, 5: 25}"
      ]
     },
     "execution_count": 44,
     "metadata": {},
     "output_type": "execute_result"
    }
   ],
   "source": [
    "{i:i*i for i in range(1,6)}"
   ]
  },
  {
   "cell_type": "code",
   "execution_count": 45,
   "id": "82b684cf-ff86-46e0-ba37-e5a356c6a983",
   "metadata": {},
   "outputs": [
    {
     "data": {
      "text/plain": [
       "{1: 2, 2: 4, 3: 6, 4: 8, 5: 10}"
      ]
     },
     "execution_count": 45,
     "metadata": {},
     "output_type": "execute_result"
    }
   ],
   "source": [
    "{i:i+i for i in range(1,6)}"
   ]
  },
  {
   "cell_type": "markdown",
   "id": "bb0b0596-0f32-4dec-834d-c2780634d8fe",
   "metadata": {},
   "source": [
    "# Lambda Function"
   ]
  },
  {
   "cell_type": "code",
   "execution_count": 46,
   "id": "212ce01b-0c1b-4dc4-a7e3-03ac4090b0d8",
   "metadata": {},
   "outputs": [],
   "source": [
    "# What is lambda function ?\n"
   ]
  },
  {
   "cell_type": "code",
   "execution_count": 47,
   "id": "e519ef4e-5130-4754-be66-b6f07c7da1c2",
   "metadata": {},
   "outputs": [],
   "source": [
    "x = lambda a:a"
   ]
  },
  {
   "cell_type": "code",
   "execution_count": 48,
   "id": "5cf3c982-25f6-40d9-8e9c-362641e50320",
   "metadata": {},
   "outputs": [
    {
     "data": {
      "text/plain": [
       "10"
      ]
     },
     "execution_count": 48,
     "metadata": {},
     "output_type": "execute_result"
    }
   ],
   "source": [
    "x(10)"
   ]
  },
  {
   "cell_type": "code",
   "execution_count": 49,
   "id": "57a1f5b7-a05d-45eb-a80b-074fcecb4b22",
   "metadata": {},
   "outputs": [],
   "source": [
    "x = lambda a:a*a"
   ]
  },
  {
   "cell_type": "code",
   "execution_count": 50,
   "id": "3b6cfa94-e701-42d8-bfda-90f244f0a4e8",
   "metadata": {},
   "outputs": [
    {
     "data": {
      "text/plain": [
       "100"
      ]
     },
     "execution_count": 50,
     "metadata": {},
     "output_type": "execute_result"
    }
   ],
   "source": [
    "x(10)"
   ]
  },
  {
   "cell_type": "code",
   "execution_count": 51,
   "id": "ade48919-dcef-4db0-bf7f-8f5f95102053",
   "metadata": {},
   "outputs": [],
   "source": [
    "s = lambda *args:args"
   ]
  },
  {
   "cell_type": "code",
   "execution_count": 52,
   "id": "8dd35068-e4dd-4a9d-b864-4435662621f3",
   "metadata": {},
   "outputs": [
    {
     "data": {
      "text/plain": [
       "(1, 2, 3, 45, 6)"
      ]
     },
     "execution_count": 52,
     "metadata": {},
     "output_type": "execute_result"
    }
   ],
   "source": [
    "s(1,2,3,45,6)"
   ]
  },
  {
   "cell_type": "markdown",
   "id": "af6cee6b-5b97-4d27-91fa-fefbb8764a71",
   "metadata": {},
   "source": [
    "Question"
   ]
  },
  {
   "cell_type": "code",
   "execution_count": null,
   "id": "afb76686-7150-46a8-b158-c1aa78f3c1f1",
   "metadata": {},
   "outputs": [],
   "source": []
  }
 ],
 "metadata": {
  "kernelspec": {
   "display_name": "Python 3 (ipykernel)",
   "language": "python",
   "name": "python3"
  },
  "language_info": {
   "codemirror_mode": {
    "name": "ipython",
    "version": 3
   },
   "file_extension": ".py",
   "mimetype": "text/x-python",
   "name": "python",
   "nbconvert_exporter": "python",
   "pygments_lexer": "ipython3",
   "version": "3.12.4"
  }
 },
 "nbformat": 4,
 "nbformat_minor": 5
}

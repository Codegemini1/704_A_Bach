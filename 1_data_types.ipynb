{
 "cells": [
  {
   "cell_type": "markdown",
   "id": "113bd2d4-d53e-4a4c-a0e2-57dc6d476d69",
   "metadata": {},
   "source": [
    "# Int"
   ]
  },
  {
   "cell_type": "markdown",
   "id": "241138ef-14dd-4f61-b39d-cf20e5a46966",
   "metadata": {},
   "source": [
    "Complete Number"
   ]
  },
  {
   "cell_type": "raw",
   "id": "f15fcbb9-ce7b-4d7e-ac4f-a686b727fe68",
   "metadata": {},
   "source": [
    "Eg:\n",
    "No of family members\n",
    "--> 5,3,2\n",
    "\n",
    "Eg:\n",
    "No of Bank accounts\n",
    "--> 1,3,2"
   ]
  },
  {
   "cell_type": "code",
   "execution_count": 2,
   "id": "5da336fa-6b5c-4138-9201-31f75ca2ce94",
   "metadata": {},
   "outputs": [
    {
     "data": {
      "text/plain": [
       "5"
      ]
     },
     "execution_count": 2,
     "metadata": {},
     "output_type": "execute_result"
    }
   ],
   "source": [
    "5"
   ]
  },
  {
   "cell_type": "code",
   "execution_count": 3,
   "id": "5e7a83ec-729d-420c-bed6-7dfa8b3e3d26",
   "metadata": {},
   "outputs": [
    {
     "data": {
      "text/plain": [
       "int"
      ]
     },
     "execution_count": 3,
     "metadata": {},
     "output_type": "execute_result"
    }
   ],
   "source": [
    "type(5)"
   ]
  },
  {
   "cell_type": "code",
   "execution_count": 4,
   "id": "06f64f01-5fe7-4285-8e58-b8837fdef311",
   "metadata": {},
   "outputs": [
    {
     "data": {
      "text/plain": [
       "int"
      ]
     },
     "execution_count": 4,
     "metadata": {},
     "output_type": "execute_result"
    }
   ],
   "source": [
    "type(424)"
   ]
  },
  {
   "cell_type": "markdown",
   "id": "8a325b22-0cf5-458b-bb6e-7201036a1425",
   "metadata": {},
   "source": [
    "# Float"
   ]
  },
  {
   "cell_type": "markdown",
   "id": "836329ee-5c38-4fe9-8717-239a5a85ed20",
   "metadata": {},
   "source": [
    "Values in decimal format"
   ]
  },
  {
   "cell_type": "raw",
   "id": "97b9cebd-b4e6-4e8a-acd9-946c352dd5b2",
   "metadata": {},
   "source": [
    "Eg:\n",
    "Weight\n",
    "--> 54.330\n",
    "Height\n",
    "--> 5.3"
   ]
  },
  {
   "cell_type": "code",
   "execution_count": 5,
   "id": "2486ab00-0e23-4bb5-817e-fbc85de58851",
   "metadata": {},
   "outputs": [
    {
     "data": {
      "text/plain": [
       "54.33"
      ]
     },
     "execution_count": 5,
     "metadata": {},
     "output_type": "execute_result"
    }
   ],
   "source": [
    "54.330"
   ]
  },
  {
   "cell_type": "code",
   "execution_count": 6,
   "id": "9ba5145a-2c18-43ab-b493-d06bc5d5a295",
   "metadata": {},
   "outputs": [
    {
     "data": {
      "text/plain": [
       "float"
      ]
     },
     "execution_count": 6,
     "metadata": {},
     "output_type": "execute_result"
    }
   ],
   "source": [
    "type(54.330)"
   ]
  },
  {
   "cell_type": "code",
   "execution_count": 7,
   "id": "1edd54d6-ef5a-4c19-829f-cf5b7ab2af63",
   "metadata": {},
   "outputs": [
    {
     "data": {
      "text/plain": [
       "float"
      ]
     },
     "execution_count": 7,
     "metadata": {},
     "output_type": "execute_result"
    }
   ],
   "source": [
    "type(5.3)"
   ]
  },
  {
   "cell_type": "markdown",
   "id": "b9ad0a5f-0726-4293-bd26-1f88a92e73ae",
   "metadata": {},
   "source": [
    "# Complex Numbers"
   ]
  },
  {
   "cell_type": "markdown",
   "id": "340c0e23-d8a4-4f27-af0a-418ba5154497",
   "metadata": {},
   "source": [
    "Vector values"
   ]
  },
  {
   "cell_type": "code",
   "execution_count": 8,
   "id": "f4f594ce-f58e-447a-ae15-6e067147b9ec",
   "metadata": {},
   "outputs": [
    {
     "data": {
      "text/plain": [
       "(10+5j)"
      ]
     },
     "execution_count": 8,
     "metadata": {},
     "output_type": "execute_result"
    }
   ],
   "source": [
    "10 + 5j"
   ]
  },
  {
   "cell_type": "code",
   "execution_count": 9,
   "id": "f4b87c08-1bdd-4a59-b5d8-165693f8286a",
   "metadata": {},
   "outputs": [
    {
     "data": {
      "text/plain": [
       "complex"
      ]
     },
     "execution_count": 9,
     "metadata": {},
     "output_type": "execute_result"
    }
   ],
   "source": [
    "type(10+5j)"
   ]
  },
  {
   "cell_type": "markdown",
   "id": "3b7eb384-80c4-4edf-8ba8-c7634e821188",
   "metadata": {},
   "source": [
    "# String"
   ]
  },
  {
   "cell_type": "code",
   "execution_count": 10,
   "id": "8f750db5-3f03-406c-946d-d16414434c81",
   "metadata": {},
   "outputs": [
    {
     "data": {
      "text/plain": [
       "'Hello'"
      ]
     },
     "execution_count": 10,
     "metadata": {},
     "output_type": "execute_result"
    }
   ],
   "source": [
    "'Hello'"
   ]
  },
  {
   "cell_type": "code",
   "execution_count": 11,
   "id": "f134ab39-ffcf-4bb2-b4fc-ca20fcdd7409",
   "metadata": {},
   "outputs": [
    {
     "data": {
      "text/plain": [
       "'Hello Python'"
      ]
     },
     "execution_count": 11,
     "metadata": {},
     "output_type": "execute_result"
    }
   ],
   "source": [
    "\"Hello Python\""
   ]
  },
  {
   "cell_type": "code",
   "execution_count": 12,
   "id": "4944d683-8b1b-4105-b0de-d0b97de1c307",
   "metadata": {},
   "outputs": [
    {
     "data": {
      "text/plain": [
       "'This is my first line.\\nThis is my second line.\\nThis is my third line.'"
      ]
     },
     "execution_count": 12,
     "metadata": {},
     "output_type": "execute_result"
    }
   ],
   "source": [
    "\"\"\"This is my first line.\n",
    "This is my second line.\n",
    "This is my third line.\"\"\""
   ]
  },
  {
   "cell_type": "code",
   "execution_count": 13,
   "id": "cf749d34-748f-4865-9bea-31eeb02aa018",
   "metadata": {},
   "outputs": [
    {
     "name": "stdout",
     "output_type": "stream",
     "text": [
      "This is my first line.\n",
      "This is my second line.\n",
      "This is my third line.\n"
     ]
    }
   ],
   "source": [
    "print(\"\"\"This is my first line.\n",
    "This is my second line.\n",
    "This is my third line.\"\"\")"
   ]
  },
  {
   "cell_type": "code",
   "execution_count": 14,
   "id": "f11b60df-d3dc-4473-b412-1ecac500e37e",
   "metadata": {},
   "outputs": [],
   "source": [
    "# How to write down multiple line statement in python ?"
   ]
  },
  {
   "cell_type": "code",
   "execution_count": 15,
   "id": "3a2dcbc2-9668-415c-894f-ee8757cc755a",
   "metadata": {},
   "outputs": [
    {
     "data": {
      "text/plain": [
       "str"
      ]
     },
     "execution_count": 15,
     "metadata": {},
     "output_type": "execute_result"
    }
   ],
   "source": [
    "type('Hello')"
   ]
  },
  {
   "cell_type": "markdown",
   "id": "b5e16657-57d5-4af3-9a6a-160d342f1035",
   "metadata": {},
   "source": [
    "# Boolean"
   ]
  },
  {
   "cell_type": "markdown",
   "id": "1eb4de18-a147-4aa8-91f7-ab6511a3b597",
   "metadata": {},
   "source": [
    "True False"
   ]
  },
  {
   "cell_type": "code",
   "execution_count": 16,
   "id": "76de69f0-0e4a-4e10-87fe-2cecc0f8a570",
   "metadata": {},
   "outputs": [
    {
     "data": {
      "text/plain": [
       "False"
      ]
     },
     "execution_count": 16,
     "metadata": {},
     "output_type": "execute_result"
    }
   ],
   "source": [
    "10 < 5"
   ]
  },
  {
   "cell_type": "code",
   "execution_count": 17,
   "id": "ba64423a-072f-4394-9687-523e84727f97",
   "metadata": {},
   "outputs": [
    {
     "data": {
      "text/plain": [
       "True"
      ]
     },
     "execution_count": 17,
     "metadata": {},
     "output_type": "execute_result"
    }
   ],
   "source": [
    "5 > 1"
   ]
  },
  {
   "cell_type": "code",
   "execution_count": null,
   "id": "c2e616c0-2e84-43a3-96bf-1d992a82c082",
   "metadata": {},
   "outputs": [],
   "source": []
  }
 ],
 "metadata": {
  "kernelspec": {
   "display_name": "Python 3 (ipykernel)",
   "language": "python",
   "name": "python3"
  },
  "language_info": {
   "codemirror_mode": {
    "name": "ipython",
    "version": 3
   },
   "file_extension": ".py",
   "mimetype": "text/x-python",
   "name": "python",
   "nbconvert_exporter": "python",
   "pygments_lexer": "ipython3",
   "version": "3.12.4"
  }
 },
 "nbformat": 4,
 "nbformat_minor": 5
}

{
 "cells": [
  {
   "cell_type": "code",
   "execution_count": 5,
   "id": "2c458d7b-03e0-429d-b86c-430cb23100af",
   "metadata": {},
   "outputs": [],
   "source": [
    "age = 19"
   ]
  },
  {
   "cell_type": "code",
   "execution_count": 6,
   "id": "d2f8a910-bceb-4f8c-97e8-286d3a75220b",
   "metadata": {},
   "outputs": [
    {
     "data": {
      "text/plain": [
       "19"
      ]
     },
     "execution_count": 6,
     "metadata": {},
     "output_type": "execute_result"
    }
   ],
   "source": [
    "age"
   ]
  },
  {
   "cell_type": "code",
   "execution_count": 7,
   "id": "a83f3896-c96b-44d8-94e4-e3c01fc4e43d",
   "metadata": {},
   "outputs": [
    {
     "name": "stdout",
     "output_type": "stream",
     "text": [
      "You can drive Car\n"
     ]
    }
   ],
   "source": [
    "if age > 18:\n",
    "    print('You can drive Car')\n",
    "else:\n",
    "    print('You are not allowed to drive car')"
   ]
  },
  {
   "cell_type": "code",
   "execution_count": 3,
   "id": "34869ce7-d559-45ee-af66-5ff2dd3c653f",
   "metadata": {},
   "outputs": [
    {
     "data": {
      "text/plain": [
       "False"
      ]
     },
     "execution_count": 3,
     "metadata": {},
     "output_type": "execute_result"
    }
   ],
   "source": [
    "age > 18"
   ]
  },
  {
   "cell_type": "code",
   "execution_count": 10,
   "id": "af3ea075-a987-40a0-8501-823845b663de",
   "metadata": {},
   "outputs": [],
   "source": [
    "marks = 6"
   ]
  },
  {
   "cell_type": "code",
   "execution_count": 11,
   "id": "dfb94ce5-91f8-4f88-afdb-f097bcbbc7ef",
   "metadata": {},
   "outputs": [
    {
     "name": "stdout",
     "output_type": "stream",
     "text": [
      "fail\n"
     ]
    }
   ],
   "source": [
    "if marks > 35:\n",
    "    print('Pass')\n",
    "else:\n",
    "    print('fail')"
   ]
  },
  {
   "cell_type": "code",
   "execution_count": 12,
   "id": "b16c51c8-1e32-41e1-b8d1-218e85cdb079",
   "metadata": {},
   "outputs": [],
   "source": [
    "# Multiple Condetions"
   ]
  },
  {
   "cell_type": "code",
   "execution_count": 15,
   "id": "e108302c-e871-4c2e-8788-e4625f3a9b90",
   "metadata": {},
   "outputs": [],
   "source": [
    "marks = 95"
   ]
  },
  {
   "cell_type": "code",
   "execution_count": 16,
   "id": "9d56199f-d2cc-45b9-a1c6-e74e1948a410",
   "metadata": {},
   "outputs": [
    {
     "name": "stdout",
     "output_type": "stream",
     "text": [
      "A+\n"
     ]
    }
   ],
   "source": [
    "if marks > 90:\n",
    "    print('A+')\n",
    "elif marks > 70:\n",
    "    print('B')\n",
    "elif marks > 35:\n",
    "    print('C')\n",
    "else:\n",
    "    print('Fail')"
   ]
  },
  {
   "cell_type": "code",
   "execution_count": 19,
   "id": "ed382808-c3b0-4863-b01c-b298cc26716d",
   "metadata": {},
   "outputs": [],
   "source": [
    "age = 55"
   ]
  },
  {
   "cell_type": "code",
   "execution_count": 20,
   "id": "813096c7-4c7b-4b54-a58a-46a08106a58d",
   "metadata": {},
   "outputs": [
    {
     "name": "stdout",
     "output_type": "stream",
     "text": [
      "Working person\n"
     ]
    }
   ],
   "source": [
    "if age > 60:\n",
    "    print('Aged Person')\n",
    "elif age > 30:\n",
    "    print('Working person')\n",
    "elif age > 18:\n",
    "    print('College Student')\n",
    "else:\n",
    "    print('Child')"
   ]
  },
  {
   "cell_type": "code",
   "execution_count": 21,
   "id": "0ee296f4-49e9-4f37-8708-e9c6faf6ee75",
   "metadata": {},
   "outputs": [],
   "source": [
    "# Even or odd"
   ]
  },
  {
   "cell_type": "code",
   "execution_count": 23,
   "id": "57c036ea-91e1-4a0f-b798-34c60e55cffd",
   "metadata": {},
   "outputs": [
    {
     "name": "stdin",
     "output_type": "stream",
     "text": [
      "Enter Number  7\n"
     ]
    },
    {
     "name": "stdout",
     "output_type": "stream",
     "text": [
      "Odd\n"
     ]
    }
   ],
   "source": [
    "num = int(input('Enter Number '))\n",
    "if num % 2 == 0:\n",
    "    print('Even')\n",
    "else:\n",
    "    print('Odd')"
   ]
  },
  {
   "cell_type": "code",
   "execution_count": 24,
   "id": "b358c468-6205-4d0b-8377-3abb27cd1736",
   "metadata": {},
   "outputs": [
    {
     "data": {
      "text/plain": [
       "1"
      ]
     },
     "execution_count": 24,
     "metadata": {},
     "output_type": "execute_result"
    }
   ],
   "source": [
    "num % 2"
   ]
  },
  {
   "cell_type": "code",
   "execution_count": null,
   "id": "61614d58-6a1b-4065-975d-81fa4795c2e5",
   "metadata": {},
   "outputs": [],
   "source": []
  }
 ],
 "metadata": {
  "kernelspec": {
   "display_name": "Python 3 (ipykernel)",
   "language": "python",
   "name": "python3"
  },
  "language_info": {
   "codemirror_mode": {
    "name": "ipython",
    "version": 3
   },
   "file_extension": ".py",
   "mimetype": "text/x-python",
   "name": "python",
   "nbconvert_exporter": "python",
   "pygments_lexer": "ipython3",
   "version": "3.12.4"
  }
 },
 "nbformat": 4,
 "nbformat_minor": 5
}

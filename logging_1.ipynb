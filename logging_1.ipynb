{
 "cells": [
  {
   "cell_type": "code",
   "execution_count": 2,
   "id": "dffd5c50-9645-4bd3-89cd-025085313d2e",
   "metadata": {},
   "outputs": [
    {
     "name": "stdout",
     "output_type": "stream",
     "text": [
      "division by zero\n"
     ]
    }
   ],
   "source": [
    "try:\n",
    "    print(1/0)\n",
    "except Exception as e:\n",
    "    print(e)"
   ]
  },
  {
   "cell_type": "code",
   "execution_count": 1,
   "id": "a753c8d6-0997-4556-ab60-7d441874dd8e",
   "metadata": {},
   "outputs": [
    {
     "ename": "ZeroDivisionError",
     "evalue": "division by zero",
     "output_type": "error",
     "traceback": [
      "\u001b[1;31m---------------------------------------------------------------------------\u001b[0m",
      "\u001b[1;31mZeroDivisionError\u001b[0m                         Traceback (most recent call last)",
      "Cell \u001b[1;32mIn[1], line 1\u001b[0m\n\u001b[1;32m----> 1\u001b[0m \u001b[38;5;241m1\u001b[39m\u001b[38;5;241m/\u001b[39m\u001b[38;5;241m0\u001b[39m\n",
      "\u001b[1;31mZeroDivisionError\u001b[0m: division by zero"
     ]
    }
   ],
   "source": [
    "1/0"
   ]
  },
  {
   "cell_type": "code",
   "execution_count": 3,
   "id": "a8a85df7-1637-45ac-b440-e056097d8705",
   "metadata": {},
   "outputs": [],
   "source": [
    "import logging"
   ]
  },
  {
   "cell_type": "code",
   "execution_count": 4,
   "id": "ddeef394-1901-48a7-abab-096fdef51890",
   "metadata": {},
   "outputs": [],
   "source": [
    "logging.basicConfig(filename = 'my_logs.log', level = logging.DEBUG, \n",
    "                   format = '%(asctime)s - %(levelname)s - %(message)s')"
   ]
  },
  {
   "cell_type": "code",
   "execution_count": 6,
   "id": "7bfd9a63-bada-4b3f-a504-76dc02464c8e",
   "metadata": {},
   "outputs": [],
   "source": [
    "logging.debug('This is my DEBUG log')\n",
    "logging.info('This is my informatioon log')\n",
    "logging.warning('This is my warning log')"
   ]
  },
  {
   "cell_type": "code",
   "execution_count": 11,
   "id": "76e0f9e4-98e6-4722-9a2d-384b9bf9d382",
   "metadata": {},
   "outputs": [],
   "source": [
    "def devide(a,b):\n",
    "    try:\n",
    "        logging.info('Devide Function Started')\n",
    "        result = a / b\n",
    "        #logging.info(f'Input of {a} and {b} having result of {result}')\n",
    "        return result\n",
    "    except Exception as e:\n",
    "        print(e)\n",
    "        logging.error('Error happend in devide function')\n",
    "        logging.error(e)"
   ]
  },
  {
   "cell_type": "code",
   "execution_count": 12,
   "id": "6a8774d2-c31a-4000-a105-068e6f2c6f19",
   "metadata": {},
   "outputs": [
    {
     "data": {
      "text/plain": [
       "2.0"
      ]
     },
     "execution_count": 12,
     "metadata": {},
     "output_type": "execute_result"
    }
   ],
   "source": [
    "devide(10,5)"
   ]
  },
  {
   "cell_type": "code",
   "execution_count": 13,
   "id": "f85c64fb-997e-48b1-adc4-88c5b5c8924b",
   "metadata": {},
   "outputs": [
    {
     "name": "stdout",
     "output_type": "stream",
     "text": [
      "division by zero\n"
     ]
    }
   ],
   "source": [
    "devide(3,0)"
   ]
  },
  {
   "cell_type": "code",
   "execution_count": 14,
   "id": "3b50ca30-035f-474d-806a-67750688d889",
   "metadata": {},
   "outputs": [],
   "source": [
    "logging.shutdown()"
   ]
  },
  {
   "cell_type": "code",
   "execution_count": 15,
   "id": "986d1ed8-7929-4c41-a0ed-fdbe226bf6df",
   "metadata": {},
   "outputs": [],
   "source": [
    "# You have to write 5 functions by using logging\n",
    "# Add, Mod, Even odd, Square, Int data type"
   ]
  },
  {
   "cell_type": "code",
   "execution_count": null,
   "id": "cc895eb0-3365-4708-87a2-4d47e3ab7082",
   "metadata": {},
   "outputs": [],
   "source": []
  }
 ],
 "metadata": {
  "kernelspec": {
   "display_name": "Python 3 (ipykernel)",
   "language": "python",
   "name": "python3"
  },
  "language_info": {
   "codemirror_mode": {
    "name": "ipython",
    "version": 3
   },
   "file_extension": ".py",
   "mimetype": "text/x-python",
   "name": "python",
   "nbconvert_exporter": "python",
   "pygments_lexer": "ipython3",
   "version": "3.12.4"
  }
 },
 "nbformat": 4,
 "nbformat_minor": 5
}

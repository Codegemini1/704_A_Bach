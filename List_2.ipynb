{
 "cells": [
  {
   "cell_type": "markdown",
   "id": "99faf2ad-41af-4a1e-b53e-fc4e7b5cfa87",
   "metadata": {},
   "source": [
    "# Nested List"
   ]
  },
  {
   "cell_type": "code",
   "execution_count": 1,
   "id": "5230f1f2-6040-4310-9bbb-40cf941ba76d",
   "metadata": {},
   "outputs": [],
   "source": [
    "l = [1,2,3,4,[10,20,30], 5,6]"
   ]
  },
  {
   "cell_type": "code",
   "execution_count": 2,
   "id": "358c3851-18c0-46e0-a7eb-c803c97deeac",
   "metadata": {},
   "outputs": [
    {
     "data": {
      "text/plain": [
       "[1, 2, 3, 4, [10, 20, 30], 5, 6]"
      ]
     },
     "execution_count": 2,
     "metadata": {},
     "output_type": "execute_result"
    }
   ],
   "source": [
    "l"
   ]
  },
  {
   "cell_type": "code",
   "execution_count": 3,
   "id": "9e6b713e-15ce-4c9f-a463-8a0d68596cf2",
   "metadata": {},
   "outputs": [
    {
     "data": {
      "text/plain": [
       "1"
      ]
     },
     "execution_count": 3,
     "metadata": {},
     "output_type": "execute_result"
    }
   ],
   "source": [
    "l[0]"
   ]
  },
  {
   "cell_type": "code",
   "execution_count": 4,
   "id": "cd73b7f1-d64c-49f5-b5d2-a8cc143ed593",
   "metadata": {},
   "outputs": [
    {
     "data": {
      "text/plain": [
       "2"
      ]
     },
     "execution_count": 4,
     "metadata": {},
     "output_type": "execute_result"
    }
   ],
   "source": [
    "l[1]"
   ]
  },
  {
   "cell_type": "code",
   "execution_count": 5,
   "id": "e5856756-c663-4a21-9905-7892240a478a",
   "metadata": {},
   "outputs": [
    {
     "data": {
      "text/plain": [
       "3"
      ]
     },
     "execution_count": 5,
     "metadata": {},
     "output_type": "execute_result"
    }
   ],
   "source": [
    "l[2]"
   ]
  },
  {
   "cell_type": "code",
   "execution_count": 6,
   "id": "6870376a-083d-4dfe-bb54-f6edf378c1ac",
   "metadata": {},
   "outputs": [
    {
     "data": {
      "text/plain": [
       "4"
      ]
     },
     "execution_count": 6,
     "metadata": {},
     "output_type": "execute_result"
    }
   ],
   "source": [
    "l[3]"
   ]
  },
  {
   "cell_type": "code",
   "execution_count": 7,
   "id": "5272f5c3-3494-4e09-8240-47cc4378aa97",
   "metadata": {},
   "outputs": [
    {
     "data": {
      "text/plain": [
       "[10, 20, 30]"
      ]
     },
     "execution_count": 7,
     "metadata": {},
     "output_type": "execute_result"
    }
   ],
   "source": [
    "l[4]"
   ]
  },
  {
   "cell_type": "code",
   "execution_count": 9,
   "id": "078e3382-21bd-460c-a7d4-cece4dc085fd",
   "metadata": {},
   "outputs": [
    {
     "data": {
      "text/plain": [
       "20"
      ]
     },
     "execution_count": 9,
     "metadata": {},
     "output_type": "execute_result"
    }
   ],
   "source": [
    "l[4][1]"
   ]
  },
  {
   "cell_type": "code",
   "execution_count": 11,
   "id": "6a9b89d9-defc-47ef-9201-ce5b449934c2",
   "metadata": {},
   "outputs": [
    {
     "data": {
      "text/plain": [
       "30"
      ]
     },
     "execution_count": 11,
     "metadata": {},
     "output_type": "execute_result"
    }
   ],
   "source": [
    "l[4][2]"
   ]
  },
  {
   "cell_type": "code",
   "execution_count": 12,
   "id": "f765fb47-8657-4832-a39e-671e75b32338",
   "metadata": {},
   "outputs": [],
   "source": [
    "l2 = [1,2,3,4,[10,20,30,[100,200,300], 40], 5]"
   ]
  },
  {
   "cell_type": "code",
   "execution_count": 13,
   "id": "33b2086e-14d9-4270-93aa-507ff009a479",
   "metadata": {},
   "outputs": [
    {
     "data": {
      "text/plain": [
       "[1, 2, 3, 4, [10, 20, 30, [100, 200, 300], 40], 5]"
      ]
     },
     "execution_count": 13,
     "metadata": {},
     "output_type": "execute_result"
    }
   ],
   "source": [
    "l2"
   ]
  },
  {
   "cell_type": "code",
   "execution_count": 14,
   "id": "6863dbb0-bcdd-43e6-b644-e8e162bbaf19",
   "metadata": {},
   "outputs": [
    {
     "data": {
      "text/plain": [
       "[10, 20, 30, [100, 200, 300], 40]"
      ]
     },
     "execution_count": 14,
     "metadata": {},
     "output_type": "execute_result"
    }
   ],
   "source": [
    "l2[4]"
   ]
  },
  {
   "cell_type": "code",
   "execution_count": 15,
   "id": "8c811682-0ac6-43d1-a5a8-494f2d3df2b4",
   "metadata": {},
   "outputs": [
    {
     "data": {
      "text/plain": [
       "[100, 200, 300]"
      ]
     },
     "execution_count": 15,
     "metadata": {},
     "output_type": "execute_result"
    }
   ],
   "source": [
    "l2[4][3]"
   ]
  },
  {
   "cell_type": "code",
   "execution_count": 18,
   "id": "c7527b08-808d-433b-b025-43e24be7ab33",
   "metadata": {},
   "outputs": [
    {
     "data": {
      "text/plain": [
       "100"
      ]
     },
     "execution_count": 18,
     "metadata": {},
     "output_type": "execute_result"
    }
   ],
   "source": [
    "l2[4][3][0]"
   ]
  },
  {
   "cell_type": "markdown",
   "id": "0d8750b4-e1c0-409e-9705-f9e115be0984",
   "metadata": {},
   "source": [
    "# Functions on list"
   ]
  },
  {
   "cell_type": "code",
   "execution_count": 20,
   "id": "474cdfca-fea3-4be3-9c90-7613a7e786cd",
   "metadata": {},
   "outputs": [],
   "source": [
    "a = [1,2,3,4]"
   ]
  },
  {
   "cell_type": "code",
   "execution_count": 21,
   "id": "3672eb2b-c305-45fe-a2d3-304e94825dd0",
   "metadata": {},
   "outputs": [
    {
     "data": {
      "text/plain": [
       "[1, 2, 3, 4]"
      ]
     },
     "execution_count": 21,
     "metadata": {},
     "output_type": "execute_result"
    }
   ],
   "source": [
    "a"
   ]
  },
  {
   "cell_type": "code",
   "execution_count": 22,
   "id": "57299512-ad42-4b02-8d39-78741625ec12",
   "metadata": {},
   "outputs": [],
   "source": [
    "a.append(10)"
   ]
  },
  {
   "cell_type": "code",
   "execution_count": 23,
   "id": "1203feb4-56ed-4664-9169-a95a697653e8",
   "metadata": {},
   "outputs": [
    {
     "data": {
      "text/plain": [
       "[1, 2, 3, 4, 10]"
      ]
     },
     "execution_count": 23,
     "metadata": {},
     "output_type": "execute_result"
    }
   ],
   "source": [
    "a"
   ]
  },
  {
   "cell_type": "code",
   "execution_count": 24,
   "id": "992f37e8-be1e-4533-b91f-613bb6d66f18",
   "metadata": {},
   "outputs": [],
   "source": [
    "a.append([1,2])"
   ]
  },
  {
   "cell_type": "code",
   "execution_count": 25,
   "id": "4f1e7dac-5c82-4cbb-b20d-0bd0575197e8",
   "metadata": {},
   "outputs": [
    {
     "data": {
      "text/plain": [
       "[1, 2, 3, 4, 10, [1, 2]]"
      ]
     },
     "execution_count": 25,
     "metadata": {},
     "output_type": "execute_result"
    }
   ],
   "source": [
    "a"
   ]
  },
  {
   "cell_type": "code",
   "execution_count": 26,
   "id": "05dbe5fa-31a8-47d9-9c85-f09843160e67",
   "metadata": {},
   "outputs": [],
   "source": [
    "a.extend([1,2])"
   ]
  },
  {
   "cell_type": "code",
   "execution_count": 27,
   "id": "3348c1b2-869b-493b-a919-2cdd776f08f5",
   "metadata": {},
   "outputs": [
    {
     "data": {
      "text/plain": [
       "[1, 2, 3, 4, 10, [1, 2], 1, 2]"
      ]
     },
     "execution_count": 27,
     "metadata": {},
     "output_type": "execute_result"
    }
   ],
   "source": [
    "a"
   ]
  },
  {
   "cell_type": "code",
   "execution_count": 28,
   "id": "8f2963c2-f3d3-4af4-b532-9754a9891e39",
   "metadata": {},
   "outputs": [],
   "source": [
    "a.extend('hello')"
   ]
  },
  {
   "cell_type": "code",
   "execution_count": 29,
   "id": "b73712fb-51f5-4396-8169-b1935d89e3e1",
   "metadata": {},
   "outputs": [
    {
     "data": {
      "text/plain": [
       "[1, 2, 3, 4, 10, [1, 2], 1, 2, 'h', 'e', 'l', 'l', 'o']"
      ]
     },
     "execution_count": 29,
     "metadata": {},
     "output_type": "execute_result"
    }
   ],
   "source": [
    "a"
   ]
  },
  {
   "cell_type": "code",
   "execution_count": 30,
   "id": "a468900a-e375-4df0-ae3e-c7c4d9b2a0ef",
   "metadata": {},
   "outputs": [],
   "source": [
    "a.append('hello')"
   ]
  },
  {
   "cell_type": "code",
   "execution_count": 31,
   "id": "0770ef31-2d76-471e-80ae-673777bc2634",
   "metadata": {},
   "outputs": [
    {
     "data": {
      "text/plain": [
       "[1, 2, 3, 4, 10, [1, 2], 1, 2, 'h', 'e', 'l', 'l', 'o', 'hello']"
      ]
     },
     "execution_count": 31,
     "metadata": {},
     "output_type": "execute_result"
    }
   ],
   "source": [
    "a"
   ]
  },
  {
   "cell_type": "code",
   "execution_count": 32,
   "id": "bbe8bf84-176a-4c17-9f1b-c80c7bda0513",
   "metadata": {},
   "outputs": [
    {
     "data": {
      "text/plain": [
       "2"
      ]
     },
     "execution_count": 32,
     "metadata": {},
     "output_type": "execute_result"
    }
   ],
   "source": [
    "a.count(1)"
   ]
  },
  {
   "cell_type": "code",
   "execution_count": 34,
   "id": "746689fd-fdbe-4c51-a2bb-05286e223186",
   "metadata": {},
   "outputs": [
    {
     "data": {
      "text/plain": [
       "1"
      ]
     },
     "execution_count": 34,
     "metadata": {},
     "output_type": "execute_result"
    }
   ],
   "source": [
    "a.count(3)"
   ]
  },
  {
   "cell_type": "code",
   "execution_count": 35,
   "id": "4174a24a-de62-4010-a2c0-0391c6312093",
   "metadata": {},
   "outputs": [
    {
     "data": {
      "text/plain": [
       "2"
      ]
     },
     "execution_count": 35,
     "metadata": {},
     "output_type": "execute_result"
    }
   ],
   "source": [
    "a.count('l')"
   ]
  },
  {
   "cell_type": "code",
   "execution_count": 36,
   "id": "a342b7f0-598f-4ce4-b290-2e56ee18bca0",
   "metadata": {},
   "outputs": [
    {
     "data": {
      "text/plain": [
       "4"
      ]
     },
     "execution_count": 36,
     "metadata": {},
     "output_type": "execute_result"
    }
   ],
   "source": [
    "a.index(10)"
   ]
  },
  {
   "cell_type": "code",
   "execution_count": 37,
   "id": "5a75704d-aed9-45db-8281-74b89ffc7639",
   "metadata": {},
   "outputs": [
    {
     "data": {
      "text/plain": [
       "0"
      ]
     },
     "execution_count": 37,
     "metadata": {},
     "output_type": "execute_result"
    }
   ],
   "source": [
    "a.index(1)"
   ]
  },
  {
   "cell_type": "code",
   "execution_count": 38,
   "id": "b0662c1e-3418-4c9d-bef1-9c5cf6c1a399",
   "metadata": {},
   "outputs": [
    {
     "data": {
      "text/plain": [
       "10"
      ]
     },
     "execution_count": 38,
     "metadata": {},
     "output_type": "execute_result"
    }
   ],
   "source": [
    "a.index('l') # nearest one index"
   ]
  },
  {
   "cell_type": "code",
   "execution_count": 39,
   "id": "8fccfae4-072b-4c20-a7e0-b451e060515d",
   "metadata": {},
   "outputs": [
    {
     "data": {
      "text/plain": [
       "[1, 2, 3, 4, 10, [1, 2], 1, 2, 'h', 'e', 'l', 'l', 'o', 'hello']"
      ]
     },
     "execution_count": 39,
     "metadata": {},
     "output_type": "execute_result"
    }
   ],
   "source": [
    "a"
   ]
  },
  {
   "cell_type": "code",
   "execution_count": 40,
   "id": "dce5e422-e651-42d2-9032-e39499548131",
   "metadata": {},
   "outputs": [],
   "source": [
    "a.insert(1,200)"
   ]
  },
  {
   "cell_type": "code",
   "execution_count": 41,
   "id": "92266fb3-45ea-4632-983d-044427c8f7f5",
   "metadata": {},
   "outputs": [
    {
     "data": {
      "text/plain": [
       "[1, 200, 2, 3, 4, 10, [1, 2], 1, 2, 'h', 'e', 'l', 'l', 'o', 'hello']"
      ]
     },
     "execution_count": 41,
     "metadata": {},
     "output_type": "execute_result"
    }
   ],
   "source": [
    "a"
   ]
  },
  {
   "cell_type": "code",
   "execution_count": 42,
   "id": "3be3cd9a-50cc-4b05-a378-872d84b6b8f3",
   "metadata": {},
   "outputs": [],
   "source": [
    "# a[0] = 100"
   ]
  },
  {
   "cell_type": "code",
   "execution_count": 43,
   "id": "3c4d9063-948f-4a9a-b9bb-528769ea94eb",
   "metadata": {},
   "outputs": [],
   "source": [
    "a.remove(10)"
   ]
  },
  {
   "cell_type": "code",
   "execution_count": 44,
   "id": "bb3fc70a-618c-4359-81f1-c05531df56b8",
   "metadata": {},
   "outputs": [
    {
     "data": {
      "text/plain": [
       "[1, 200, 2, 3, 4, [1, 2], 1, 2, 'h', 'e', 'l', 'l', 'o', 'hello']"
      ]
     },
     "execution_count": 44,
     "metadata": {},
     "output_type": "execute_result"
    }
   ],
   "source": [
    "a"
   ]
  },
  {
   "cell_type": "code",
   "execution_count": 45,
   "id": "32c11556-e70a-4d9c-a5ba-19d901a22ca2",
   "metadata": {},
   "outputs": [],
   "source": [
    "a.remove(1)"
   ]
  },
  {
   "cell_type": "code",
   "execution_count": 46,
   "id": "d1c7d390-f5ed-4e3d-8281-a14a55764f41",
   "metadata": {},
   "outputs": [
    {
     "data": {
      "text/plain": [
       "[200, 2, 3, 4, [1, 2], 1, 2, 'h', 'e', 'l', 'l', 'o', 'hello']"
      ]
     },
     "execution_count": 46,
     "metadata": {},
     "output_type": "execute_result"
    }
   ],
   "source": [
    "a"
   ]
  },
  {
   "cell_type": "code",
   "execution_count": 47,
   "id": "594f11f2-4254-4007-b39e-77f8f50a6b05",
   "metadata": {},
   "outputs": [],
   "source": [
    "a.remove(1)"
   ]
  },
  {
   "cell_type": "code",
   "execution_count": 48,
   "id": "be0dddc5-da26-4ce8-bb1a-12e011428f0a",
   "metadata": {},
   "outputs": [
    {
     "data": {
      "text/plain": [
       "[200, 2, 3, 4, [1, 2], 2, 'h', 'e', 'l', 'l', 'o', 'hello']"
      ]
     },
     "execution_count": 48,
     "metadata": {},
     "output_type": "execute_result"
    }
   ],
   "source": [
    "a"
   ]
  },
  {
   "cell_type": "code",
   "execution_count": 50,
   "id": "6c08d0db-50e1-41e6-8ddd-1a25f77f72fa",
   "metadata": {},
   "outputs": [
    {
     "data": {
      "text/plain": [
       "'o'"
      ]
     },
     "execution_count": 50,
     "metadata": {},
     "output_type": "execute_result"
    }
   ],
   "source": [
    "a.pop()"
   ]
  },
  {
   "cell_type": "code",
   "execution_count": 51,
   "id": "811ec52c-aa2e-47ff-9d64-bc0dcf4b8605",
   "metadata": {},
   "outputs": [
    {
     "data": {
      "text/plain": [
       "[200, 2, 3, 4, [1, 2], 2, 'h', 'e', 'l', 'l']"
      ]
     },
     "execution_count": 51,
     "metadata": {},
     "output_type": "execute_result"
    }
   ],
   "source": [
    "a"
   ]
  },
  {
   "cell_type": "code",
   "execution_count": 52,
   "id": "b526cc0f-76e1-4b1c-8ecd-e8202265d16e",
   "metadata": {},
   "outputs": [
    {
     "data": {
      "text/plain": [
       "'l'"
      ]
     },
     "execution_count": 52,
     "metadata": {},
     "output_type": "execute_result"
    }
   ],
   "source": [
    "a.pop()"
   ]
  },
  {
   "cell_type": "code",
   "execution_count": 53,
   "id": "5928eb8a-d306-4149-bf6d-91736db242af",
   "metadata": {},
   "outputs": [
    {
     "data": {
      "text/plain": [
       "[200, 2, 3, 4, [1, 2], 2, 'h', 'e', 'l']"
      ]
     },
     "execution_count": 53,
     "metadata": {},
     "output_type": "execute_result"
    }
   ],
   "source": [
    "a"
   ]
  },
  {
   "cell_type": "code",
   "execution_count": 54,
   "id": "bb860780-b7d7-4e9d-9d93-4dea54d95c46",
   "metadata": {},
   "outputs": [
    {
     "data": {
      "text/plain": [
       "['l', 'e', 'h', 2, [1, 2], 4, 3, 2, 200]"
      ]
     },
     "execution_count": 54,
     "metadata": {},
     "output_type": "execute_result"
    }
   ],
   "source": [
    "a[::-1]"
   ]
  },
  {
   "cell_type": "code",
   "execution_count": 55,
   "id": "d24670ac-781a-4987-9fa5-83a53b3f5f93",
   "metadata": {},
   "outputs": [
    {
     "data": {
      "text/plain": [
       "[200, 2, 3, 4, [1, 2], 2, 'h', 'e', 'l']"
      ]
     },
     "execution_count": 55,
     "metadata": {},
     "output_type": "execute_result"
    }
   ],
   "source": [
    "a"
   ]
  },
  {
   "cell_type": "code",
   "execution_count": 56,
   "id": "fdb8f828-7e2b-47b2-b3d8-93da97b36de5",
   "metadata": {},
   "outputs": [],
   "source": [
    "a.reverse()"
   ]
  },
  {
   "cell_type": "code",
   "execution_count": 57,
   "id": "3b54eaef-a6dc-4f7b-94ee-022fc4f5dcd9",
   "metadata": {},
   "outputs": [
    {
     "data": {
      "text/plain": [
       "['l', 'e', 'h', 2, [1, 2], 4, 3, 2, 200]"
      ]
     },
     "execution_count": 57,
     "metadata": {},
     "output_type": "execute_result"
    }
   ],
   "source": [
    "a"
   ]
  },
  {
   "cell_type": "markdown",
   "id": "799bbba3-5f10-402d-854c-30686cca53f9",
   "metadata": {},
   "source": [
    "# Copy "
   ]
  },
  {
   "cell_type": "code",
   "execution_count": 58,
   "id": "266b09c1-5062-4c94-93fb-5d41351d4d3e",
   "metadata": {},
   "outputs": [],
   "source": [
    "data = [1,2,3,4,5]"
   ]
  },
  {
   "cell_type": "code",
   "execution_count": 59,
   "id": "9318941f-b86f-4d8a-8bf7-f504aafe2d79",
   "metadata": {},
   "outputs": [],
   "source": [
    "data_2 = data"
   ]
  },
  {
   "cell_type": "code",
   "execution_count": 60,
   "id": "36c1c52c-adfe-4eae-aced-74d217ae407c",
   "metadata": {},
   "outputs": [
    {
     "data": {
      "text/plain": [
       "[1, 2, 3, 4, 5]"
      ]
     },
     "execution_count": 60,
     "metadata": {},
     "output_type": "execute_result"
    }
   ],
   "source": [
    "data_2"
   ]
  },
  {
   "cell_type": "code",
   "execution_count": 61,
   "id": "7adf6cdf-2349-4cbc-a4a5-a5d285e0778f",
   "metadata": {},
   "outputs": [
    {
     "data": {
      "text/plain": [
       "[1, 2, 3, 4, 5]"
      ]
     },
     "execution_count": 61,
     "metadata": {},
     "output_type": "execute_result"
    }
   ],
   "source": [
    "data"
   ]
  },
  {
   "cell_type": "code",
   "execution_count": 62,
   "id": "2b67dc79-fbc7-4ee3-b120-2cab41fe47fc",
   "metadata": {},
   "outputs": [],
   "source": [
    "data[0] = 100"
   ]
  },
  {
   "cell_type": "code",
   "execution_count": 64,
   "id": "435f9703-4870-4e26-9cf7-e0ea63459839",
   "metadata": {},
   "outputs": [
    {
     "data": {
      "text/plain": [
       "[100, 2, 3, 4, 5]"
      ]
     },
     "execution_count": 64,
     "metadata": {},
     "output_type": "execute_result"
    }
   ],
   "source": [
    "data"
   ]
  },
  {
   "cell_type": "code",
   "execution_count": 66,
   "id": "fb137e75-fcf2-4067-90f3-c7f93e8f161c",
   "metadata": {},
   "outputs": [
    {
     "data": {
      "text/plain": [
       "[100, 2, 3, 4, 5]"
      ]
     },
     "execution_count": 66,
     "metadata": {},
     "output_type": "execute_result"
    }
   ],
   "source": [
    "data_2"
   ]
  },
  {
   "cell_type": "code",
   "execution_count": 67,
   "id": "463b8b65-e3e1-4e32-9210-927ba573fbe9",
   "metadata": {},
   "outputs": [],
   "source": [
    "data_copy = data.copy()"
   ]
  },
  {
   "cell_type": "code",
   "execution_count": 68,
   "id": "ff3ad636-2272-4efb-baa9-4dd5753a2976",
   "metadata": {},
   "outputs": [
    {
     "data": {
      "text/plain": [
       "[100, 2, 3, 4, 5]"
      ]
     },
     "execution_count": 68,
     "metadata": {},
     "output_type": "execute_result"
    }
   ],
   "source": [
    "data_copy"
   ]
  },
  {
   "cell_type": "code",
   "execution_count": 69,
   "id": "8a108669-9d24-4a33-bca8-c2bfad9cc6e1",
   "metadata": {},
   "outputs": [
    {
     "data": {
      "text/plain": [
       "[100, 2, 3, 4, 5]"
      ]
     },
     "execution_count": 69,
     "metadata": {},
     "output_type": "execute_result"
    }
   ],
   "source": [
    "data"
   ]
  },
  {
   "cell_type": "code",
   "execution_count": 70,
   "id": "91b99112-56d4-4eab-8e57-8548a3ce24e9",
   "metadata": {},
   "outputs": [],
   "source": [
    "data.append('hello')"
   ]
  },
  {
   "cell_type": "code",
   "execution_count": 71,
   "id": "7822190d-5cf1-4301-9938-977f4f3c0f16",
   "metadata": {},
   "outputs": [
    {
     "data": {
      "text/plain": [
       "[100, 2, 3, 4, 5, 'hello']"
      ]
     },
     "execution_count": 71,
     "metadata": {},
     "output_type": "execute_result"
    }
   ],
   "source": [
    "data"
   ]
  },
  {
   "cell_type": "code",
   "execution_count": 72,
   "id": "7b547a7d-f459-4718-9969-b87bcda470e2",
   "metadata": {},
   "outputs": [
    {
     "data": {
      "text/plain": [
       "[100, 2, 3, 4, 5]"
      ]
     },
     "execution_count": 72,
     "metadata": {},
     "output_type": "execute_result"
    }
   ],
   "source": [
    "data_copy"
   ]
  },
  {
   "cell_type": "markdown",
   "id": "3a7c8404-da39-4e0d-a0cf-fe177fa799b3",
   "metadata": {},
   "source": [
    "# Tuple"
   ]
  },
  {
   "cell_type": "code",
   "execution_count": 73,
   "id": "2ddf2d16-d120-4cab-a4eb-a30aedb5a0fe",
   "metadata": {},
   "outputs": [],
   "source": [
    "s = (1,2,3,4)"
   ]
  },
  {
   "cell_type": "code",
   "execution_count": 74,
   "id": "3198717d-b854-4858-8a80-788a7929e271",
   "metadata": {},
   "outputs": [
    {
     "data": {
      "text/plain": [
       "(1, 2, 3, 4)"
      ]
     },
     "execution_count": 74,
     "metadata": {},
     "output_type": "execute_result"
    }
   ],
   "source": [
    "s"
   ]
  },
  {
   "cell_type": "code",
   "execution_count": 75,
   "id": "b69d6d72-fdea-46fc-8a80-01b6b7c826de",
   "metadata": {},
   "outputs": [
    {
     "data": {
      "text/plain": [
       "tuple"
      ]
     },
     "execution_count": 75,
     "metadata": {},
     "output_type": "execute_result"
    }
   ],
   "source": [
    "type(s)"
   ]
  },
  {
   "cell_type": "code",
   "execution_count": 76,
   "id": "c6a607a7-e40a-40dc-9f73-f4557b74b145",
   "metadata": {},
   "outputs": [
    {
     "data": {
      "text/plain": [
       "1"
      ]
     },
     "execution_count": 76,
     "metadata": {},
     "output_type": "execute_result"
    }
   ],
   "source": [
    "s.count(2)"
   ]
  },
  {
   "cell_type": "code",
   "execution_count": 77,
   "id": "85d48154-d0ff-4e9a-9b43-eaad1d318500",
   "metadata": {},
   "outputs": [
    {
     "data": {
      "text/plain": [
       "3"
      ]
     },
     "execution_count": 77,
     "metadata": {},
     "output_type": "execute_result"
    }
   ],
   "source": [
    "s.index(4)"
   ]
  },
  {
   "cell_type": "code",
   "execution_count": 78,
   "id": "10b183db-15a0-49b9-91fa-fb5d1f99ad7a",
   "metadata": {},
   "outputs": [
    {
     "data": {
      "text/plain": [
       "1"
      ]
     },
     "execution_count": 78,
     "metadata": {},
     "output_type": "execute_result"
    }
   ],
   "source": [
    "s[0]"
   ]
  },
  {
   "cell_type": "code",
   "execution_count": 79,
   "id": "1a9cdc8a-b149-4783-82f4-d456968c6029",
   "metadata": {},
   "outputs": [
    {
     "ename": "TypeError",
     "evalue": "'tuple' object does not support item assignment",
     "output_type": "error",
     "traceback": [
      "\u001b[1;31m---------------------------------------------------------------------------\u001b[0m",
      "\u001b[1;31mTypeError\u001b[0m                                 Traceback (most recent call last)",
      "Cell \u001b[1;32mIn[79], line 1\u001b[0m\n\u001b[1;32m----> 1\u001b[0m s[\u001b[38;5;241m0\u001b[39m] \u001b[38;5;241m=\u001b[39m \u001b[38;5;241m12\u001b[39m\n",
      "\u001b[1;31mTypeError\u001b[0m: 'tuple' object does not support item assignment"
     ]
    }
   ],
   "source": [
    "s[0] = 12"
   ]
  },
  {
   "cell_type": "code",
   "execution_count": 80,
   "id": "b76d8ac2-b658-4734-b0e1-7d2b255d87a7",
   "metadata": {},
   "outputs": [],
   "source": [
    "t = (1,2,3,1,2,'Hello')"
   ]
  },
  {
   "cell_type": "code",
   "execution_count": 81,
   "id": "14cfd483-7305-4083-a9c0-40bc793df3da",
   "metadata": {},
   "outputs": [
    {
     "data": {
      "text/plain": [
       "(1, 2, 3, 1, 2, 'Hello')"
      ]
     },
     "execution_count": 81,
     "metadata": {},
     "output_type": "execute_result"
    }
   ],
   "source": [
    "t"
   ]
  },
  {
   "cell_type": "code",
   "execution_count": 82,
   "id": "200d9af0-474c-47bb-b9ef-05cbed308549",
   "metadata": {},
   "outputs": [
    {
     "data": {
      "text/plain": [
       "(1, 2, 3, 1, 2, 'Hello')"
      ]
     },
     "execution_count": 82,
     "metadata": {},
     "output_type": "execute_result"
    }
   ],
   "source": [
    "t"
   ]
  },
  {
   "cell_type": "code",
   "execution_count": 83,
   "id": "82a07689-f707-4e01-8766-32353f0e2dbc",
   "metadata": {},
   "outputs": [
    {
     "data": {
      "text/plain": [
       "tuple"
      ]
     },
     "execution_count": 83,
     "metadata": {},
     "output_type": "execute_result"
    }
   ],
   "source": [
    "type(t)"
   ]
  },
  {
   "cell_type": "code",
   "execution_count": 86,
   "id": "d3b7be57-1651-47e7-9706-aacee5892e0d",
   "metadata": {},
   "outputs": [],
   "source": [
    "t = list(t)"
   ]
  },
  {
   "cell_type": "code",
   "execution_count": 87,
   "id": "1833e44e-2e2a-4633-ab7f-eed08a3fe81d",
   "metadata": {},
   "outputs": [
    {
     "data": {
      "text/plain": [
       "[1, 2, 3, 1, 2, 'Hello']"
      ]
     },
     "execution_count": 87,
     "metadata": {},
     "output_type": "execute_result"
    }
   ],
   "source": [
    "t"
   ]
  },
  {
   "cell_type": "code",
   "execution_count": 88,
   "id": "fdf3e9b5-d964-40ee-b809-f1779de27dd0",
   "metadata": {},
   "outputs": [],
   "source": [
    "t.append(0)"
   ]
  },
  {
   "cell_type": "code",
   "execution_count": 89,
   "id": "0ebb302a-4f76-45e0-a0a0-5963e57e4ab8",
   "metadata": {},
   "outputs": [
    {
     "data": {
      "text/plain": [
       "[1, 2, 3, 1, 2, 'Hello', 0]"
      ]
     },
     "execution_count": 89,
     "metadata": {},
     "output_type": "execute_result"
    }
   ],
   "source": [
    "t"
   ]
  },
  {
   "cell_type": "code",
   "execution_count": 91,
   "id": "9d29891b-5c88-41c2-a887-26570d88a7d4",
   "metadata": {},
   "outputs": [],
   "source": [
    "t = tuple(t)"
   ]
  },
  {
   "cell_type": "code",
   "execution_count": 92,
   "id": "be93db8e-ccdc-4be4-a923-e825ef874188",
   "metadata": {},
   "outputs": [
    {
     "data": {
      "text/plain": [
       "(1, 2, 3, 1, 2, 'Hello', 0)"
      ]
     },
     "execution_count": 92,
     "metadata": {},
     "output_type": "execute_result"
    }
   ],
   "source": [
    "t"
   ]
  },
  {
   "cell_type": "code",
   "execution_count": null,
   "id": "209b5d24-5e60-44e1-915a-f62ec5c69dda",
   "metadata": {},
   "outputs": [],
   "source": []
  }
 ],
 "metadata": {
  "kernelspec": {
   "display_name": "Python 3 (ipykernel)",
   "language": "python",
   "name": "python3"
  },
  "language_info": {
   "codemirror_mode": {
    "name": "ipython",
    "version": 3
   },
   "file_extension": ".py",
   "mimetype": "text/x-python",
   "name": "python",
   "nbconvert_exporter": "python",
   "pygments_lexer": "ipython3",
   "version": "3.12.4"
  }
 },
 "nbformat": 4,
 "nbformat_minor": 5
}

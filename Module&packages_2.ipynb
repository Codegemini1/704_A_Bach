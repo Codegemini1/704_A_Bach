{
 "cells": [
  {
   "cell_type": "code",
   "execution_count": 1,
   "id": "2c3bdfb6-2abe-4e4c-a1ff-096669cefcbe",
   "metadata": {},
   "outputs": [
    {
     "ename": "NameError",
     "evalue": "name 'add' is not defined",
     "output_type": "error",
     "traceback": [
      "\u001b[1;31m---------------------------------------------------------------------------\u001b[0m",
      "\u001b[1;31mNameError\u001b[0m                                 Traceback (most recent call last)",
      "Cell \u001b[1;32mIn[1], line 1\u001b[0m\n\u001b[1;32m----> 1\u001b[0m add(\u001b[38;5;241m1\u001b[39m,\u001b[38;5;241m3\u001b[39m)\n",
      "\u001b[1;31mNameError\u001b[0m: name 'add' is not defined"
     ]
    }
   ],
   "source": [
    "add(1,3)"
   ]
  },
  {
   "cell_type": "code",
   "execution_count": 2,
   "id": "7dfa3ed2-ce5a-44f8-b60f-4b153a302bc8",
   "metadata": {},
   "outputs": [],
   "source": [
    "import functions "
   ]
  },
  {
   "cell_type": "code",
   "execution_count": 3,
   "id": "53ce8ea9-6e5c-4cd7-92cc-be5066efb17a",
   "metadata": {},
   "outputs": [
    {
     "data": {
      "text/plain": [
       "17"
      ]
     },
     "execution_count": 3,
     "metadata": {},
     "output_type": "execute_result"
    }
   ],
   "source": [
    "functions.add(10,7)"
   ]
  },
  {
   "cell_type": "code",
   "execution_count": 5,
   "id": "a62bacb2-c3f4-4134-8cd1-b501e1b369f7",
   "metadata": {},
   "outputs": [
    {
     "data": {
      "text/plain": [
       "2.0"
      ]
     },
     "execution_count": 5,
     "metadata": {},
     "output_type": "execute_result"
    }
   ],
   "source": [
    "functions.multiply(10,5)"
   ]
  },
  {
   "cell_type": "code",
   "execution_count": 6,
   "id": "d6b17c4e-fb81-4893-9b61-8125435ccaff",
   "metadata": {},
   "outputs": [
    {
     "data": {
      "text/plain": [
       "49"
      ]
     },
     "execution_count": 6,
     "metadata": {},
     "output_type": "execute_result"
    }
   ],
   "source": [
    "functions.square(7)"
   ]
  },
  {
   "cell_type": "code",
   "execution_count": 7,
   "id": "8849224d-e892-4cf2-bbda-b0806b3c12e9",
   "metadata": {},
   "outputs": [],
   "source": [
    "import testing as df"
   ]
  },
  {
   "cell_type": "code",
   "execution_count": 8,
   "id": "f5df9a0c-a2ec-42d2-ac81-42cb4d66b846",
   "metadata": {},
   "outputs": [
    {
     "name": "stdout",
     "output_type": "stream",
     "text": [
      "Even Number\n"
     ]
    }
   ],
   "source": [
    "df.even_odd(4)"
   ]
  },
  {
   "cell_type": "code",
   "execution_count": 9,
   "id": "548cbebd-9444-4e43-b27c-1aec756977de",
   "metadata": {},
   "outputs": [
    {
     "name": "stdout",
     "output_type": "stream",
     "text": [
      "Odd Number\n"
     ]
    }
   ],
   "source": [
    "df.even_odd(9)"
   ]
  },
  {
   "cell_type": "code",
   "execution_count": 10,
   "id": "4f65c021-cfd3-4dc6-bbbd-43c0a92cca52",
   "metadata": {},
   "outputs": [
    {
     "name": "stdout",
     "output_type": "stream",
     "text": [
      "2\n",
      "4\n"
     ]
    }
   ],
   "source": [
    "df.int_filter(2,4,1.4,'Hello', True)"
   ]
  },
  {
   "cell_type": "code",
   "execution_count": 13,
   "id": "515730cd-6750-4f46-8664-731a269ee643",
   "metadata": {},
   "outputs": [],
   "source": [
    "import numpy"
   ]
  },
  {
   "cell_type": "code",
   "execution_count": 14,
   "id": "cc22d55b-d734-494c-8502-c766b9818340",
   "metadata": {},
   "outputs": [
    {
     "data": {
      "text/plain": [
       "20.0"
      ]
     },
     "execution_count": 14,
     "metadata": {},
     "output_type": "execute_result"
    }
   ],
   "source": [
    "numpy.mean([10,20,30,20])"
   ]
  },
  {
   "cell_type": "code",
   "execution_count": 15,
   "id": "c26f3725-65b0-4764-a0c7-c5577e605a8d",
   "metadata": {},
   "outputs": [
    {
     "data": {
      "text/plain": [
       "30"
      ]
     },
     "execution_count": 15,
     "metadata": {},
     "output_type": "execute_result"
    }
   ],
   "source": [
    "numpy.add(10,20)"
   ]
  },
  {
   "cell_type": "code",
   "execution_count": null,
   "id": "d94232a7-3b1b-4a12-8673-d64dc1282aef",
   "metadata": {},
   "outputs": [],
   "source": []
  }
 ],
 "metadata": {
  "kernelspec": {
   "display_name": "Python 3 (ipykernel)",
   "language": "python",
   "name": "python3"
  },
  "language_info": {
   "codemirror_mode": {
    "name": "ipython",
    "version": 3
   },
   "file_extension": ".py",
   "mimetype": "text/x-python",
   "name": "python",
   "nbconvert_exporter": "python",
   "pygments_lexer": "ipython3",
   "version": "3.12.4"
  }
 },
 "nbformat": 4,
 "nbformat_minor": 5
}

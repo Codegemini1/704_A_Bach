{
 "cells": [
  {
   "cell_type": "code",
   "execution_count": 1,
   "id": "dd89efeb-7ef5-48bb-af59-4ac4f366d017",
   "metadata": {},
   "outputs": [
    {
     "name": "stdout",
     "output_type": "stream",
     "text": [
      " Volume in drive C has no label.\n",
      " Volume Serial Number is B294-EB73\n",
      "\n",
      " Directory of C:\\Users\\Admin\\Downloads\\704_A\\Python\\Advanced\\file_handling\n",
      "\n",
      "06/24/2025  06:10 PM    <DIR>          .\n",
      "06/24/2025  06:10 PM    <DIR>          ..\n",
      "06/24/2025  06:10 PM    <DIR>          .ipynb_checkpoints\n",
      "06/24/2025  06:10 PM                72 file_handling.ipynb\n",
      "               1 File(s)             72 bytes\n",
      "               3 Dir(s)   6,942,388,224 bytes free\n"
     ]
    }
   ],
   "source": [
    "ls"
   ]
  },
  {
   "cell_type": "code",
   "execution_count": 2,
   "id": "c1c6ed87-4479-4beb-a659-26439e25064d",
   "metadata": {},
   "outputs": [
    {
     "name": "stdout",
     "output_type": "stream",
     "text": [
      " Volume in drive C has no label.\n",
      " Volume Serial Number is B294-EB73\n",
      "\n",
      " Directory of C:\\Users\\Admin\\Downloads\\704_A\\Python\\Advanced\\file_handling\n",
      "\n",
      "06/24/2025  06:10 PM    <DIR>          .\n",
      "06/24/2025  06:10 PM    <DIR>          ..\n",
      "06/24/2025  06:10 PM    <DIR>          .ipynb_checkpoints\n",
      "06/24/2025  06:10 PM                72 file_handling.ipynb\n",
      "               1 File(s)             72 bytes\n",
      "               3 Dir(s)   6,919,196,672 bytes free\n"
     ]
    }
   ],
   "source": [
    "%ls"
   ]
  },
  {
   "cell_type": "code",
   "execution_count": 4,
   "id": "1b39b258-56f5-49f7-aff3-fe7c27431fb6",
   "metadata": {},
   "outputs": [
    {
     "ename": "FileNotFoundError",
     "evalue": "[Errno 2] No such file or directory: 'my_Intro.txt'",
     "output_type": "error",
     "traceback": [
      "\u001b[1;31m---------------------------------------------------------------------------\u001b[0m",
      "\u001b[1;31mFileNotFoundError\u001b[0m                         Traceback (most recent call last)",
      "Cell \u001b[1;32mIn[4], line 1\u001b[0m\n\u001b[1;32m----> 1\u001b[0m f \u001b[38;5;241m=\u001b[39m \u001b[38;5;28mopen\u001b[39m(\u001b[38;5;124m'\u001b[39m\u001b[38;5;124mmy_Intro.txt\u001b[39m\u001b[38;5;124m'\u001b[39m, mode\u001b[38;5;241m=\u001b[39m\u001b[38;5;124m'\u001b[39m\u001b[38;5;124mr\u001b[39m\u001b[38;5;124m'\u001b[39m)\n",
      "File \u001b[1;32m~\\anaconda3\\Lib\\site-packages\\IPython\\core\\interactiveshell.py:324\u001b[0m, in \u001b[0;36m_modified_open\u001b[1;34m(file, *args, **kwargs)\u001b[0m\n\u001b[0;32m    317\u001b[0m \u001b[38;5;28;01mif\u001b[39;00m file \u001b[38;5;129;01min\u001b[39;00m {\u001b[38;5;241m0\u001b[39m, \u001b[38;5;241m1\u001b[39m, \u001b[38;5;241m2\u001b[39m}:\n\u001b[0;32m    318\u001b[0m     \u001b[38;5;28;01mraise\u001b[39;00m \u001b[38;5;167;01mValueError\u001b[39;00m(\n\u001b[0;32m    319\u001b[0m         \u001b[38;5;124mf\u001b[39m\u001b[38;5;124m\"\u001b[39m\u001b[38;5;124mIPython won\u001b[39m\u001b[38;5;124m'\u001b[39m\u001b[38;5;124mt let you open fd=\u001b[39m\u001b[38;5;132;01m{\u001b[39;00mfile\u001b[38;5;132;01m}\u001b[39;00m\u001b[38;5;124m by default \u001b[39m\u001b[38;5;124m\"\u001b[39m\n\u001b[0;32m    320\u001b[0m         \u001b[38;5;124m\"\u001b[39m\u001b[38;5;124mas it is likely to crash IPython. If you know what you are doing, \u001b[39m\u001b[38;5;124m\"\u001b[39m\n\u001b[0;32m    321\u001b[0m         \u001b[38;5;124m\"\u001b[39m\u001b[38;5;124myou can use builtins\u001b[39m\u001b[38;5;124m'\u001b[39m\u001b[38;5;124m open.\u001b[39m\u001b[38;5;124m\"\u001b[39m\n\u001b[0;32m    322\u001b[0m     )\n\u001b[1;32m--> 324\u001b[0m \u001b[38;5;28;01mreturn\u001b[39;00m io_open(file, \u001b[38;5;241m*\u001b[39margs, \u001b[38;5;241m*\u001b[39m\u001b[38;5;241m*\u001b[39mkwargs)\n",
      "\u001b[1;31mFileNotFoundError\u001b[0m: [Errno 2] No such file or directory: 'my_Intro.txt'"
     ]
    }
   ],
   "source": [
    "f = open('my_Intro.txt', mode='r')"
   ]
  },
  {
   "cell_type": "code",
   "execution_count": 5,
   "id": "92c89d6f-cb31-477c-a24f-688d852b842a",
   "metadata": {},
   "outputs": [],
   "source": [
    "f = open('introduction.txt', mode = 'w')"
   ]
  },
  {
   "cell_type": "code",
   "execution_count": 6,
   "id": "3bc3b52a-84c8-4e14-8b68-8af54d7fd4c4",
   "metadata": {},
   "outputs": [
    {
     "name": "stdout",
     "output_type": "stream",
     "text": [
      "C:\\Users\\Admin\n"
     ]
    }
   ],
   "source": [
    "cd"
   ]
  },
  {
   "cell_type": "code",
   "execution_count": 7,
   "id": "ff048b4f-51f8-4029-af5d-394354f3e49a",
   "metadata": {},
   "outputs": [
    {
     "data": {
      "text/plain": [
       "56"
      ]
     },
     "execution_count": 7,
     "metadata": {},
     "output_type": "execute_result"
    }
   ],
   "source": [
    "f.write('Hello how are you my name is xyz and my education is xyz')"
   ]
  },
  {
   "cell_type": "code",
   "execution_count": 8,
   "id": "d908f0a1-e493-466a-a6b2-d43d9eb70824",
   "metadata": {},
   "outputs": [],
   "source": [
    "f.close()"
   ]
  },
  {
   "cell_type": "code",
   "execution_count": 9,
   "id": "a14fe1f7-b45f-4e14-abeb-f810f633b9fd",
   "metadata": {},
   "outputs": [],
   "source": [
    "# How to read file"
   ]
  },
  {
   "cell_type": "code",
   "execution_count": 10,
   "id": "5374687e-ab11-4dca-a9df-c8abe12b1ab6",
   "metadata": {},
   "outputs": [],
   "source": [
    "f = open('introduction.txt', mode = 'r')"
   ]
  },
  {
   "cell_type": "code",
   "execution_count": 11,
   "id": "207c9d55-e2ec-41b6-899e-f314ed523f31",
   "metadata": {},
   "outputs": [
    {
     "data": {
      "text/plain": [
       "'Hello how are you my name is xyz and my education is xyz'"
      ]
     },
     "execution_count": 11,
     "metadata": {},
     "output_type": "execute_result"
    }
   ],
   "source": [
    "f.read()"
   ]
  },
  {
   "cell_type": "code",
   "execution_count": 12,
   "id": "c5e95469-57d4-4593-bc7e-1ffd588932df",
   "metadata": {},
   "outputs": [
    {
     "data": {
      "text/plain": [
       "''"
      ]
     },
     "execution_count": 12,
     "metadata": {},
     "output_type": "execute_result"
    }
   ],
   "source": [
    "f.read()"
   ]
  },
  {
   "cell_type": "code",
   "execution_count": 13,
   "id": "ececf291-93f6-409d-9c34-7bbe455755ec",
   "metadata": {},
   "outputs": [
    {
     "data": {
      "text/plain": [
       "0"
      ]
     },
     "execution_count": 13,
     "metadata": {},
     "output_type": "execute_result"
    }
   ],
   "source": [
    "f.seek(0)"
   ]
  },
  {
   "cell_type": "code",
   "execution_count": 14,
   "id": "f30e2e96-6408-4d18-ad1f-71731251ef24",
   "metadata": {},
   "outputs": [
    {
     "data": {
      "text/plain": [
       "'Hello how are you my name is xyz and my education is xyz'"
      ]
     },
     "execution_count": 14,
     "metadata": {},
     "output_type": "execute_result"
    }
   ],
   "source": [
    "f.read()"
   ]
  },
  {
   "cell_type": "code",
   "execution_count": 15,
   "id": "a34fc7f9-598e-4ed8-a5c6-26e82c442283",
   "metadata": {},
   "outputs": [
    {
     "data": {
      "text/plain": [
       "7"
      ]
     },
     "execution_count": 15,
     "metadata": {},
     "output_type": "execute_result"
    }
   ],
   "source": [
    "f.seek(7)"
   ]
  },
  {
   "cell_type": "code",
   "execution_count": 16,
   "id": "4eb4334b-f189-4da5-a6be-1d6cb31e0650",
   "metadata": {},
   "outputs": [
    {
     "data": {
      "text/plain": [
       "'ow are you my name is xyz and my education is xyz'"
      ]
     },
     "execution_count": 16,
     "metadata": {},
     "output_type": "execute_result"
    }
   ],
   "source": [
    "f.read()"
   ]
  },
  {
   "cell_type": "code",
   "execution_count": 17,
   "id": "789bc888-62ed-400b-8a38-559ba7d909fc",
   "metadata": {},
   "outputs": [
    {
     "name": "stdout",
     "output_type": "stream",
     "text": [
      "This is my first line.\n",
      "This is my second line.\n",
      "This is my third line.\n"
     ]
    }
   ],
   "source": [
    "print('''This is my first line.\n",
    "This is my second line.\n",
    "This is my third line.''')"
   ]
  },
  {
   "cell_type": "code",
   "execution_count": 18,
   "id": "46fc8f47-5e18-47d1-a405-a0f4c7a0cf8f",
   "metadata": {},
   "outputs": [
    {
     "data": {
      "text/plain": [
       "'This is my first line.\\nThis is my second line.\\nThis is my third line.'"
      ]
     },
     "execution_count": 18,
     "metadata": {},
     "output_type": "execute_result"
    }
   ],
   "source": [
    "'''This is my first line.\n",
    "This is my second line.\n",
    "This is my third line.'''"
   ]
  },
  {
   "cell_type": "code",
   "execution_count": 19,
   "id": "6738d877-3ca1-456c-a4f2-3ea811128ddd",
   "metadata": {},
   "outputs": [],
   "source": [
    "f = open('sentences.txt', mode = 'w')"
   ]
  },
  {
   "cell_type": "code",
   "execution_count": 20,
   "id": "f0bfe72c-ceab-4787-adb9-202cde38b96d",
   "metadata": {},
   "outputs": [
    {
     "data": {
      "text/plain": [
       "69"
      ]
     },
     "execution_count": 20,
     "metadata": {},
     "output_type": "execute_result"
    }
   ],
   "source": [
    "f.write('''This is my first line.\n",
    "This is my second line.\n",
    "This is my third line.''')"
   ]
  },
  {
   "cell_type": "code",
   "execution_count": 21,
   "id": "401d5954-5ae9-459f-a45c-bf35d63d87d5",
   "metadata": {},
   "outputs": [
    {
     "ename": "UnsupportedOperation",
     "evalue": "not readable",
     "output_type": "error",
     "traceback": [
      "\u001b[1;31m---------------------------------------------------------------------------\u001b[0m",
      "\u001b[1;31mUnsupportedOperation\u001b[0m                      Traceback (most recent call last)",
      "Cell \u001b[1;32mIn[21], line 1\u001b[0m\n\u001b[1;32m----> 1\u001b[0m f\u001b[38;5;241m.\u001b[39mread()\n",
      "\u001b[1;31mUnsupportedOperation\u001b[0m: not readable"
     ]
    }
   ],
   "source": [
    "f.read()"
   ]
  },
  {
   "cell_type": "code",
   "execution_count": 22,
   "id": "b50ca983-f64f-448f-bfdf-1b0dea3038b8",
   "metadata": {},
   "outputs": [],
   "source": [
    "f.close()"
   ]
  },
  {
   "cell_type": "code",
   "execution_count": 23,
   "id": "f4f716aa-d5d5-4d5b-8c64-d76cef791fb6",
   "metadata": {},
   "outputs": [],
   "source": [
    "f = open('sentences.txt', mode='r')"
   ]
  },
  {
   "cell_type": "code",
   "execution_count": 24,
   "id": "faf36657-bb60-4c18-9d66-72de2e0ec0d2",
   "metadata": {},
   "outputs": [
    {
     "data": {
      "text/plain": [
       "'This is my first line.\\nThis is my second line.\\nThis is my third line.'"
      ]
     },
     "execution_count": 24,
     "metadata": {},
     "output_type": "execute_result"
    }
   ],
   "source": [
    "f.read()"
   ]
  },
  {
   "cell_type": "code",
   "execution_count": 25,
   "id": "61085642-462f-42fd-90da-bd446ace3209",
   "metadata": {},
   "outputs": [
    {
     "data": {
      "text/plain": [
       "0"
      ]
     },
     "execution_count": 25,
     "metadata": {},
     "output_type": "execute_result"
    }
   ],
   "source": [
    "f.seek(0)"
   ]
  },
  {
   "cell_type": "code",
   "execution_count": 26,
   "id": "385240b8-9c47-44e0-8f55-4eb66141e9fb",
   "metadata": {},
   "outputs": [
    {
     "data": {
      "text/plain": [
       "'This is my first line.\\n'"
      ]
     },
     "execution_count": 26,
     "metadata": {},
     "output_type": "execute_result"
    }
   ],
   "source": [
    "f.readline()"
   ]
  },
  {
   "cell_type": "code",
   "execution_count": 27,
   "id": "46b673c6-e291-4ee5-a3f2-6bab5b922f91",
   "metadata": {},
   "outputs": [
    {
     "data": {
      "text/plain": [
       "'This is my second line.\\n'"
      ]
     },
     "execution_count": 27,
     "metadata": {},
     "output_type": "execute_result"
    }
   ],
   "source": [
    "f.readline()"
   ]
  },
  {
   "cell_type": "code",
   "execution_count": 28,
   "id": "e4b4c35b-67e3-4152-a435-7dc888ef9bfb",
   "metadata": {},
   "outputs": [
    {
     "data": {
      "text/plain": [
       "'This is my third line.'"
      ]
     },
     "execution_count": 28,
     "metadata": {},
     "output_type": "execute_result"
    }
   ],
   "source": [
    "f.readline()"
   ]
  },
  {
   "cell_type": "code",
   "execution_count": 29,
   "id": "a4514bbb-f218-4eeb-bbf9-6b66d16cd9c9",
   "metadata": {},
   "outputs": [
    {
     "data": {
      "text/plain": [
       "''"
      ]
     },
     "execution_count": 29,
     "metadata": {},
     "output_type": "execute_result"
    }
   ],
   "source": [
    "f.readline()"
   ]
  },
  {
   "cell_type": "code",
   "execution_count": 30,
   "id": "3691aaa7-5def-4f6c-8660-269242416d1a",
   "metadata": {},
   "outputs": [
    {
     "data": {
      "text/plain": [
       "0"
      ]
     },
     "execution_count": 30,
     "metadata": {},
     "output_type": "execute_result"
    }
   ],
   "source": [
    "f.seek(0)"
   ]
  },
  {
   "cell_type": "code",
   "execution_count": 31,
   "id": "c2e6ab94-fd51-4613-9eec-1bd60ee4d6fd",
   "metadata": {},
   "outputs": [
    {
     "data": {
      "text/plain": [
       "['This is my first line.\\n',\n",
       " 'This is my second line.\\n',\n",
       " 'This is my third line.']"
      ]
     },
     "execution_count": 31,
     "metadata": {},
     "output_type": "execute_result"
    }
   ],
   "source": [
    "f.readlines()"
   ]
  },
  {
   "cell_type": "code",
   "execution_count": 32,
   "id": "14a13025-bf30-4a4f-aabf-c00bf36f6ed0",
   "metadata": {},
   "outputs": [],
   "source": [
    "f.close()"
   ]
  },
  {
   "cell_type": "code",
   "execution_count": 33,
   "id": "d7f4dda0-7d5c-42e1-aab8-b7d57dcd1702",
   "metadata": {},
   "outputs": [],
   "source": [
    "f = open('multiple_lines.txt', mode = 'w')"
   ]
  },
  {
   "cell_type": "code",
   "execution_count": 34,
   "id": "5aa400f2-a116-47ce-8ed9-9f814bb893ad",
   "metadata": {},
   "outputs": [
    {
     "data": {
      "text/plain": [
       "291"
      ]
     },
     "execution_count": 34,
     "metadata": {},
     "output_type": "execute_result"
    }
   ],
   "source": [
    "f.write('''The ceasefire between Iran and Israel is in effect. \n",
    "and Israel is not going to attack Iran, Donald Trump declared on Tuesday.\n",
    "All planes will turn around and head home, while doing a friendly.\n",
    "PRESIDENT OF THE UNITED STATES.\n",
    "All planes will turn around and head home, while doing a friendly''')"
   ]
  },
  {
   "cell_type": "code",
   "execution_count": 35,
   "id": "ba44729d-5399-4aa4-b7aa-b7d558f9678c",
   "metadata": {},
   "outputs": [],
   "source": [
    "f.close()"
   ]
  },
  {
   "cell_type": "code",
   "execution_count": 36,
   "id": "e96e650c-03aa-4485-9966-676da6bd5f2a",
   "metadata": {},
   "outputs": [],
   "source": [
    "f = open('multiple_lines.txt', mode = 'r+')"
   ]
  },
  {
   "cell_type": "code",
   "execution_count": 37,
   "id": "45568c6d-0c79-466a-8a0f-ce3edba20ab1",
   "metadata": {},
   "outputs": [
    {
     "data": {
      "text/plain": [
       "'The ceasefire between Iran and Israel is in effect. \\n'"
      ]
     },
     "execution_count": 37,
     "metadata": {},
     "output_type": "execute_result"
    }
   ],
   "source": [
    "f.readline()"
   ]
  },
  {
   "cell_type": "code",
   "execution_count": 38,
   "id": "aa773958-713a-4e10-83fb-c829ecf56675",
   "metadata": {},
   "outputs": [
    {
     "data": {
      "text/plain": [
       "0"
      ]
     },
     "execution_count": 38,
     "metadata": {},
     "output_type": "execute_result"
    }
   ],
   "source": [
    "f.seek(0)"
   ]
  },
  {
   "cell_type": "code",
   "execution_count": 39,
   "id": "d93f424d-5c84-4ffe-a0a4-031c0391e282",
   "metadata": {},
   "outputs": [
    {
     "data": {
      "text/plain": [
       "['The ceasefire between Iran and Israel is in effect. \\n',\n",
       " 'and Israel is not going to attack Iran, Donald Trump declared on Tuesday.\\n',\n",
       " 'All planes will turn around and head home, while doing a friendly.\\n',\n",
       " 'PRESIDENT OF THE UNITED STATES.\\n',\n",
       " 'All planes will turn around and head home, while doing a friendly']"
      ]
     },
     "execution_count": 39,
     "metadata": {},
     "output_type": "execute_result"
    }
   ],
   "source": [
    "f.readlines()"
   ]
  },
  {
   "cell_type": "code",
   "execution_count": 44,
   "id": "6650ca69-cefc-430d-8277-4871a10219c3",
   "metadata": {},
   "outputs": [
    {
     "data": {
      "text/plain": [
       "0"
      ]
     },
     "execution_count": 44,
     "metadata": {},
     "output_type": "execute_result"
    }
   ],
   "source": [
    "f.seek(0)"
   ]
  },
  {
   "cell_type": "code",
   "execution_count": 45,
   "id": "2e661eec-6121-4318-b296-3c037bc069ca",
   "metadata": {},
   "outputs": [
    {
     "name": "stdout",
     "output_type": "stream",
     "text": [
      "The ceasefire between Iran and Israel is in effect. \n",
      "\n",
      "--------------------------------------------------------------------------------\n",
      "and Israel is not going to attack Iran, Donald Trump declared on Tuesday.\n",
      "\n",
      "--------------------------------------------------------------------------------\n",
      "All planes will turn around and head home, while doing a friendly.\n",
      "\n",
      "--------------------------------------------------------------------------------\n",
      "PRESIDENT OF THE UNITED STATES.\n",
      "\n",
      "--------------------------------------------------------------------------------\n",
      "All planes will turn around and head home, while doing a friendly\n",
      "--------------------------------------------------------------------------------\n"
     ]
    }
   ],
   "source": [
    "for sentence in f.readlines():\n",
    "    print(sentence)\n",
    "    print('-' * 80)"
   ]
  },
  {
   "cell_type": "code",
   "execution_count": 46,
   "id": "37a2a14e-80f4-4b15-a85b-49df1e6906dc",
   "metadata": {},
   "outputs": [
    {
     "data": {
      "text/plain": [
       "['The', 'ceasefire', 'between', 'Iran', 'and', 'Israel', 'is', 'in', 'effect']"
      ]
     },
     "execution_count": 46,
     "metadata": {},
     "output_type": "execute_result"
    }
   ],
   "source": [
    "'The ceasefire between Iran and Israel is in effect'.split(' ')"
   ]
  },
  {
   "cell_type": "code",
   "execution_count": 59,
   "id": "4915c90d-9ff7-4def-923f-3149985926c3",
   "metadata": {},
   "outputs": [
    {
     "data": {
      "text/plain": [
       "0"
      ]
     },
     "execution_count": 59,
     "metadata": {},
     "output_type": "execute_result"
    }
   ],
   "source": [
    "f.seek(0)"
   ]
  },
  {
   "cell_type": "code",
   "execution_count": 60,
   "id": "48a1746e-e60a-46a8-a995-68c482e17926",
   "metadata": {},
   "outputs": [],
   "source": [
    "l = []"
   ]
  },
  {
   "cell_type": "code",
   "execution_count": 61,
   "id": "77c03c6c-31a3-47ae-bc9f-b8c6d20aa237",
   "metadata": {},
   "outputs": [
    {
     "name": "stdout",
     "output_type": "stream",
     "text": [
      "The\n",
      "ceasefire\n",
      "between\n",
      "Iran\n",
      "and\n",
      "Israel\n",
      "is\n",
      "in\n",
      "effect.\n",
      "\n",
      "\n",
      "and\n",
      "Israel\n",
      "is\n",
      "not\n",
      "going\n",
      "to\n",
      "attack\n",
      "Iran,\n",
      "Donald\n",
      "Trump\n",
      "declared\n",
      "on\n",
      "Tuesday.\n",
      "\n",
      "All\n",
      "planes\n",
      "will\n",
      "turn\n",
      "around\n",
      "and\n",
      "head\n",
      "home,\n",
      "while\n",
      "doing\n",
      "a\n",
      "friendly.\n",
      "\n",
      "PRESIDENT\n",
      "OF\n",
      "THE\n",
      "UNITED\n",
      "STATES.\n",
      "\n",
      "All\n",
      "planes\n",
      "will\n",
      "turn\n",
      "around\n",
      "and\n",
      "head\n",
      "home,\n",
      "while\n",
      "doing\n",
      "a\n",
      "friendly\n"
     ]
    }
   ],
   "source": [
    "for sentence in f.readlines():\n",
    "    for words in sentence.split(' '):\n",
    "        l.append(words)\n",
    "        print(words)"
   ]
  },
  {
   "cell_type": "code",
   "execution_count": 62,
   "id": "61fd9e60-c491-492f-8c3b-516348d4265f",
   "metadata": {},
   "outputs": [
    {
     "data": {
      "text/plain": [
       "['The',\n",
       " 'ceasefire',\n",
       " 'between',\n",
       " 'Iran',\n",
       " 'and',\n",
       " 'Israel',\n",
       " 'is',\n",
       " 'in',\n",
       " 'effect.',\n",
       " '\\n',\n",
       " 'and',\n",
       " 'Israel',\n",
       " 'is',\n",
       " 'not',\n",
       " 'going',\n",
       " 'to',\n",
       " 'attack',\n",
       " 'Iran,',\n",
       " 'Donald',\n",
       " 'Trump',\n",
       " 'declared',\n",
       " 'on',\n",
       " 'Tuesday.\\n',\n",
       " 'All',\n",
       " 'planes',\n",
       " 'will',\n",
       " 'turn',\n",
       " 'around',\n",
       " 'and',\n",
       " 'head',\n",
       " 'home,',\n",
       " 'while',\n",
       " 'doing',\n",
       " 'a',\n",
       " 'friendly.\\n',\n",
       " 'PRESIDENT',\n",
       " 'OF',\n",
       " 'THE',\n",
       " 'UNITED',\n",
       " 'STATES.\\n',\n",
       " 'All',\n",
       " 'planes',\n",
       " 'will',\n",
       " 'turn',\n",
       " 'around',\n",
       " 'and',\n",
       " 'head',\n",
       " 'home,',\n",
       " 'while',\n",
       " 'doing',\n",
       " 'a',\n",
       " 'friendly']"
      ]
     },
     "execution_count": 62,
     "metadata": {},
     "output_type": "execute_result"
    }
   ],
   "source": [
    "l"
   ]
  },
  {
   "cell_type": "code",
   "execution_count": 66,
   "id": "d6196646-bdc4-4ac8-80ac-b96070aa4ad2",
   "metadata": {},
   "outputs": [
    {
     "data": {
      "text/plain": [
       "2"
      ]
     },
     "execution_count": 66,
     "metadata": {},
     "output_type": "execute_result"
    }
   ],
   "source": [
    "l.count('is')"
   ]
  },
  {
   "cell_type": "code",
   "execution_count": 68,
   "id": "4b64d69b-2eb2-4c32-a172-fc24c8f71ec6",
   "metadata": {},
   "outputs": [
    {
     "name": "stdout",
     "output_type": "stream",
     "text": [
      "T\n",
      "h\n",
      "e\n",
      "c\n",
      "e\n",
      "a\n",
      "s\n",
      "e\n",
      "f\n",
      "i\n",
      "r\n",
      "e\n",
      "b\n",
      "e\n",
      "t\n",
      "w\n",
      "e\n",
      "e\n",
      "n\n",
      "I\n",
      "r\n",
      "a\n",
      "n\n",
      "a\n",
      "n\n",
      "d\n",
      "I\n",
      "s\n",
      "r\n",
      "a\n",
      "e\n",
      "l\n",
      "i\n",
      "s\n",
      "i\n",
      "n\n",
      "e\n",
      "f\n",
      "f\n",
      "e\n",
      "c\n",
      "t\n",
      ".\n",
      "\n",
      "\n",
      "a\n",
      "n\n",
      "d\n",
      "I\n",
      "s\n",
      "r\n",
      "a\n",
      "e\n",
      "l\n",
      "i\n",
      "s\n",
      "n\n",
      "o\n",
      "t\n",
      "g\n",
      "o\n",
      "i\n",
      "n\n",
      "g\n",
      "t\n",
      "o\n",
      "a\n",
      "t\n",
      "t\n",
      "a\n",
      "c\n",
      "k\n",
      "I\n",
      "r\n",
      "a\n",
      "n\n",
      ",\n",
      "D\n",
      "o\n",
      "n\n",
      "a\n",
      "l\n",
      "d\n",
      "T\n",
      "r\n",
      "u\n",
      "m\n",
      "p\n",
      "d\n",
      "e\n",
      "c\n",
      "l\n",
      "a\n",
      "r\n",
      "e\n",
      "d\n",
      "o\n",
      "n\n",
      "T\n",
      "u\n",
      "e\n",
      "s\n",
      "d\n",
      "a\n",
      "y\n",
      ".\n",
      "\n",
      "\n",
      "A\n",
      "l\n",
      "l\n",
      "p\n",
      "l\n",
      "a\n",
      "n\n",
      "e\n",
      "s\n",
      "w\n",
      "i\n",
      "l\n",
      "l\n",
      "t\n",
      "u\n",
      "r\n",
      "n\n",
      "a\n",
      "r\n",
      "o\n",
      "u\n",
      "n\n",
      "d\n",
      "a\n",
      "n\n",
      "d\n",
      "h\n",
      "e\n",
      "a\n",
      "d\n",
      "h\n",
      "o\n",
      "m\n",
      "e\n",
      ",\n",
      "w\n",
      "h\n",
      "i\n",
      "l\n",
      "e\n",
      "d\n",
      "o\n",
      "i\n",
      "n\n",
      "g\n",
      "a\n",
      "f\n",
      "r\n",
      "i\n",
      "e\n",
      "n\n",
      "d\n",
      "l\n",
      "y\n",
      ".\n",
      "\n",
      "\n",
      "P\n",
      "R\n",
      "E\n",
      "S\n",
      "I\n",
      "D\n",
      "E\n",
      "N\n",
      "T\n",
      "O\n",
      "F\n",
      "T\n",
      "H\n",
      "E\n",
      "U\n",
      "N\n",
      "I\n",
      "T\n",
      "E\n",
      "D\n",
      "S\n",
      "T\n",
      "A\n",
      "T\n",
      "E\n",
      "S\n",
      ".\n",
      "\n",
      "\n",
      "A\n",
      "l\n",
      "l\n",
      "p\n",
      "l\n",
      "a\n",
      "n\n",
      "e\n",
      "s\n",
      "w\n",
      "i\n",
      "l\n",
      "l\n",
      "t\n",
      "u\n",
      "r\n",
      "n\n",
      "a\n",
      "r\n",
      "o\n",
      "u\n",
      "n\n",
      "d\n",
      "a\n",
      "n\n",
      "d\n",
      "h\n",
      "e\n",
      "a\n",
      "d\n",
      "h\n",
      "o\n",
      "m\n",
      "e\n",
      ",\n",
      "w\n",
      "h\n",
      "i\n",
      "l\n",
      "e\n",
      "d\n",
      "o\n",
      "i\n",
      "n\n",
      "g\n",
      "a\n",
      "f\n",
      "r\n",
      "i\n",
      "e\n",
      "n\n",
      "d\n",
      "l\n",
      "y\n"
     ]
    }
   ],
   "source": [
    "for i in l:\n",
    "    for char in i:\n",
    "        print(char)\n"
   ]
  },
  {
   "cell_type": "code",
   "execution_count": 70,
   "id": "2bf0a213-05a0-4d6c-8aeb-b2a8dd4ab003",
   "metadata": {},
   "outputs": [],
   "source": [
    "f.close()"
   ]
  },
  {
   "cell_type": "code",
   "execution_count": 69,
   "id": "483fcbaf-7308-48d9-bfc2-6c9d80639886",
   "metadata": {},
   "outputs": [],
   "source": [
    "# How to create python file by using file handling"
   ]
  },
  {
   "cell_type": "code",
   "execution_count": 71,
   "id": "90145aa0-afa9-4bdf-8032-a8eb3a14153c",
   "metadata": {},
   "outputs": [],
   "source": [
    "f= open('my_python.py', mode = 'w')"
   ]
  },
  {
   "cell_type": "code",
   "execution_count": 72,
   "id": "1b5d1613-8f64-45ba-8423-d72720f8049b",
   "metadata": {},
   "outputs": [
    {
     "data": {
      "text/plain": [
       "96"
      ]
     },
     "execution_count": 72,
     "metadata": {},
     "output_type": "execute_result"
    }
   ],
   "source": [
    "f.write('''# I am writing some function\n",
    "def square(a):\n",
    "    return a * a\n",
    "    \n",
    "def add(a,b):\n",
    "    return a + b''')"
   ]
  },
  {
   "cell_type": "code",
   "execution_count": 73,
   "id": "d2c5dc62-6da0-486b-9bf3-ec2450c1a87e",
   "metadata": {},
   "outputs": [],
   "source": [
    "f.close()"
   ]
  },
  {
   "cell_type": "code",
   "execution_count": null,
   "id": "6ceddd25-15c5-4a53-aaa9-fa583178f87e",
   "metadata": {},
   "outputs": [],
   "source": [
    "# AT least 5 files then try to read it\n",
    "--> Read singlle line\n",
    "--> Multiple lines\n",
    "--> Words \n",
    "---> Leters"
   ]
  }
 ],
 "metadata": {
  "kernelspec": {
   "display_name": "Python 3 (ipykernel)",
   "language": "python",
   "name": "python3"
  },
  "language_info": {
   "codemirror_mode": {
    "name": "ipython",
    "version": 3
   },
   "file_extension": ".py",
   "mimetype": "text/x-python",
   "name": "python",
   "nbconvert_exporter": "python",
   "pygments_lexer": "ipython3",
   "version": "3.12.4"
  }
 },
 "nbformat": 4,
 "nbformat_minor": 5
}

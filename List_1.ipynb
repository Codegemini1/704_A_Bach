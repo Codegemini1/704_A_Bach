{
 "cells": [
  {
   "cell_type": "markdown",
   "id": "a708f83b-a0cd-49f8-83a6-83f4db4a17a3",
   "metadata": {},
   "source": [
    "List"
   ]
  },
  {
   "cell_type": "code",
   "execution_count": 1,
   "id": "946deb3b-e3b9-4d4d-afba-04d931dc1e1e",
   "metadata": {},
   "outputs": [],
   "source": [
    "l = [1,2,3,4,5]"
   ]
  },
  {
   "cell_type": "code",
   "execution_count": 2,
   "id": "64b45099-47da-4356-ad09-2a10e5d8984d",
   "metadata": {},
   "outputs": [
    {
     "data": {
      "text/plain": [
       "[1, 2, 3, 4, 5]"
      ]
     },
     "execution_count": 2,
     "metadata": {},
     "output_type": "execute_result"
    }
   ],
   "source": [
    "l"
   ]
  },
  {
   "cell_type": "code",
   "execution_count": 3,
   "id": "5b09bc24-6d2c-43b7-8557-f5f46fab7a69",
   "metadata": {},
   "outputs": [
    {
     "data": {
      "text/plain": [
       "int"
      ]
     },
     "execution_count": 3,
     "metadata": {},
     "output_type": "execute_result"
    }
   ],
   "source": [
    "type(1)"
   ]
  },
  {
   "cell_type": "code",
   "execution_count": 4,
   "id": "16139852-f6d6-4d25-a0da-14e4f76c0113",
   "metadata": {},
   "outputs": [],
   "source": [
    "mix = [12, 1.5, 10+5j, 'Hello', True]"
   ]
  },
  {
   "cell_type": "code",
   "execution_count": 5,
   "id": "8122da8f-8b48-41f7-887a-12a38f61d30d",
   "metadata": {},
   "outputs": [
    {
     "data": {
      "text/plain": [
       "[12, 1.5, (10+5j), 'Hello', True]"
      ]
     },
     "execution_count": 5,
     "metadata": {},
     "output_type": "execute_result"
    }
   ],
   "source": [
    "mix"
   ]
  },
  {
   "cell_type": "code",
   "execution_count": 6,
   "id": "021cad25-f05b-42f9-9f78-bbcf470b276e",
   "metadata": {},
   "outputs": [
    {
     "data": {
      "text/plain": [
       "list"
      ]
     },
     "execution_count": 6,
     "metadata": {},
     "output_type": "execute_result"
    }
   ],
   "source": [
    "type(l)"
   ]
  },
  {
   "cell_type": "code",
   "execution_count": 7,
   "id": "ced3a543-9d49-47b9-99df-652c34d707fb",
   "metadata": {},
   "outputs": [],
   "source": [
    "names = ['Om', 'Ram', 'Sham', 'Onkar', 'Vaishnavi']"
   ]
  },
  {
   "cell_type": "code",
   "execution_count": 8,
   "id": "fbd41514-5b69-4233-be6d-87c364a801d0",
   "metadata": {},
   "outputs": [
    {
     "data": {
      "text/plain": [
       "'Sham'"
      ]
     },
     "execution_count": 8,
     "metadata": {},
     "output_type": "execute_result"
    }
   ],
   "source": [
    "names[2]"
   ]
  },
  {
   "cell_type": "code",
   "execution_count": 9,
   "id": "e745647f-2815-4c24-b49a-0710799134af",
   "metadata": {},
   "outputs": [
    {
     "data": {
      "text/plain": [
       "'Om'"
      ]
     },
     "execution_count": 9,
     "metadata": {},
     "output_type": "execute_result"
    }
   ],
   "source": [
    "names[0]"
   ]
  },
  {
   "cell_type": "markdown",
   "id": "44626bd8-99cd-4af7-baf9-458a7543e3c9",
   "metadata": {},
   "source": [
    "# Indexing Operations"
   ]
  },
  {
   "cell_type": "code",
   "execution_count": 10,
   "id": "aff29fb1-77f4-4342-b92a-6337c649b68f",
   "metadata": {},
   "outputs": [
    {
     "data": {
      "text/plain": [
       "[12, 1.5, (10+5j), 'Hello', True]"
      ]
     },
     "execution_count": 10,
     "metadata": {},
     "output_type": "execute_result"
    }
   ],
   "source": [
    "mix"
   ]
  },
  {
   "cell_type": "code",
   "execution_count": 11,
   "id": "89c10c46-c50c-438b-a754-7b0a45140c59",
   "metadata": {},
   "outputs": [
    {
     "data": {
      "text/plain": [
       "'Hello'"
      ]
     },
     "execution_count": 11,
     "metadata": {},
     "output_type": "execute_result"
    }
   ],
   "source": [
    "mix[3]"
   ]
  },
  {
   "cell_type": "code",
   "execution_count": 12,
   "id": "697e61e2-b715-4e22-868a-c37689a9a420",
   "metadata": {},
   "outputs": [
    {
     "data": {
      "text/plain": [
       "[1, 2, 3, 4, 5]"
      ]
     },
     "execution_count": 12,
     "metadata": {},
     "output_type": "execute_result"
    }
   ],
   "source": [
    "l"
   ]
  },
  {
   "cell_type": "code",
   "execution_count": 13,
   "id": "e16d1acd-039d-4246-bd05-f920f03139ad",
   "metadata": {},
   "outputs": [
    {
     "data": {
      "text/plain": [
       "5"
      ]
     },
     "execution_count": 13,
     "metadata": {},
     "output_type": "execute_result"
    }
   ],
   "source": [
    "l[4]"
   ]
  },
  {
   "cell_type": "markdown",
   "id": "ac39b0f3-b519-4319-b306-b55314cc1aa3",
   "metadata": {},
   "source": [
    "# Change data"
   ]
  },
  {
   "cell_type": "code",
   "execution_count": 14,
   "id": "a8fa8455-9971-4afc-b443-3c4acf59a3bb",
   "metadata": {},
   "outputs": [
    {
     "data": {
      "text/plain": [
       "['Om', 'Ram', 'Sham', 'Onkar', 'Vaishnavi']"
      ]
     },
     "execution_count": 14,
     "metadata": {},
     "output_type": "execute_result"
    }
   ],
   "source": [
    "names"
   ]
  },
  {
   "cell_type": "code",
   "execution_count": 15,
   "id": "1e8d3516-4b55-4d34-8d1d-61b250e189fa",
   "metadata": {},
   "outputs": [
    {
     "data": {
      "text/plain": [
       "'Ram'"
      ]
     },
     "execution_count": 15,
     "metadata": {},
     "output_type": "execute_result"
    }
   ],
   "source": [
    "names[1]"
   ]
  },
  {
   "cell_type": "code",
   "execution_count": 16,
   "id": "4b1c3da0-072a-49f1-9067-346ae51dcd32",
   "metadata": {},
   "outputs": [],
   "source": [
    "names[1] = 'Aniket'"
   ]
  },
  {
   "cell_type": "code",
   "execution_count": 17,
   "id": "bc0e76c9-a639-435f-a6c7-c3a97759300d",
   "metadata": {},
   "outputs": [
    {
     "data": {
      "text/plain": [
       "['Om', 'Aniket', 'Sham', 'Onkar', 'Vaishnavi']"
      ]
     },
     "execution_count": 17,
     "metadata": {},
     "output_type": "execute_result"
    }
   ],
   "source": [
    "names"
   ]
  },
  {
   "cell_type": "code",
   "execution_count": 18,
   "id": "1f55008a-f398-43d8-9ad8-e2402a0e3e0f",
   "metadata": {},
   "outputs": [
    {
     "data": {
      "text/plain": [
       "[12, 1.5, (10+5j), 'Hello', True]"
      ]
     },
     "execution_count": 18,
     "metadata": {},
     "output_type": "execute_result"
    }
   ],
   "source": [
    "mix"
   ]
  },
  {
   "cell_type": "code",
   "execution_count": 20,
   "id": "cbff299d-63e0-410a-9743-e7ec6561e532",
   "metadata": {},
   "outputs": [],
   "source": [
    "mix[1] = 50.50"
   ]
  },
  {
   "cell_type": "code",
   "execution_count": 21,
   "id": "eb1a0273-c14c-498f-b549-7048b98c581a",
   "metadata": {},
   "outputs": [
    {
     "data": {
      "text/plain": [
       "[12, 50.5, (10+5j), 'Hello', True]"
      ]
     },
     "execution_count": 21,
     "metadata": {},
     "output_type": "execute_result"
    }
   ],
   "source": [
    "mix"
   ]
  },
  {
   "cell_type": "markdown",
   "id": "9a205c40-361a-48b5-99ca-68af636230f9",
   "metadata": {},
   "source": [
    "# Slicing "
   ]
  },
  {
   "cell_type": "code",
   "execution_count": 22,
   "id": "0704be9f-3cc6-4b1c-a3a1-ab51f366d4c0",
   "metadata": {},
   "outputs": [
    {
     "data": {
      "text/plain": [
       "['Om', 'Aniket', 'Sham', 'Onkar', 'Vaishnavi']"
      ]
     },
     "execution_count": 22,
     "metadata": {},
     "output_type": "execute_result"
    }
   ],
   "source": [
    "names"
   ]
  },
  {
   "cell_type": "code",
   "execution_count": 23,
   "id": "6034a3ee-fcd0-4ac4-891c-4c85fd23bf94",
   "metadata": {},
   "outputs": [
    {
     "data": {
      "text/plain": [
       "['Aniket', 'Sham', 'Onkar']"
      ]
     },
     "execution_count": 23,
     "metadata": {},
     "output_type": "execute_result"
    }
   ],
   "source": [
    "names[1:4] # starting index : End Index "
   ]
  },
  {
   "cell_type": "code",
   "execution_count": 24,
   "id": "92b9f0d1-5398-48fc-9571-8b42079fb2d9",
   "metadata": {},
   "outputs": [
    {
     "data": {
      "text/plain": [
       "['Om', 'Aniket', 'Sham']"
      ]
     },
     "execution_count": 24,
     "metadata": {},
     "output_type": "execute_result"
    }
   ],
   "source": [
    "names[0:3]"
   ]
  },
  {
   "cell_type": "code",
   "execution_count": 25,
   "id": "2d05b381-63a3-49a5-9b15-9da20187bebf",
   "metadata": {},
   "outputs": [
    {
     "data": {
      "text/plain": [
       "['Onkar', 'Vaishnavi']"
      ]
     },
     "execution_count": 25,
     "metadata": {},
     "output_type": "execute_result"
    }
   ],
   "source": [
    "names[3:5]"
   ]
  },
  {
   "cell_type": "code",
   "execution_count": 26,
   "id": "5490a797-5ffb-437f-b487-6a6a9d0557e1",
   "metadata": {},
   "outputs": [
    {
     "data": {
      "text/plain": [
       "['Om', 'Aniket', 'Sham', 'Onkar', 'Vaishnavi']"
      ]
     },
     "execution_count": 26,
     "metadata": {},
     "output_type": "execute_result"
    }
   ],
   "source": [
    "names"
   ]
  },
  {
   "cell_type": "code",
   "execution_count": 27,
   "id": "96c73620-cf07-430e-8392-7438982aefa6",
   "metadata": {},
   "outputs": [
    {
     "data": {
      "text/plain": [
       "['Om', 'Aniket', 'Sham', 'Onkar', 'Vaishnavi']"
      ]
     },
     "execution_count": 27,
     "metadata": {},
     "output_type": "execute_result"
    }
   ],
   "source": [
    "names[:]"
   ]
  },
  {
   "cell_type": "code",
   "execution_count": 28,
   "id": "a29da188-59dd-4f62-a00a-edfb1a5606ff",
   "metadata": {},
   "outputs": [
    {
     "data": {
      "text/plain": [
       "['Om', 'Aniket', 'Sham']"
      ]
     },
     "execution_count": 28,
     "metadata": {},
     "output_type": "execute_result"
    }
   ],
   "source": [
    "names[:3]"
   ]
  },
  {
   "cell_type": "code",
   "execution_count": 29,
   "id": "0a0bd027-707b-4187-8186-891bd09d5847",
   "metadata": {},
   "outputs": [
    {
     "data": {
      "text/plain": [
       "['Sham', 'Onkar', 'Vaishnavi']"
      ]
     },
     "execution_count": 29,
     "metadata": {},
     "output_type": "execute_result"
    }
   ],
   "source": [
    "names[2:]"
   ]
  },
  {
   "cell_type": "code",
   "execution_count": 30,
   "id": "136a8f94-242a-45fe-9066-6215ece71bd4",
   "metadata": {},
   "outputs": [
    {
     "data": {
      "text/plain": [
       "[12, 50.5, (10+5j), 'Hello', True]"
      ]
     },
     "execution_count": 30,
     "metadata": {},
     "output_type": "execute_result"
    }
   ],
   "source": [
    "mix"
   ]
  },
  {
   "cell_type": "code",
   "execution_count": 31,
   "id": "63636e41-7834-4943-a4b3-5ee7506bc728",
   "metadata": {},
   "outputs": [
    {
     "data": {
      "text/plain": [
       "[(10+5j), 'Hello', True]"
      ]
     },
     "execution_count": 31,
     "metadata": {},
     "output_type": "execute_result"
    }
   ],
   "source": [
    "mix[2:]"
   ]
  },
  {
   "cell_type": "code",
   "execution_count": 32,
   "id": "8362ad45-1732-4067-b829-3b26a2cb873e",
   "metadata": {},
   "outputs": [
    {
     "data": {
      "text/plain": [
       "[(10+5j), 'Hello']"
      ]
     },
     "execution_count": 32,
     "metadata": {},
     "output_type": "execute_result"
    }
   ],
   "source": [
    "mix[2:4]"
   ]
  },
  {
   "cell_type": "code",
   "execution_count": 33,
   "id": "bb7cc21c-60dd-4f7f-b0de-b41ae44c1561",
   "metadata": {},
   "outputs": [
    {
     "data": {
      "text/plain": [
       "True"
      ]
     },
     "execution_count": 33,
     "metadata": {},
     "output_type": "execute_result"
    }
   ],
   "source": [
    "mix[4]"
   ]
  },
  {
   "cell_type": "code",
   "execution_count": 34,
   "id": "d62f3c98-7b11-46ff-82ad-d6b8ab8aa655",
   "metadata": {},
   "outputs": [
    {
     "data": {
      "text/plain": [
       "True"
      ]
     },
     "execution_count": 34,
     "metadata": {},
     "output_type": "execute_result"
    }
   ],
   "source": [
    "mix[-1]"
   ]
  },
  {
   "cell_type": "code",
   "execution_count": 35,
   "id": "fb72c644-935c-482d-9f64-52568b51652c",
   "metadata": {},
   "outputs": [
    {
     "data": {
      "text/plain": [
       "'Hello'"
      ]
     },
     "execution_count": 35,
     "metadata": {},
     "output_type": "execute_result"
    }
   ],
   "source": [
    "mix[-2]"
   ]
  },
  {
   "cell_type": "code",
   "execution_count": 36,
   "id": "fbbec07c-30d1-4fd1-addc-0016adaa400f",
   "metadata": {},
   "outputs": [],
   "source": [
    "l2 = [1,2,3,4,5,6,7,8]"
   ]
  },
  {
   "cell_type": "code",
   "execution_count": 37,
   "id": "b2242106-7961-41e3-869b-8804cbb9ea82",
   "metadata": {},
   "outputs": [
    {
     "data": {
      "text/plain": [
       "[1, 2, 3, 4, 5, 6, 7, 8]"
      ]
     },
     "execution_count": 37,
     "metadata": {},
     "output_type": "execute_result"
    }
   ],
   "source": [
    "l2"
   ]
  },
  {
   "cell_type": "code",
   "execution_count": 39,
   "id": "60cd7e29-1af4-4db0-b93e-2cc200addd26",
   "metadata": {},
   "outputs": [
    {
     "data": {
      "text/plain": [
       "[1, 2, 3, 4, 5, 6, 7, 8]"
      ]
     },
     "execution_count": 39,
     "metadata": {},
     "output_type": "execute_result"
    }
   ],
   "source": [
    "l2[0:8]"
   ]
  },
  {
   "cell_type": "code",
   "execution_count": 40,
   "id": "9e9b1552-2f47-414e-a76a-651caaaa9bfb",
   "metadata": {},
   "outputs": [
    {
     "data": {
      "text/plain": [
       "[1, 2, 3, 4, 5, 6, 7, 8]"
      ]
     },
     "execution_count": 40,
     "metadata": {},
     "output_type": "execute_result"
    }
   ],
   "source": [
    "l2[:]"
   ]
  },
  {
   "cell_type": "code",
   "execution_count": 42,
   "id": "9031cdf5-d311-415d-8598-2c33847b0430",
   "metadata": {},
   "outputs": [
    {
     "data": {
      "text/plain": [
       "[1, 3, 5, 7]"
      ]
     },
     "execution_count": 42,
     "metadata": {},
     "output_type": "execute_result"
    }
   ],
   "source": [
    "l2[::2] # Start index : End Index : Jump Size"
   ]
  },
  {
   "cell_type": "code",
   "execution_count": 46,
   "id": "091fe5a9-3bf7-44b9-8941-2c07972b3db4",
   "metadata": {},
   "outputs": [
    {
     "data": {
      "text/plain": [
       "[2, 4, 6, 8]"
      ]
     },
     "execution_count": 46,
     "metadata": {},
     "output_type": "execute_result"
    }
   ],
   "source": [
    "l2[1::2]"
   ]
  },
  {
   "cell_type": "code",
   "execution_count": 47,
   "id": "c741d5e5-9f7d-4802-b4f1-5bb8cabe5987",
   "metadata": {},
   "outputs": [],
   "source": [
    "# Reverse Order"
   ]
  },
  {
   "cell_type": "code",
   "execution_count": 49,
   "id": "9b3417c8-e8f9-401f-bcf5-0e99758e0c31",
   "metadata": {},
   "outputs": [
    {
     "data": {
      "text/plain": [
       "[8, 7, 6, 5, 4, 3, 2, 1]"
      ]
     },
     "execution_count": 49,
     "metadata": {},
     "output_type": "execute_result"
    }
   ],
   "source": [
    "l2[::-1]"
   ]
  },
  {
   "cell_type": "code",
   "execution_count": 50,
   "id": "01dd8ee4-8900-4f17-bba8-8cc9f11af5f8",
   "metadata": {},
   "outputs": [
    {
     "data": {
      "text/plain": [
       "[8, 6, 4, 2]"
      ]
     },
     "execution_count": 50,
     "metadata": {},
     "output_type": "execute_result"
    }
   ],
   "source": [
    "l2[::-2]"
   ]
  },
  {
   "cell_type": "code",
   "execution_count": 51,
   "id": "0aad8f1a-9f13-4fea-ad36-9009aa4ffb16",
   "metadata": {},
   "outputs": [
    {
     "data": {
      "text/plain": [
       "[8, 5, 2]"
      ]
     },
     "execution_count": 51,
     "metadata": {},
     "output_type": "execute_result"
    }
   ],
   "source": [
    "l2[::-3]"
   ]
  },
  {
   "cell_type": "code",
   "execution_count": 52,
   "id": "a816758b-2d43-4279-98fd-51ebf2f11eb9",
   "metadata": {},
   "outputs": [
    {
     "data": {
      "text/plain": [
       "[1, 2, 3, 4, 5, 6, 7, 8]"
      ]
     },
     "execution_count": 52,
     "metadata": {},
     "output_type": "execute_result"
    }
   ],
   "source": [
    "l2"
   ]
  },
  {
   "cell_type": "code",
   "execution_count": 53,
   "id": "3b06a23d-c8f9-4464-b5d4-58e9b0e127ca",
   "metadata": {},
   "outputs": [
    {
     "data": {
      "text/plain": [
       "[8, 7, 6, 5, 4]"
      ]
     },
     "execution_count": 53,
     "metadata": {},
     "output_type": "execute_result"
    }
   ],
   "source": [
    "l2[7:2:-1]"
   ]
  },
  {
   "cell_type": "code",
   "execution_count": 54,
   "id": "8963b6a9-05d3-40af-8a35-a7aa740b0d63",
   "metadata": {},
   "outputs": [],
   "source": [
    "# Paterns --> 5 Examples"
   ]
  },
  {
   "cell_type": "code",
   "execution_count": null,
   "id": "5a344904-67b8-405f-a89f-5a00ba3fd76a",
   "metadata": {},
   "outputs": [],
   "source": []
  }
 ],
 "metadata": {
  "kernelspec": {
   "display_name": "Python 3 (ipykernel)",
   "language": "python",
   "name": "python3"
  },
  "language_info": {
   "codemirror_mode": {
    "name": "ipython",
    "version": 3
   },
   "file_extension": ".py",
   "mimetype": "text/x-python",
   "name": "python",
   "nbconvert_exporter": "python",
   "pygments_lexer": "ipython3",
   "version": "3.12.4"
  }
 },
 "nbformat": 4,
 "nbformat_minor": 5
}

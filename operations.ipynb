{
 "cells": [
  {
   "cell_type": "code",
   "execution_count": 1,
   "id": "b29aef56-6f89-46b6-8c2b-e45022fd36db",
   "metadata": {},
   "outputs": [
    {
     "data": {
      "text/plain": [
       "15"
      ]
     },
     "execution_count": 1,
     "metadata": {},
     "output_type": "execute_result"
    }
   ],
   "source": [
    "10 + 5"
   ]
  },
  {
   "cell_type": "code",
   "execution_count": 2,
   "id": "a62ec939-a5f5-4c18-b569-9fc5774a6fb2",
   "metadata": {},
   "outputs": [
    {
     "data": {
      "text/plain": [
       "56"
      ]
     },
     "execution_count": 2,
     "metadata": {},
     "output_type": "execute_result"
    }
   ],
   "source": [
    "8 * 7"
   ]
  },
  {
   "cell_type": "code",
   "execution_count": 3,
   "id": "88018a7a-1f3e-4ed9-baaf-b0d0ca156683",
   "metadata": {},
   "outputs": [
    {
     "data": {
      "text/plain": [
       "5.0"
      ]
     },
     "execution_count": 3,
     "metadata": {},
     "output_type": "execute_result"
    }
   ],
   "source": [
    "10 / 2"
   ]
  },
  {
   "cell_type": "code",
   "execution_count": 4,
   "id": "2f21d7d0-b9c7-4a2b-8bcb-e78607b8b4bb",
   "metadata": {},
   "outputs": [
    {
     "data": {
      "text/plain": [
       "0"
      ]
     },
     "execution_count": 4,
     "metadata": {},
     "output_type": "execute_result"
    }
   ],
   "source": [
    "10 % 2"
   ]
  },
  {
   "cell_type": "code",
   "execution_count": 5,
   "id": "0977faaf-d147-468d-9940-8db6dbe3630f",
   "metadata": {},
   "outputs": [
    {
     "data": {
      "text/plain": [
       "'VaibhavVaibhavVaibhavVaibhavVaibhav'"
      ]
     },
     "execution_count": 5,
     "metadata": {},
     "output_type": "execute_result"
    }
   ],
   "source": [
    "'Vaibhav' * 5"
   ]
  },
  {
   "cell_type": "code",
   "execution_count": 7,
   "id": "f73f4894-3e2f-47bc-b2f7-c299dff976e7",
   "metadata": {},
   "outputs": [
    {
     "data": {
      "text/plain": [
       "15"
      ]
     },
     "execution_count": 7,
     "metadata": {},
     "output_type": "execute_result"
    }
   ],
   "source": [
    "10 + 5   # int + int"
   ]
  },
  {
   "cell_type": "code",
   "execution_count": 8,
   "id": "f548e2ea-bfa6-41a6-b175-99f01cd37fae",
   "metadata": {},
   "outputs": [
    {
     "ename": "TypeError",
     "evalue": "unsupported operand type(s) for +: 'int' and 'str'",
     "output_type": "error",
     "traceback": [
      "\u001b[1;31m---------------------------------------------------------------------------\u001b[0m",
      "\u001b[1;31mTypeError\u001b[0m                                 Traceback (most recent call last)",
      "Cell \u001b[1;32mIn[8], line 1\u001b[0m\n\u001b[1;32m----> 1\u001b[0m \u001b[38;5;241m10\u001b[39m \u001b[38;5;241m+\u001b[39m \u001b[38;5;124m'\u001b[39m\u001b[38;5;124mhello\u001b[39m\u001b[38;5;124m'\u001b[39m\n",
      "\u001b[1;31mTypeError\u001b[0m: unsupported operand type(s) for +: 'int' and 'str'"
     ]
    }
   ],
   "source": [
    "10 + 'hello'"
   ]
  },
  {
   "cell_type": "code",
   "execution_count": 6,
   "id": "58dac8b7-6008-46c8-be59-90bb8fa6634b",
   "metadata": {},
   "outputs": [
    {
     "data": {
      "text/plain": [
       "'HelloPython'"
      ]
     },
     "execution_count": 6,
     "metadata": {},
     "output_type": "execute_result"
    }
   ],
   "source": [
    "'Hello' + 'Python'   # str + str"
   ]
  },
  {
   "cell_type": "code",
   "execution_count": 9,
   "id": "6d7d52a3-a05c-42f5-91d5-6ddbbbdf839c",
   "metadata": {},
   "outputs": [
    {
     "data": {
      "text/plain": [
       "6.5"
      ]
     },
     "execution_count": 9,
     "metadata": {},
     "output_type": "execute_result"
    }
   ],
   "source": [
    "5 + 1.5  #int + float"
   ]
  },
  {
   "cell_type": "markdown",
   "id": "e7e5927d-34b3-4745-aad0-1639a5a76e91",
   "metadata": {},
   "source": [
    "# Variables"
   ]
  },
  {
   "cell_type": "code",
   "execution_count": 11,
   "id": "a0fdb335-f8aa-4e3b-84ea-21052f4034bc",
   "metadata": {},
   "outputs": [],
   "source": [
    "x = 10  # x is variable and 10 is object"
   ]
  },
  {
   "cell_type": "code",
   "execution_count": 12,
   "id": "227faa39-737e-4dda-84cf-357038bb070e",
   "metadata": {},
   "outputs": [],
   "source": [
    "a = 5\n",
    "b = 2\n",
    "c = a + b"
   ]
  },
  {
   "cell_type": "code",
   "execution_count": 13,
   "id": "e6b803fa-a667-4119-a5d8-e940e3e8ec1d",
   "metadata": {},
   "outputs": [
    {
     "data": {
      "text/plain": [
       "7"
      ]
     },
     "execution_count": 13,
     "metadata": {},
     "output_type": "execute_result"
    }
   ],
   "source": [
    "c"
   ]
  },
  {
   "cell_type": "code",
   "execution_count": 14,
   "id": "01ce93da-0b31-49d7-bc18-183b50517e2e",
   "metadata": {},
   "outputs": [],
   "source": [
    "num = 10"
   ]
  },
  {
   "cell_type": "code",
   "execution_count": 16,
   "id": "0e4a0158-c646-4a8b-b7e9-9d42e337684e",
   "metadata": {},
   "outputs": [
    {
     "data": {
      "text/plain": [
       "10"
      ]
     },
     "execution_count": 16,
     "metadata": {},
     "output_type": "execute_result"
    }
   ],
   "source": [
    "num"
   ]
  },
  {
   "cell_type": "code",
   "execution_count": 17,
   "id": "42943f38-5114-40ac-9c4d-771c174803a2",
   "metadata": {},
   "outputs": [],
   "source": [
    "name = 'Vaibhav'"
   ]
  },
  {
   "cell_type": "code",
   "execution_count": 18,
   "id": "7ea8a7d6-15be-4622-af48-994d22e6911a",
   "metadata": {},
   "outputs": [
    {
     "data": {
      "text/plain": [
       "'Vaibhav'"
      ]
     },
     "execution_count": 18,
     "metadata": {},
     "output_type": "execute_result"
    }
   ],
   "source": [
    "name"
   ]
  },
  {
   "cell_type": "code",
   "execution_count": 19,
   "id": "4c8c7d34-7a7e-4c65-85ba-45e6f6e9c2d0",
   "metadata": {},
   "outputs": [],
   "source": [
    "first_name = 'Vaibhav'\n",
    "last_name = 'Bhosale'"
   ]
  },
  {
   "cell_type": "code",
   "execution_count": 20,
   "id": "976548f1-9447-42aa-b0b4-3a7ec3ac2848",
   "metadata": {},
   "outputs": [
    {
     "data": {
      "text/plain": [
       "'Vaibhav'"
      ]
     },
     "execution_count": 20,
     "metadata": {},
     "output_type": "execute_result"
    }
   ],
   "source": [
    "first_name"
   ]
  },
  {
   "cell_type": "code",
   "execution_count": 21,
   "id": "e8a94459-1d04-4672-8455-bd35ba5bbbd2",
   "metadata": {},
   "outputs": [
    {
     "data": {
      "text/plain": [
       "'Bhosale'"
      ]
     },
     "execution_count": 21,
     "metadata": {},
     "output_type": "execute_result"
    }
   ],
   "source": [
    "last_name"
   ]
  },
  {
   "cell_type": "code",
   "execution_count": 22,
   "id": "dff6f715-d9a3-4740-b236-99e95e45f178",
   "metadata": {},
   "outputs": [
    {
     "data": {
      "text/plain": [
       "'VaibhavBhosale'"
      ]
     },
     "execution_count": 22,
     "metadata": {},
     "output_type": "execute_result"
    }
   ],
   "source": [
    "first_name + last_name"
   ]
  },
  {
   "cell_type": "code",
   "execution_count": 23,
   "id": "4cf60fca-15a9-4623-9bb0-d64b131769a7",
   "metadata": {},
   "outputs": [
    {
     "data": {
      "text/plain": [
       "'Vaibhav Bhosale'"
      ]
     },
     "execution_count": 23,
     "metadata": {},
     "output_type": "execute_result"
    }
   ],
   "source": [
    "first_name + ' ' + last_name"
   ]
  },
  {
   "cell_type": "code",
   "execution_count": 24,
   "id": "794ee412-1741-4fdb-919f-53c4aafb2b4e",
   "metadata": {},
   "outputs": [
    {
     "ename": "SyntaxError",
     "evalue": "cannot assign to literal here. Maybe you meant '==' instead of '='? (3152282288.py, line 1)",
     "output_type": "error",
     "traceback": [
      "\u001b[1;36m  Cell \u001b[1;32mIn[24], line 1\u001b[1;36m\u001b[0m\n\u001b[1;33m    2 = 'Hello'\u001b[0m\n\u001b[1;37m    ^\u001b[0m\n\u001b[1;31mSyntaxError\u001b[0m\u001b[1;31m:\u001b[0m cannot assign to literal here. Maybe you meant '==' instead of '='?\n"
     ]
    }
   ],
   "source": [
    "2 = 'Hello'"
   ]
  },
  {
   "cell_type": "code",
   "execution_count": 25,
   "id": "a8a9eaed-b537-4a01-bb0b-83c82e47999b",
   "metadata": {},
   "outputs": [
    {
     "ename": "SyntaxError",
     "evalue": "cannot assign to literal here. Maybe you meant '==' instead of '='? (1518929445.py, line 1)",
     "output_type": "error",
     "traceback": [
      "\u001b[1;36m  Cell \u001b[1;32mIn[25], line 1\u001b[1;36m\u001b[0m\n\u001b[1;33m    3 = 5\u001b[0m\n\u001b[1;37m    ^\u001b[0m\n\u001b[1;31mSyntaxError\u001b[0m\u001b[1;31m:\u001b[0m cannot assign to literal here. Maybe you meant '==' instead of '='?\n"
     ]
    }
   ],
   "source": [
    "3 = 5"
   ]
  },
  {
   "cell_type": "code",
   "execution_count": 26,
   "id": "e4b3e143-0f2e-4814-a997-f9fa131354e9",
   "metadata": {},
   "outputs": [],
   "source": [
    "a_2 = 'Hello'"
   ]
  },
  {
   "cell_type": "code",
   "execution_count": 27,
   "id": "b2a8e452-52e7-4029-99dd-2f26bc132cbb",
   "metadata": {},
   "outputs": [
    {
     "data": {
      "text/plain": [
       "'Hello'"
      ]
     },
     "execution_count": 27,
     "metadata": {},
     "output_type": "execute_result"
    }
   ],
   "source": [
    "a_2"
   ]
  },
  {
   "cell_type": "code",
   "execution_count": 28,
   "id": "226a411b-6f0c-4cce-b846-526b9558fb5b",
   "metadata": {},
   "outputs": [
    {
     "ename": "SyntaxError",
     "evalue": "invalid syntax (809333050.py, line 1)",
     "output_type": "error",
     "traceback": [
      "\u001b[1;36m  Cell \u001b[1;32mIn[28], line 1\u001b[1;36m\u001b[0m\n\u001b[1;33m    @ = 7282\u001b[0m\n\u001b[1;37m      ^\u001b[0m\n\u001b[1;31mSyntaxError\u001b[0m\u001b[1;31m:\u001b[0m invalid syntax\n"
     ]
    }
   ],
   "source": [
    "@ = 7282"
   ]
  },
  {
   "cell_type": "code",
   "execution_count": 29,
   "id": "fced5509-c42b-4070-a821-e73da142f497",
   "metadata": {},
   "outputs": [],
   "source": [
    "# User input"
   ]
  },
  {
   "cell_type": "code",
   "execution_count": 30,
   "id": "71a61aac-e2c6-4965-90ba-56c92dec562b",
   "metadata": {},
   "outputs": [
    {
     "name": "stdin",
     "output_type": "stream",
     "text": [
      "Write your name Vaibhav\n"
     ]
    },
    {
     "name": "stdout",
     "output_type": "stream",
     "text": [
      "Your name is Vaibhav\n"
     ]
    }
   ],
   "source": [
    "name = input('Write your name')\n",
    "print('Your name is', name)"
   ]
  },
  {
   "cell_type": "code",
   "execution_count": 31,
   "id": "61b7f69c-b9ac-4b19-9a3a-5c22b1986b00",
   "metadata": {},
   "outputs": [
    {
     "data": {
      "text/plain": [
       "'Vaibhav'"
      ]
     },
     "execution_count": 31,
     "metadata": {},
     "output_type": "execute_result"
    }
   ],
   "source": [
    "name"
   ]
  },
  {
   "cell_type": "code",
   "execution_count": 32,
   "id": "14e0afd2-7344-4a72-92b7-d09ec1ee2c7d",
   "metadata": {},
   "outputs": [
    {
     "name": "stdout",
     "output_type": "stream",
     "text": [
      "I am writing my name and name is Vaibhav\n"
     ]
    }
   ],
   "source": [
    "print(f'I am writing my name and name is {name}')"
   ]
  },
  {
   "cell_type": "code",
   "execution_count": 33,
   "id": "0405f88a-1816-4d30-ae1e-184ac6d06502",
   "metadata": {},
   "outputs": [
    {
     "name": "stdout",
     "output_type": "stream",
     "text": [
      "Your first name is Vaibhav and your last name is Bhosale\n"
     ]
    }
   ],
   "source": [
    "print(f'Your first name is {first_name} and your last name is {last_name}')"
   ]
  },
  {
   "cell_type": "code",
   "execution_count": 34,
   "id": "1815d3df-80ea-463c-8347-251b48b39f69",
   "metadata": {},
   "outputs": [
    {
     "data": {
      "text/plain": [
       "'Vaibhav'"
      ]
     },
     "execution_count": 34,
     "metadata": {},
     "output_type": "execute_result"
    }
   ],
   "source": [
    "name"
   ]
  },
  {
   "cell_type": "code",
   "execution_count": 35,
   "id": "e8592a73-167f-41d0-a9d4-2b92122f7e64",
   "metadata": {},
   "outputs": [
    {
     "name": "stdin",
     "output_type": "stream",
     "text": [
      "Write your city name solapur\n"
     ]
    },
    {
     "name": "stdout",
     "output_type": "stream",
     "text": [
      "Your best city name is solapur\n"
     ]
    }
   ],
   "source": [
    "city = input('Write your city name')\n",
    "print(f'Your best city name is {city}')"
   ]
  },
  {
   "cell_type": "code",
   "execution_count": 36,
   "id": "e50551dc-b294-43c6-906c-69a092f3dd31",
   "metadata": {},
   "outputs": [
    {
     "data": {
      "text/plain": [
       "'solapur'"
      ]
     },
     "execution_count": 36,
     "metadata": {},
     "output_type": "execute_result"
    }
   ],
   "source": [
    "city"
   ]
  },
  {
   "cell_type": "code",
   "execution_count": 37,
   "id": "06d79408-a477-42aa-bff8-e453bff26bb7",
   "metadata": {},
   "outputs": [
    {
     "data": {
      "text/plain": [
       "str"
      ]
     },
     "execution_count": 37,
     "metadata": {},
     "output_type": "execute_result"
    }
   ],
   "source": [
    "type(city)"
   ]
  },
  {
   "cell_type": "code",
   "execution_count": 38,
   "id": "6cadeb7e-a7f5-43af-8991-1e663ad81a06",
   "metadata": {},
   "outputs": [
    {
     "data": {
      "text/plain": [
       "'145'"
      ]
     },
     "execution_count": 38,
     "metadata": {},
     "output_type": "execute_result"
    }
   ],
   "source": [
    "'145'"
   ]
  },
  {
   "cell_type": "code",
   "execution_count": 39,
   "id": "673c0fea-3c5f-4e0e-9f01-73fff641b7fd",
   "metadata": {},
   "outputs": [
    {
     "data": {
      "text/plain": [
       "str"
      ]
     },
     "execution_count": 39,
     "metadata": {},
     "output_type": "execute_result"
    }
   ],
   "source": [
    "type('546')"
   ]
  },
  {
   "cell_type": "code",
   "execution_count": 40,
   "id": "2ea31888-8602-40c6-a934-d73896ad38f9",
   "metadata": {},
   "outputs": [
    {
     "data": {
      "text/plain": [
       "int"
      ]
     },
     "execution_count": 40,
     "metadata": {},
     "output_type": "execute_result"
    }
   ],
   "source": [
    "type(546)"
   ]
  },
  {
   "cell_type": "code",
   "execution_count": 41,
   "id": "c2bc15f6-87f7-4601-88a5-bedd51074097",
   "metadata": {},
   "outputs": [
    {
     "name": "stdin",
     "output_type": "stream",
     "text": [
      "Write your height in feet 5.7\n"
     ]
    }
   ],
   "source": [
    "height = input('Write your height in feet')"
   ]
  },
  {
   "cell_type": "code",
   "execution_count": 42,
   "id": "7690f34f-825f-4f1e-b775-49d8a2eb1e2b",
   "metadata": {},
   "outputs": [
    {
     "data": {
      "text/plain": [
       "'5.7'"
      ]
     },
     "execution_count": 42,
     "metadata": {},
     "output_type": "execute_result"
    }
   ],
   "source": [
    "height"
   ]
  },
  {
   "cell_type": "code",
   "execution_count": 43,
   "id": "16cc29ac-80e4-4a59-b28d-80c229d7457f",
   "metadata": {},
   "outputs": [
    {
     "data": {
      "text/plain": [
       "str"
      ]
     },
     "execution_count": 43,
     "metadata": {},
     "output_type": "execute_result"
    }
   ],
   "source": [
    "type(height)"
   ]
  },
  {
   "cell_type": "code",
   "execution_count": 44,
   "id": "83b3bb47-374f-47ae-b41d-1a00422fb841",
   "metadata": {},
   "outputs": [
    {
     "name": "stdin",
     "output_type": "stream",
     "text": [
      "Write your age 64\n"
     ]
    }
   ],
   "source": [
    "age = int(input('Write your age'))"
   ]
  },
  {
   "cell_type": "code",
   "execution_count": 45,
   "id": "81de3b71-4e43-4220-8f2c-78e3081d669a",
   "metadata": {},
   "outputs": [
    {
     "data": {
      "text/plain": [
       "64"
      ]
     },
     "execution_count": 45,
     "metadata": {},
     "output_type": "execute_result"
    }
   ],
   "source": [
    "age"
   ]
  },
  {
   "cell_type": "code",
   "execution_count": 46,
   "id": "40b96316-a299-4dc0-b943-fe536f0fffcb",
   "metadata": {},
   "outputs": [
    {
     "data": {
      "text/plain": [
       "int"
      ]
     },
     "execution_count": 46,
     "metadata": {},
     "output_type": "execute_result"
    }
   ],
   "source": [
    "type(age)"
   ]
  },
  {
   "cell_type": "code",
   "execution_count": 47,
   "id": "e7331583-ed1b-4a79-8928-bc5311c4a874",
   "metadata": {},
   "outputs": [
    {
     "name": "stdin",
     "output_type": "stream",
     "text": [
      "Write your age five\n"
     ]
    },
    {
     "ename": "ValueError",
     "evalue": "invalid literal for int() with base 10: 'five'",
     "output_type": "error",
     "traceback": [
      "\u001b[1;31m---------------------------------------------------------------------------\u001b[0m",
      "\u001b[1;31mValueError\u001b[0m                                Traceback (most recent call last)",
      "Cell \u001b[1;32mIn[47], line 1\u001b[0m\n\u001b[1;32m----> 1\u001b[0m weight\u001b[38;5;241m=\u001b[39m \u001b[38;5;28mint\u001b[39m(\u001b[38;5;28minput\u001b[39m(\u001b[38;5;124m'\u001b[39m\u001b[38;5;124mWrite your age\u001b[39m\u001b[38;5;124m'\u001b[39m))\n",
      "\u001b[1;31mValueError\u001b[0m: invalid literal for int() with base 10: 'five'"
     ]
    }
   ],
   "source": [
    "weight= int(input('Write your age'))"
   ]
  },
  {
   "cell_type": "code",
   "execution_count": 48,
   "id": "3c1e8f15-4651-4c86-bfa3-60b16c6ecdc4",
   "metadata": {},
   "outputs": [
    {
     "name": "stdin",
     "output_type": "stream",
     "text": [
      "Write your birth day 12\n",
      "Write your birth month 11\n",
      "Write your birth year 2032\n"
     ]
    },
    {
     "name": "stdout",
     "output_type": "stream",
     "text": [
      "Your birth date is 12 11 2032\n"
     ]
    }
   ],
   "source": [
    "day = int(input('Write your birth day'))\n",
    "month = int(input('Write your birth month'))\n",
    "year = int(input('Write your birth year'))\n",
    "print(f'Your birth date is {day} {month} {year}')"
   ]
  },
  {
   "cell_type": "code",
   "execution_count": 49,
   "id": "e19f6c0b-e445-4bda-a5ee-36c34d15c3ce",
   "metadata": {},
   "outputs": [
    {
     "name": "stdin",
     "output_type": "stream",
     "text": [
      " 5.1\n"
     ]
    }
   ],
   "source": [
    "height = float(input())"
   ]
  },
  {
   "cell_type": "code",
   "execution_count": 50,
   "id": "a77c8807-0c60-4442-b66f-78aef1f0987e",
   "metadata": {},
   "outputs": [
    {
     "data": {
      "text/plain": [
       "5.1"
      ]
     },
     "execution_count": 50,
     "metadata": {},
     "output_type": "execute_result"
    }
   ],
   "source": [
    "height"
   ]
  },
  {
   "cell_type": "code",
   "execution_count": 51,
   "id": "f9db1600-6819-4922-8335-3f2183023de3",
   "metadata": {},
   "outputs": [
    {
     "name": "stdin",
     "output_type": "stream",
     "text": [
      " 65\n"
     ]
    }
   ],
   "source": [
    "weight = float(input())"
   ]
  },
  {
   "cell_type": "code",
   "execution_count": 52,
   "id": "c7da404d-3818-496d-b80d-902c2c0ad162",
   "metadata": {},
   "outputs": [
    {
     "data": {
      "text/plain": [
       "65.0"
      ]
     },
     "execution_count": 52,
     "metadata": {},
     "output_type": "execute_result"
    }
   ],
   "source": [
    "weight"
   ]
  },
  {
   "cell_type": "code",
   "execution_count": null,
   "id": "fad7d564-774a-424f-9422-92bcb0618b41",
   "metadata": {},
   "outputs": [],
   "source": []
  }
 ],
 "metadata": {
  "kernelspec": {
   "display_name": "Python 3 (ipykernel)",
   "language": "python",
   "name": "python3"
  },
  "language_info": {
   "codemirror_mode": {
    "name": "ipython",
    "version": 3
   },
   "file_extension": ".py",
   "mimetype": "text/x-python",
   "name": "python",
   "nbconvert_exporter": "python",
   "pygments_lexer": "ipython3",
   "version": "3.12.4"
  }
 },
 "nbformat": 4,
 "nbformat_minor": 5
}

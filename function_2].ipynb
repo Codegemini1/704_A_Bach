{
 "cells": [
  {
   "cell_type": "code",
   "execution_count": 1,
   "id": "e980ab6b-03a7-4072-866b-3eec2bdbacd3",
   "metadata": {},
   "outputs": [],
   "source": [
    "def test():\n",
    "    print('Hello this is my test function')"
   ]
  },
  {
   "cell_type": "code",
   "execution_count": 2,
   "id": "b96d5a16-c290-473b-bda5-fc6f0015fd35",
   "metadata": {},
   "outputs": [
    {
     "name": "stdout",
     "output_type": "stream",
     "text": [
      "Hello this is my test function\n"
     ]
    }
   ],
   "source": [
    "test()"
   ]
  },
  {
   "cell_type": "code",
   "execution_count": 3,
   "id": "9fb71f6f-22df-48db-bbbe-6d4634fa4f8e",
   "metadata": {},
   "outputs": [],
   "source": [
    "def name():\n",
    "    print('This is my name function')"
   ]
  },
  {
   "cell_type": "code",
   "execution_count": 4,
   "id": "789458ff-1fe1-46ef-8df7-9916650f0655",
   "metadata": {},
   "outputs": [
    {
     "name": "stdout",
     "output_type": "stream",
     "text": [
      "This is my name function\n"
     ]
    }
   ],
   "source": [
    "name()"
   ]
  },
  {
   "cell_type": "code",
   "execution_count": 5,
   "id": "1a37bc8f-a8c1-4742-8682-448ef14250fe",
   "metadata": {},
   "outputs": [],
   "source": [
    "def test2():\n",
    "    '''This is my test 2 function.\n",
    "    This wil just print hello output'''\n",
    "    print('Hello')"
   ]
  },
  {
   "cell_type": "code",
   "execution_count": null,
   "id": "91248583-ca78-4b63-9eb6-0542a328ccb7",
   "metadata": {},
   "outputs": [],
   "source": [
    "len()"
   ]
  },
  {
   "cell_type": "code",
   "execution_count": 6,
   "id": "3bf8374f-b7f1-4ca0-8395-8f109b2b8114",
   "metadata": {},
   "outputs": [
    {
     "name": "stdout",
     "output_type": "stream",
     "text": [
      "Hello\n"
     ]
    }
   ],
   "source": [
    "test2() # shift + tab"
   ]
  },
  {
   "cell_type": "code",
   "execution_count": 7,
   "id": "b0443c19-59c5-4a84-98f4-d0374e1f2dfe",
   "metadata": {},
   "outputs": [],
   "source": [
    "def test3(a): # Argument to function\n",
    "    print(a)"
   ]
  },
  {
   "cell_type": "code",
   "execution_count": 9,
   "id": "581f3f9b-8a9e-4d10-8e1c-4d156d0a80b2",
   "metadata": {},
   "outputs": [
    {
     "name": "stdout",
     "output_type": "stream",
     "text": [
      "5\n"
     ]
    }
   ],
   "source": [
    "test3(5)"
   ]
  },
  {
   "cell_type": "code",
   "execution_count": 10,
   "id": "6a78d088-2d60-4e06-be00-ce29d56c7722",
   "metadata": {},
   "outputs": [
    {
     "name": "stdout",
     "output_type": "stream",
     "text": [
      "Hello world\n"
     ]
    }
   ],
   "source": [
    "test3('Hello world')"
   ]
  },
  {
   "cell_type": "code",
   "execution_count": 11,
   "id": "0ebbbaac-f162-4f28-a972-9087891897aa",
   "metadata": {},
   "outputs": [],
   "source": [
    "def add(a,b):\n",
    "    print(a + b)"
   ]
  },
  {
   "cell_type": "code",
   "execution_count": 12,
   "id": "38ce6c11-94ba-4547-bb8f-d96a65c50fb0",
   "metadata": {},
   "outputs": [
    {
     "name": "stdout",
     "output_type": "stream",
     "text": [
      "15\n"
     ]
    }
   ],
   "source": [
    "add(10,5)"
   ]
  },
  {
   "cell_type": "code",
   "execution_count": 13,
   "id": "3aea0b2f-44f1-4652-b055-d1554745530e",
   "metadata": {},
   "outputs": [
    {
     "name": "stdout",
     "output_type": "stream",
     "text": [
      "HelloWorld\n"
     ]
    }
   ],
   "source": [
    "add('Hello', 'World')"
   ]
  },
  {
   "cell_type": "code",
   "execution_count": 14,
   "id": "aa606d2c-81e1-4d67-8935-75583b05af16",
   "metadata": {},
   "outputs": [],
   "source": [
    "# Square of number"
   ]
  },
  {
   "cell_type": "code",
   "execution_count": 15,
   "id": "0c8bbbcc-b547-4921-857f-18bac2880d00",
   "metadata": {},
   "outputs": [
    {
     "data": {
      "text/plain": [
       "2"
      ]
     },
     "execution_count": 15,
     "metadata": {},
     "output_type": "execute_result"
    }
   ],
   "source": [
    "2"
   ]
  },
  {
   "cell_type": "code",
   "execution_count": 16,
   "id": "8d50f094-1a7b-4c9e-bd41-4d5c2fef9eee",
   "metadata": {},
   "outputs": [
    {
     "data": {
      "text/plain": [
       "4"
      ]
     },
     "execution_count": 16,
     "metadata": {},
     "output_type": "execute_result"
    }
   ],
   "source": [
    "2 * 2"
   ]
  },
  {
   "cell_type": "code",
   "execution_count": 17,
   "id": "fb775c92-9d06-4071-9a4b-74a03b23ea91",
   "metadata": {},
   "outputs": [
    {
     "data": {
      "text/plain": [
       "9"
      ]
     },
     "execution_count": 17,
     "metadata": {},
     "output_type": "execute_result"
    }
   ],
   "source": [
    "3 * 3"
   ]
  },
  {
   "cell_type": "code",
   "execution_count": 18,
   "id": "092dd79f-348c-4168-b665-3c689fdf8736",
   "metadata": {},
   "outputs": [],
   "source": [
    "a = 4"
   ]
  },
  {
   "cell_type": "code",
   "execution_count": 19,
   "id": "6ace6eb0-5797-4c1d-8ae6-be2c683e0d03",
   "metadata": {},
   "outputs": [
    {
     "data": {
      "text/plain": [
       "16"
      ]
     },
     "execution_count": 19,
     "metadata": {},
     "output_type": "execute_result"
    }
   ],
   "source": [
    "a * a"
   ]
  },
  {
   "cell_type": "code",
   "execution_count": 20,
   "id": "cd664d1a-cebe-4fb5-bfd5-7627747fed60",
   "metadata": {},
   "outputs": [],
   "source": [
    "def square(a):\n",
    "    print(a * a)"
   ]
  },
  {
   "cell_type": "code",
   "execution_count": 21,
   "id": "932bbc46-7de8-4433-90d3-2822e9564c45",
   "metadata": {},
   "outputs": [
    {
     "name": "stdout",
     "output_type": "stream",
     "text": [
      "81\n"
     ]
    }
   ],
   "source": [
    "square(9)"
   ]
  },
  {
   "cell_type": "code",
   "execution_count": 22,
   "id": "98ace5bf-e9d5-4b80-af6f-25906b919a8b",
   "metadata": {},
   "outputs": [
    {
     "name": "stdout",
     "output_type": "stream",
     "text": [
      "25\n"
     ]
    }
   ],
   "source": [
    "square(5)"
   ]
  },
  {
   "cell_type": "code",
   "execution_count": 23,
   "id": "8ce9eb01-33dd-43f7-ac02-90bfb3a7ce41",
   "metadata": {},
   "outputs": [
    {
     "name": "stdout",
     "output_type": "stream",
     "text": [
      "225\n"
     ]
    }
   ],
   "source": [
    "square(15)"
   ]
  },
  {
   "cell_type": "code",
   "execution_count": 24,
   "id": "98b82fa1-f897-4f0f-a2f0-a6c41e805508",
   "metadata": {},
   "outputs": [],
   "source": [
    "# Even or odd"
   ]
  },
  {
   "cell_type": "code",
   "execution_count": 27,
   "id": "3dc62b19-55d0-471c-9531-5ab71bafb9eb",
   "metadata": {},
   "outputs": [],
   "source": [
    "def even_odd(a):\n",
    "    if a % 2 == 0:\n",
    "        print('Even')\n",
    "    else:\n",
    "        print('Odd')"
   ]
  },
  {
   "cell_type": "code",
   "execution_count": 28,
   "id": "a484ff6d-429d-4d0b-9e47-7f5d742eef04",
   "metadata": {},
   "outputs": [
    {
     "name": "stdout",
     "output_type": "stream",
     "text": [
      "Even\n"
     ]
    }
   ],
   "source": [
    "even_odd(8)"
   ]
  },
  {
   "cell_type": "code",
   "execution_count": 29,
   "id": "5ac35d69-4157-4ec5-a20d-59d8bff7cca1",
   "metadata": {},
   "outputs": [
    {
     "name": "stdout",
     "output_type": "stream",
     "text": [
      "Odd\n"
     ]
    }
   ],
   "source": [
    "even_odd(9)"
   ]
  },
  {
   "cell_type": "code",
   "execution_count": 34,
   "id": "eff0cf73-3359-4dac-a19b-95d86bdda381",
   "metadata": {},
   "outputs": [],
   "source": [
    "def palindrom(a):\n",
    "    if a == a[::-1]:\n",
    "        print('Plindrom', a)\n",
    "    else:\n",
    "        print('Not Palindrom')"
   ]
  },
  {
   "cell_type": "code",
   "execution_count": 30,
   "id": "13a0c788-2709-4c09-a7c6-5dc7afc9e1a0",
   "metadata": {},
   "outputs": [],
   "source": [
    "a = 'mom'"
   ]
  },
  {
   "cell_type": "code",
   "execution_count": 31,
   "id": "c3665ddd-a3a4-436c-a4c8-eba714a7a75e",
   "metadata": {},
   "outputs": [
    {
     "data": {
      "text/plain": [
       "'mom'"
      ]
     },
     "execution_count": 31,
     "metadata": {},
     "output_type": "execute_result"
    }
   ],
   "source": [
    "a[::-1]"
   ]
  },
  {
   "cell_type": "code",
   "execution_count": 33,
   "id": "caedcf44-b654-4a9e-86b6-7b73766e4396",
   "metadata": {},
   "outputs": [
    {
     "data": {
      "text/plain": [
       "True"
      ]
     },
     "execution_count": 33,
     "metadata": {},
     "output_type": "execute_result"
    }
   ],
   "source": [
    "a ==  a[::-1]"
   ]
  },
  {
   "cell_type": "code",
   "execution_count": 35,
   "id": "79268ce3-c615-47ae-95f1-5db0557311df",
   "metadata": {},
   "outputs": [
    {
     "name": "stdout",
     "output_type": "stream",
     "text": [
      "Plindrom mom\n"
     ]
    }
   ],
   "source": [
    "palindrom('mom')"
   ]
  },
  {
   "cell_type": "code",
   "execution_count": 36,
   "id": "b421a7ed-65ea-4112-87c4-b4aeb394a1f1",
   "metadata": {},
   "outputs": [
    {
     "name": "stdout",
     "output_type": "stream",
     "text": [
      "Not Palindrom\n"
     ]
    }
   ],
   "source": [
    "palindrom('car')"
   ]
  },
  {
   "cell_type": "code",
   "execution_count": 38,
   "id": "a0594849-b702-444f-8dfe-d982d7aa3e48",
   "metadata": {},
   "outputs": [
    {
     "name": "stdout",
     "output_type": "stream",
     "text": [
      "Plindrom level\n"
     ]
    }
   ],
   "source": [
    "palindrom('level')"
   ]
  },
  {
   "cell_type": "code",
   "execution_count": 39,
   "id": "6e3cfc66-da80-470e-8859-87b6b1fa6517",
   "metadata": {},
   "outputs": [],
   "source": [
    "# WHat is diff b/w print and return\n",
    "Print is just showcasing values. --> Nonetype\n",
    "Return will write down actual data type. --> Actual data type"
   ]
  },
  {
   "cell_type": "code",
   "execution_count": 40,
   "id": "0e782a3f-7d43-493e-8720-2b7361750fbd",
   "metadata": {},
   "outputs": [
    {
     "name": "stdout",
     "output_type": "stream",
     "text": [
      "Even\n"
     ]
    }
   ],
   "source": [
    "even_odd(6)"
   ]
  },
  {
   "cell_type": "code",
   "execution_count": 41,
   "id": "dfbe0c8d-8238-4c3e-ae2e-760214e4c666",
   "metadata": {},
   "outputs": [
    {
     "name": "stdout",
     "output_type": "stream",
     "text": [
      "Even\n"
     ]
    },
    {
     "data": {
      "text/plain": [
       "NoneType"
      ]
     },
     "execution_count": 41,
     "metadata": {},
     "output_type": "execute_result"
    }
   ],
   "source": [
    "type(even_odd(6))"
   ]
  },
  {
   "cell_type": "code",
   "execution_count": 42,
   "id": "ce802c5b-87e5-4be5-a792-d9faf50cc8e5",
   "metadata": {},
   "outputs": [
    {
     "name": "stdout",
     "output_type": "stream",
     "text": [
      "5\n"
     ]
    }
   ],
   "source": [
    "add(1,4)"
   ]
  },
  {
   "cell_type": "code",
   "execution_count": 43,
   "id": "6d648a92-c3b7-4ffc-a1ee-fd825d8e6e26",
   "metadata": {},
   "outputs": [
    {
     "name": "stdout",
     "output_type": "stream",
     "text": [
      "5\n"
     ]
    },
    {
     "data": {
      "text/plain": [
       "NoneType"
      ]
     },
     "execution_count": 43,
     "metadata": {},
     "output_type": "execute_result"
    }
   ],
   "source": [
    "type(add(1,4))"
   ]
  },
  {
   "cell_type": "code",
   "execution_count": 44,
   "id": "265359f2-7d89-4950-b8e2-42a09325743c",
   "metadata": {},
   "outputs": [],
   "source": [
    "def test6(a,b):\n",
    "    return a + b"
   ]
  },
  {
   "cell_type": "code",
   "execution_count": 45,
   "id": "1e4c9426-657e-4e4e-9c34-cb310dff719b",
   "metadata": {},
   "outputs": [
    {
     "data": {
      "text/plain": [
       "6"
      ]
     },
     "execution_count": 45,
     "metadata": {},
     "output_type": "execute_result"
    }
   ],
   "source": [
    "test6(1,5)"
   ]
  },
  {
   "cell_type": "code",
   "execution_count": 46,
   "id": "8e54e530-e574-4e3b-ba1e-289b17933610",
   "metadata": {},
   "outputs": [
    {
     "data": {
      "text/plain": [
       "int"
      ]
     },
     "execution_count": 46,
     "metadata": {},
     "output_type": "execute_result"
    }
   ],
   "source": [
    "type(test6(1,5))"
   ]
  },
  {
   "cell_type": "code",
   "execution_count": 47,
   "id": "496a9e02-e6cd-4601-ac95-944859e09154",
   "metadata": {},
   "outputs": [
    {
     "name": "stdout",
     "output_type": "stream",
     "text": [
      "Hello\n"
     ]
    }
   ],
   "source": [
    "print('Hello')"
   ]
  },
  {
   "cell_type": "code",
   "execution_count": 48,
   "id": "3daef0bf-d11e-438d-979f-fec2e6544227",
   "metadata": {},
   "outputs": [],
   "source": [
    "def data_filter(a):\n",
    "    if type(a) == int:\n",
    "        return 'Data type is int', a\n",
    "    else:\n",
    "        return 'Your data is not INT data Type'"
   ]
  },
  {
   "cell_type": "code",
   "execution_count": 49,
   "id": "43afa903-4951-4aac-876f-4a45eed8b587",
   "metadata": {},
   "outputs": [
    {
     "data": {
      "text/plain": [
       "'Your data is not INT data Type'"
      ]
     },
     "execution_count": 49,
     "metadata": {},
     "output_type": "execute_result"
    }
   ],
   "source": [
    "data_filter('H')"
   ]
  },
  {
   "cell_type": "code",
   "execution_count": 50,
   "id": "84413c9c-bd3c-42bb-b387-20444d4e594d",
   "metadata": {},
   "outputs": [
    {
     "data": {
      "text/plain": [
       "('Data type is int', 5)"
      ]
     },
     "execution_count": 50,
     "metadata": {},
     "output_type": "execute_result"
    }
   ],
   "source": [
    "data_filter(5)"
   ]
  },
  {
   "cell_type": "code",
   "execution_count": 51,
   "id": "262c2bb1-7e0b-47ad-87b7-743802d4a9ad",
   "metadata": {},
   "outputs": [],
   "source": [
    "def test9(a,z,e,r):\n",
    "    return a, z,e,r"
   ]
  },
  {
   "cell_type": "code",
   "execution_count": 52,
   "id": "41448054-b64c-47e5-9308-7c0832e9d49b",
   "metadata": {},
   "outputs": [
    {
     "data": {
      "text/plain": [
       "(1, 3, 5, 3)"
      ]
     },
     "execution_count": 52,
     "metadata": {},
     "output_type": "execute_result"
    }
   ],
   "source": [
    "test9(1,3,5,3)"
   ]
  },
  {
   "cell_type": "code",
   "execution_count": 53,
   "id": "e3ce9732-3bfe-4a3b-94ec-0fe5a6c1dffe",
   "metadata": {},
   "outputs": [],
   "source": [
    "# N number of arguments"
   ]
  },
  {
   "cell_type": "code",
   "execution_count": 54,
   "id": "ca024170-af4a-4465-8b26-9a189f0c9918",
   "metadata": {},
   "outputs": [],
   "source": [
    "def test10(*args): \n",
    "    return args"
   ]
  },
  {
   "cell_type": "code",
   "execution_count": 55,
   "id": "c274562d-4438-4275-b912-aec256a9d9f7",
   "metadata": {},
   "outputs": [
    {
     "data": {
      "text/plain": [
       "(1, 3, 4, 2, 4, 'hello', True)"
      ]
     },
     "execution_count": 55,
     "metadata": {},
     "output_type": "execute_result"
    }
   ],
   "source": [
    "test10(1,3,4,2,4,'hello', True)"
   ]
  },
  {
   "cell_type": "code",
   "execution_count": 57,
   "id": "66d7813b-8a57-4919-b11d-d71d003e2603",
   "metadata": {},
   "outputs": [],
   "source": [
    "def test11(*args):\n",
    "    l = []\n",
    "    for i in args:\n",
    "       if type(i) == int:\n",
    "           l.append(i)\n",
    "    return l"
   ]
  },
  {
   "cell_type": "code",
   "execution_count": 58,
   "id": "e42ae978-4033-45e3-a4b2-36cd0dbbe631",
   "metadata": {},
   "outputs": [
    {
     "data": {
      "text/plain": [
       "[1, 3, 4, 2, 4]"
      ]
     },
     "execution_count": 58,
     "metadata": {},
     "output_type": "execute_result"
    }
   ],
   "source": [
    "test11(1,3,4,2,4,'hello', True)"
   ]
  },
  {
   "cell_type": "code",
   "execution_count": 59,
   "id": "9166d566-03aa-45a5-b2c3-61f22e14b6cb",
   "metadata": {},
   "outputs": [
    {
     "ename": "NameError",
     "evalue": "name 'l' is not defined",
     "output_type": "error",
     "traceback": [
      "\u001b[1;31m---------------------------------------------------------------------------\u001b[0m",
      "\u001b[1;31mNameError\u001b[0m                                 Traceback (most recent call last)",
      "Cell \u001b[1;32mIn[59], line 1\u001b[0m\n\u001b[1;32m----> 1\u001b[0m l\n",
      "\u001b[1;31mNameError\u001b[0m: name 'l' is not defined"
     ]
    }
   ],
   "source": [
    "l"
   ]
  },
  {
   "cell_type": "code",
   "execution_count": 60,
   "id": "8e7be525-981e-4c0d-a428-71030c4fa141",
   "metadata": {},
   "outputs": [],
   "source": [
    "# What is local and global variable"
   ]
  },
  {
   "cell_type": "code",
   "execution_count": 62,
   "id": "5918e8c5-22c3-4bf7-a888-d3e2c51418fe",
   "metadata": {},
   "outputs": [],
   "source": [
    "k = [1,4,3]  # Globally"
   ]
  },
  {
   "cell_type": "code",
   "execution_count": 63,
   "id": "62aac2d0-e7e8-407e-b6a6-9db1e0be1c36",
   "metadata": {},
   "outputs": [
    {
     "data": {
      "text/plain": [
       "[1, 4, 3]"
      ]
     },
     "execution_count": 63,
     "metadata": {},
     "output_type": "execute_result"
    }
   ],
   "source": [
    "k"
   ]
  },
  {
   "cell_type": "code",
   "execution_count": 64,
   "id": "12beb636-1930-45ab-8c27-22913713ea19",
   "metadata": {},
   "outputs": [],
   "source": [
    "def test13(*args):\n",
    "    l = [] # Local variable\n",
    "    for i in args:\n",
    "        l.append(i)\n",
    "    return l"
   ]
  },
  {
   "cell_type": "code",
   "execution_count": 65,
   "id": "d5287683-99fa-481e-9e25-79dc5ff7f8ef",
   "metadata": {},
   "outputs": [
    {
     "data": {
      "text/plain": [
       "[1, 5, 'f', 'o', 'u', 'r']"
      ]
     },
     "execution_count": 65,
     "metadata": {},
     "output_type": "execute_result"
    }
   ],
   "source": [
    "test13(1,5,'f','o','u','r')"
   ]
  },
  {
   "cell_type": "code",
   "execution_count": 66,
   "id": "5cdd3456-7ceb-4dd7-ae1a-80a846f59859",
   "metadata": {},
   "outputs": [
    {
     "ename": "NameError",
     "evalue": "name 'l' is not defined",
     "output_type": "error",
     "traceback": [
      "\u001b[1;31m---------------------------------------------------------------------------\u001b[0m",
      "\u001b[1;31mNameError\u001b[0m                                 Traceback (most recent call last)",
      "Cell \u001b[1;32mIn[66], line 1\u001b[0m\n\u001b[1;32m----> 1\u001b[0m l\n",
      "\u001b[1;31mNameError\u001b[0m: name 'l' is not defined"
     ]
    }
   ],
   "source": [
    "l"
   ]
  },
  {
   "cell_type": "code",
   "execution_count": null,
   "id": "909e2662-b3e2-4835-9c59-bcf441909d35",
   "metadata": {},
   "outputs": [],
   "source": [
    "# Write a function for filtering out int data type and then perform addition of that dataset.(*args)\n",
    "\n"
   ]
  },
  {
   "cell_type": "code",
   "execution_count": 67,
   "id": "d317a8c0-14b4-4635-969f-6261500b7729",
   "metadata": {},
   "outputs": [
    {
     "data": {
      "text/plain": [
       "8"
      ]
     },
     "execution_count": 67,
     "metadata": {},
     "output_type": "execute_result"
    }
   ],
   "source": [
    "sum(k)"
   ]
  },
  {
   "cell_type": "code",
   "execution_count": 68,
   "id": "eb499759-ae31-412d-859a-cd2da8d0d584",
   "metadata": {},
   "outputs": [
    {
     "data": {
      "text/plain": [
       "[1, 4, 3]"
      ]
     },
     "execution_count": 68,
     "metadata": {},
     "output_type": "execute_result"
    }
   ],
   "source": [
    "k"
   ]
  },
  {
   "cell_type": "code",
   "execution_count": null,
   "id": "781507b4-bca6-4d7f-b462-accd6c9d1d3f",
   "metadata": {},
   "outputs": [],
   "source": []
  }
 ],
 "metadata": {
  "kernelspec": {
   "display_name": "Python 3 (ipykernel)",
   "language": "python",
   "name": "python3"
  },
  "language_info": {
   "codemirror_mode": {
    "name": "ipython",
    "version": 3
   },
   "file_extension": ".py",
   "mimetype": "text/x-python",
   "name": "python",
   "nbconvert_exporter": "python",
   "pygments_lexer": "ipython3",
   "version": "3.12.4"
  }
 },
 "nbformat": 4,
 "nbformat_minor": 5
}

{
 "cells": [
  {
   "cell_type": "code",
   "execution_count": 3,
   "id": "d9b2f56a-4953-41d2-b34e-1fcb2690812c",
   "metadata": {},
   "outputs": [
    {
     "name": "stdout",
     "output_type": "stream",
     "text": [
      "You have written wrong marks write in the range 0-100\n"
     ]
    }
   ],
   "source": [
    "marks = -10\n",
    "if marks >= 90 and marks <= 100 :\n",
    "    print('A+')\n",
    "elif marks >= 70 and marks < 90:\n",
    "    print('B')\n",
    "elif marks >= 35 and marks < 70:\n",
    "    print('C')\n",
    "elif marks >= 0 and marks < 35:\n",
    "    print('Fail')\n",
    "else:\n",
    "    print('You have written wrong marks write in the range 0-100')"
   ]
  },
  {
   "cell_type": "code",
   "execution_count": 6,
   "id": "e750a20a-b471-47c1-bd8a-28ea4f2a5a51",
   "metadata": {},
   "outputs": [
    {
     "name": "stdout",
     "output_type": "stream",
     "text": [
      "This is not my fev Food\n"
     ]
    }
   ],
   "source": [
    "food = 'burger'\n",
    "if food == 'pizza':\n",
    "    print('Pizza is my fev food')\n",
    "else:\n",
    "    print('This is not my fev Food')"
   ]
  },
  {
   "cell_type": "code",
   "execution_count": 4,
   "id": "f110883d-7f1d-41a9-b2a4-db5e7c1d8b88",
   "metadata": {},
   "outputs": [
    {
     "data": {
      "text/plain": [
       "True"
      ]
     },
     "execution_count": 4,
     "metadata": {},
     "output_type": "execute_result"
    }
   ],
   "source": [
    "'pizza' == 'pizza'"
   ]
  },
  {
   "cell_type": "code",
   "execution_count": 8,
   "id": "22107142-5dcd-41a1-afb8-02ecf3d929cf",
   "metadata": {},
   "outputs": [
    {
     "name": "stdin",
     "output_type": "stream",
     "text": [
      "Enter your user name admin\n",
      "Enter Your Password hello123\n"
     ]
    },
    {
     "name": "stdout",
     "output_type": "stream",
     "text": [
      "Log in Completed\n"
     ]
    }
   ],
   "source": [
    "user_name = input('Enter your user name')\n",
    "password = input('Enter Your Password')\n",
    "if user_name == 'admin' and password == 'hello123':\n",
    "    print('Log in Completed')\n",
    "else:\n",
    "    print('Wrong User name and Password')"
   ]
  },
  {
   "cell_type": "code",
   "execution_count": 10,
   "id": "186014b3-49f4-4315-b7cd-0d7d55181183",
   "metadata": {},
   "outputs": [
    {
     "name": "stdin",
     "output_type": "stream",
     "text": [
      "Enter your course name python\n"
     ]
    },
    {
     "name": "stdout",
     "output_type": "stream",
     "text": [
      "Yes python is Available\n"
     ]
    }
   ],
   "source": [
    "course = input('Enter your course name')\n",
    "if course == 'python':\n",
    "    print('Yes python is Available')\n",
    "elif course == 'data analysis':\n",
    "    print('Yes data analysis course is available')\n",
    "elif course == 'data science':\n",
    "    print('Yes data science course is available')\n",
    "else:\n",
    "    print('Your Course is not available')"
   ]
  },
  {
   "cell_type": "code",
   "execution_count": null,
   "id": "34090f5b-bf74-4b91-9761-4e61e326f572",
   "metadata": {},
   "outputs": [],
   "source": []
  }
 ],
 "metadata": {
  "kernelspec": {
   "display_name": "Python 3 (ipykernel)",
   "language": "python",
   "name": "python3"
  },
  "language_info": {
   "codemirror_mode": {
    "name": "ipython",
    "version": 3
   },
   "file_extension": ".py",
   "mimetype": "text/x-python",
   "name": "python",
   "nbconvert_exporter": "python",
   "pygments_lexer": "ipython3",
   "version": "3.12.4"
  }
 },
 "nbformat": 4,
 "nbformat_minor": 5
}

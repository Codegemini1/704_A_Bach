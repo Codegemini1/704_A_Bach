{
 "cells": [
  {
   "cell_type": "code",
   "execution_count": 1,
   "id": "e374ab6c-7681-4ad5-abd6-b1e59a938df2",
   "metadata": {},
   "outputs": [],
   "source": [
    "class car():\n",
    "    def __init__(self,color, engine, year ): # Constructor\n",
    "        self.color = color\n",
    "        self.engine = engine\n",
    "        self.year = year"
   ]
  },
  {
   "cell_type": "code",
   "execution_count": 2,
   "id": "325b23fb-5e19-44bb-bf54-91d8172c2649",
   "metadata": {},
   "outputs": [],
   "source": [
    "fortuner = car('White', 'petrol', 2025)"
   ]
  },
  {
   "cell_type": "code",
   "execution_count": 3,
   "id": "c4bcf112-0f3c-4ab2-b0db-dcb01fc4f1a0",
   "metadata": {},
   "outputs": [
    {
     "data": {
      "text/plain": [
       "'White'"
      ]
     },
     "execution_count": 3,
     "metadata": {},
     "output_type": "execute_result"
    }
   ],
   "source": [
    "fortuner.color"
   ]
  },
  {
   "cell_type": "code",
   "execution_count": 4,
   "id": "8ebaa3d7-0ebc-4ee8-934d-50ba4c4cfec3",
   "metadata": {},
   "outputs": [
    {
     "data": {
      "text/plain": [
       "'petrol'"
      ]
     },
     "execution_count": 4,
     "metadata": {},
     "output_type": "execute_result"
    }
   ],
   "source": [
    "fortuner.engine"
   ]
  },
  {
   "cell_type": "code",
   "execution_count": 5,
   "id": "bafbfa87-8a98-45b7-9d0c-b9035e897ff9",
   "metadata": {},
   "outputs": [
    {
     "data": {
      "text/plain": [
       "2025"
      ]
     },
     "execution_count": 5,
     "metadata": {},
     "output_type": "execute_result"
    }
   ],
   "source": [
    "fortuner.year"
   ]
  },
  {
   "cell_type": "code",
   "execution_count": 10,
   "id": "39f1b6b8-81d3-403c-8c7f-6bc1cb623cdc",
   "metadata": {},
   "outputs": [],
   "source": [
    "nexon = car('black', 1500, 2026)"
   ]
  },
  {
   "cell_type": "code",
   "execution_count": 11,
   "id": "566e2f0f-bb43-4a94-b10b-da68f8466e56",
   "metadata": {},
   "outputs": [
    {
     "data": {
      "text/plain": [
       "'black'"
      ]
     },
     "execution_count": 11,
     "metadata": {},
     "output_type": "execute_result"
    }
   ],
   "source": [
    "nexon.color"
   ]
  },
  {
   "cell_type": "code",
   "execution_count": 12,
   "id": "5b884f19-a4d2-43b7-8dcb-d6bd671ad790",
   "metadata": {},
   "outputs": [
    {
     "data": {
      "text/plain": [
       "1500"
      ]
     },
     "execution_count": 12,
     "metadata": {},
     "output_type": "execute_result"
    }
   ],
   "source": [
    "nexon.engine"
   ]
  },
  {
   "cell_type": "code",
   "execution_count": 13,
   "id": "02145595-b8d5-4bf9-9563-e2cd9f5ff3cb",
   "metadata": {},
   "outputs": [
    {
     "data": {
      "text/plain": [
       "2026"
      ]
     },
     "execution_count": 13,
     "metadata": {},
     "output_type": "execute_result"
    }
   ],
   "source": [
    "nexon.year"
   ]
  },
  {
   "cell_type": "code",
   "execution_count": 6,
   "id": "9c4f16ee-cca9-4e19-a3ae-a9f6f170699a",
   "metadata": {},
   "outputs": [],
   "source": [
    "class info():\n",
    "    def hello(self):\n",
    "        return 'I am info class and inside hello function'\n",
    "    def test(self):\n",
    "        return 'This is test function from info class'"
   ]
  },
  {
   "cell_type": "code",
   "execution_count": 7,
   "id": "0c4163c4-55b8-463a-919e-cf3272a245b6",
   "metadata": {},
   "outputs": [],
   "source": [
    "obj = info()"
   ]
  },
  {
   "cell_type": "code",
   "execution_count": 8,
   "id": "80350bc5-6901-4a97-87d9-794fc80f4479",
   "metadata": {},
   "outputs": [
    {
     "data": {
      "text/plain": [
       "'I am info class and inside hello function'"
      ]
     },
     "execution_count": 8,
     "metadata": {},
     "output_type": "execute_result"
    }
   ],
   "source": [
    "obj.hello()"
   ]
  },
  {
   "cell_type": "code",
   "execution_count": 9,
   "id": "8e20e0a3-2115-425b-92dd-df7b17d38bcd",
   "metadata": {},
   "outputs": [
    {
     "data": {
      "text/plain": [
       "'This is test function from info class'"
      ]
     },
     "execution_count": 9,
     "metadata": {},
     "output_type": "execute_result"
    }
   ],
   "source": [
    "obj.test()"
   ]
  },
  {
   "cell_type": "code",
   "execution_count": 24,
   "id": "56c63c97-6aeb-4298-ae92-fc44317f90ba",
   "metadata": {},
   "outputs": [],
   "source": [
    "class house():\n",
    "    def __init__(self, size, floor, type, lift):\n",
    "        self.size = size\n",
    "        self.floor = floor\n",
    "        self.type = type\n",
    "        self.lift = lift\n",
    "    def area(self):\n",
    "        return 'my area of house is', self.size\n",
    "    def open_door(self):\n",
    "        return 'Door is opning'"
   ]
  },
  {
   "cell_type": "code",
   "execution_count": 16,
   "id": "fd40b360-7a51-4d12-b083-794831a2f62f",
   "metadata": {},
   "outputs": [],
   "source": [
    "goa_villa = house(2000, 3, 'Row_House', 'No')"
   ]
  },
  {
   "cell_type": "code",
   "execution_count": 17,
   "id": "4fc32f03-949b-4d83-ae6e-420fa66811f6",
   "metadata": {},
   "outputs": [
    {
     "data": {
      "text/plain": [
       "2000"
      ]
     },
     "execution_count": 17,
     "metadata": {},
     "output_type": "execute_result"
    }
   ],
   "source": [
    "goa_villa.size"
   ]
  },
  {
   "cell_type": "code",
   "execution_count": 18,
   "id": "aeaf8ea4-c86a-4e8e-b23e-6a587b7d7b77",
   "metadata": {},
   "outputs": [
    {
     "data": {
      "text/plain": [
       "3"
      ]
     },
     "execution_count": 18,
     "metadata": {},
     "output_type": "execute_result"
    }
   ],
   "source": [
    "goa_villa.floor"
   ]
  },
  {
   "cell_type": "code",
   "execution_count": 19,
   "id": "c2a021c3-2a3d-4e81-b9e3-9cd4e940ae47",
   "metadata": {},
   "outputs": [
    {
     "data": {
      "text/plain": [
       "'Row_House'"
      ]
     },
     "execution_count": 19,
     "metadata": {},
     "output_type": "execute_result"
    }
   ],
   "source": [
    "goa_villa.type"
   ]
  },
  {
   "cell_type": "code",
   "execution_count": 20,
   "id": "80cbf820-e0f1-4fcc-876b-8a73507c4283",
   "metadata": {},
   "outputs": [
    {
     "data": {
      "text/plain": [
       "('my area of house is', 2000)"
      ]
     },
     "execution_count": 20,
     "metadata": {},
     "output_type": "execute_result"
    }
   ],
   "source": [
    "goa_villa.area()"
   ]
  },
  {
   "cell_type": "code",
   "execution_count": 25,
   "id": "73754c82-f542-42e1-b8dd-54c09572a116",
   "metadata": {},
   "outputs": [],
   "source": [
    "h1 = house(3234,4,'APT', 'Yes')"
   ]
  },
  {
   "cell_type": "code",
   "execution_count": 26,
   "id": "9ddef94e-f231-4a07-af83-126349b93661",
   "metadata": {},
   "outputs": [
    {
     "data": {
      "text/plain": [
       "('my area of house is', 3234)"
      ]
     },
     "execution_count": 26,
     "metadata": {},
     "output_type": "execute_result"
    }
   ],
   "source": [
    "h1.area()"
   ]
  },
  {
   "cell_type": "code",
   "execution_count": 27,
   "id": "dce6a319-658d-4a1f-b2a8-11322dc34463",
   "metadata": {},
   "outputs": [
    {
     "data": {
      "text/plain": [
       "'Door is opning'"
      ]
     },
     "execution_count": 27,
     "metadata": {},
     "output_type": "execute_result"
    }
   ],
   "source": [
    "h1.open_door()"
   ]
  },
  {
   "cell_type": "markdown",
   "id": "4bb1bb8e-9456-4b2c-aa7b-8d4436174a26",
   "metadata": {},
   "source": [
    "# Create 5 class any example\n",
    " students --> First,Last, std, roll, mo_no\n"
   ]
  },
  {
   "cell_type": "markdown",
   "id": "2bde5792-c8d4-4837-8538-90cbfce555bf",
   "metadata": {},
   "source": [
    "# Encapsulation"
   ]
  },
  {
   "cell_type": "code",
   "execution_count": 29,
   "id": "f5d0dc71-fcb0-4394-836c-2941d8d2924d",
   "metadata": {},
   "outputs": [],
   "source": [
    "class student():\n",
    "    def __init__(self, first, last, roll):\n",
    "        self.first = first # Public\n",
    "        self._last = last # protected\n",
    "        self.__roll = roll #private"
   ]
  },
  {
   "cell_type": "code",
   "execution_count": 30,
   "id": "67be9cd2-4405-4f65-b258-06d2e44e7a32",
   "metadata": {},
   "outputs": [],
   "source": [
    "x = student('Vaibhav', 'Bhosale', '41')"
   ]
  },
  {
   "cell_type": "code",
   "execution_count": 31,
   "id": "01acac6d-a20c-4cc3-aaf0-4ea8be419627",
   "metadata": {},
   "outputs": [
    {
     "data": {
      "text/plain": [
       "'Vaibhav'"
      ]
     },
     "execution_count": 31,
     "metadata": {},
     "output_type": "execute_result"
    }
   ],
   "source": [
    "x.first"
   ]
  },
  {
   "cell_type": "code",
   "execution_count": 34,
   "id": "fa63d27c-53a3-4197-b8a3-d9ae3ff091f3",
   "metadata": {},
   "outputs": [
    {
     "data": {
      "text/plain": [
       "'Bhosale'"
      ]
     },
     "execution_count": 34,
     "metadata": {},
     "output_type": "execute_result"
    }
   ],
   "source": [
    "x._last  # Protected"
   ]
  },
  {
   "cell_type": "code",
   "execution_count": 33,
   "id": "bbe121ce-6f36-43de-b202-f168fb135b1c",
   "metadata": {},
   "outputs": [
    {
     "data": {
      "text/plain": [
       "'41'"
      ]
     },
     "execution_count": 33,
     "metadata": {},
     "output_type": "execute_result"
    }
   ],
   "source": [
    "x._student__roll  #private"
   ]
  },
  {
   "cell_type": "code",
   "execution_count": 35,
   "id": "3887225f-bc26-4986-932d-211d8741b70a",
   "metadata": {},
   "outputs": [],
   "source": [
    "y = student('XYZ', 'BBB', 7512)"
   ]
  },
  {
   "cell_type": "code",
   "execution_count": 36,
   "id": "a84baec3-8938-482b-ba2d-315b91cf544c",
   "metadata": {},
   "outputs": [
    {
     "data": {
      "text/plain": [
       "'XYZ'"
      ]
     },
     "execution_count": 36,
     "metadata": {},
     "output_type": "execute_result"
    }
   ],
   "source": [
    "y.first"
   ]
  },
  {
   "cell_type": "code",
   "execution_count": 37,
   "id": "d193b9c4-360d-472f-8ed1-f79de0a3dade",
   "metadata": {},
   "outputs": [
    {
     "data": {
      "text/plain": [
       "'BBB'"
      ]
     },
     "execution_count": 37,
     "metadata": {},
     "output_type": "execute_result"
    }
   ],
   "source": [
    "y._last"
   ]
  },
  {
   "cell_type": "code",
   "execution_count": 38,
   "id": "cca3c5b4-e25d-415e-bec7-e1e292d9a170",
   "metadata": {},
   "outputs": [
    {
     "data": {
      "text/plain": [
       "7512"
      ]
     },
     "execution_count": 38,
     "metadata": {},
     "output_type": "execute_result"
    }
   ],
   "source": [
    "y._student__roll"
   ]
  },
  {
   "cell_type": "markdown",
   "id": "ac06d50c-6f1c-4929-aa66-94a03b899d98",
   "metadata": {},
   "source": [
    "# Inheritance"
   ]
  },
  {
   "cell_type": "code",
   "execution_count": 39,
   "id": "dda880c7-0331-4302-b726-9ee654ec1012",
   "metadata": {},
   "outputs": [],
   "source": [
    "class parent():\n",
    "    def singing(self):\n",
    "        return 'Parent is having singing skill'"
   ]
  },
  {
   "cell_type": "code",
   "execution_count": 40,
   "id": "52f9ada1-f5e8-4285-a396-8b11d6ee2cf6",
   "metadata": {},
   "outputs": [],
   "source": [
    "class child(parent):\n",
    "    def cricket(self):\n",
    "        return ' Child is having playing cricket skill'"
   ]
  },
  {
   "cell_type": "code",
   "execution_count": 41,
   "id": "9b5a4f7d-93ff-4a2a-8140-cb21f230fb86",
   "metadata": {},
   "outputs": [],
   "source": [
    "obj1 = parent()"
   ]
  },
  {
   "cell_type": "code",
   "execution_count": 42,
   "id": "036aa7ae-b9bc-4851-a9b7-7b912219a199",
   "metadata": {},
   "outputs": [
    {
     "data": {
      "text/plain": [
       "'Parent is having singing skill'"
      ]
     },
     "execution_count": 42,
     "metadata": {},
     "output_type": "execute_result"
    }
   ],
   "source": [
    "obj1.singing()"
   ]
  },
  {
   "cell_type": "code",
   "execution_count": 43,
   "id": "e5a9be24-24ce-41e4-bb3b-557301bcbbd2",
   "metadata": {},
   "outputs": [],
   "source": [
    "obj2 = child()"
   ]
  },
  {
   "cell_type": "code",
   "execution_count": 44,
   "id": "cd02b746-44f0-45b6-a05c-586476368e02",
   "metadata": {},
   "outputs": [
    {
     "data": {
      "text/plain": [
       "'Parent is having singing skill'"
      ]
     },
     "execution_count": 44,
     "metadata": {},
     "output_type": "execute_result"
    }
   ],
   "source": [
    "obj2.singing()"
   ]
  },
  {
   "cell_type": "code",
   "execution_count": 45,
   "id": "f309c538-3095-4b3d-9b91-172080af5eed",
   "metadata": {},
   "outputs": [
    {
     "data": {
      "text/plain": [
       "' Child is having playing cricket skill'"
      ]
     },
     "execution_count": 45,
     "metadata": {},
     "output_type": "execute_result"
    }
   ],
   "source": [
    "obj2.cricket()"
   ]
  },
  {
   "cell_type": "code",
   "execution_count": 46,
   "id": "d9a3fc41-5c22-41d8-be43-22762e379967",
   "metadata": {},
   "outputs": [],
   "source": [
    "class test1(): # parent\n",
    "    def python(self):\n",
    "        return 'I am test 1 class and this is Python function'"
   ]
  },
  {
   "cell_type": "code",
   "execution_count": 47,
   "id": "b73925dd-bdce-4f98-be1d-f115e8c8cb3f",
   "metadata": {},
   "outputs": [],
   "source": [
    "class test2(test1): # Child\n",
    "    def sql(self):\n",
    "        return ' I am test2 class and this is sql function'"
   ]
  },
  {
   "cell_type": "code",
   "execution_count": 48,
   "id": "93af3b9c-bea5-4016-a135-7196a1fb6314",
   "metadata": {},
   "outputs": [],
   "source": [
    "obj1 = test2()"
   ]
  },
  {
   "cell_type": "code",
   "execution_count": 49,
   "id": "78dc1ab9-6c1d-4d70-9249-e518d128112f",
   "metadata": {},
   "outputs": [
    {
     "data": {
      "text/plain": [
       "'I am test 1 class and this is Python function'"
      ]
     },
     "execution_count": 49,
     "metadata": {},
     "output_type": "execute_result"
    }
   ],
   "source": [
    "obj1.python()"
   ]
  },
  {
   "cell_type": "code",
   "execution_count": 50,
   "id": "4aa51c22-d513-4444-8db1-93cbf1c35842",
   "metadata": {},
   "outputs": [
    {
     "data": {
      "text/plain": [
       "' I am test2 class and this is sql function'"
      ]
     },
     "execution_count": 50,
     "metadata": {},
     "output_type": "execute_result"
    }
   ],
   "source": [
    "obj1.sql()"
   ]
  },
  {
   "cell_type": "code",
   "execution_count": 51,
   "id": "774564eb-7047-4558-80fb-95a15dd4e76e",
   "metadata": {},
   "outputs": [],
   "source": [
    "obj = test1()"
   ]
  },
  {
   "cell_type": "code",
   "execution_count": 53,
   "id": "fe01c082-edd7-4b1f-bc15-c682a0c187aa",
   "metadata": {},
   "outputs": [
    {
     "data": {
      "text/plain": [
       "'I am test 1 class and this is Python function'"
      ]
     },
     "execution_count": 53,
     "metadata": {},
     "output_type": "execute_result"
    }
   ],
   "source": [
    "obj.python()"
   ]
  },
  {
   "cell_type": "code",
   "execution_count": null,
   "id": "7cec1e67-0938-41f9-9b18-12166532a5e8",
   "metadata": {},
   "outputs": [],
   "source": []
  }
 ],
 "metadata": {
  "kernelspec": {
   "display_name": "Python 3 (ipykernel)",
   "language": "python",
   "name": "python3"
  },
  "language_info": {
   "codemirror_mode": {
    "name": "ipython",
    "version": 3
   },
   "file_extension": ".py",
   "mimetype": "text/x-python",
   "name": "python",
   "nbconvert_exporter": "python",
   "pygments_lexer": "ipython3",
   "version": "3.12.4"
  }
 },
 "nbformat": 4,
 "nbformat_minor": 5
}

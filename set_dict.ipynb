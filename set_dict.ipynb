{
 "cells": [
  {
   "cell_type": "markdown",
   "id": "005abcb8-483d-401e-ae3e-6d6a29f57ccd",
   "metadata": {},
   "source": [
    "# Set "
   ]
  },
  {
   "cell_type": "code",
   "execution_count": 1,
   "id": "cb887680-2308-4313-86f6-31d3a7f2acc7",
   "metadata": {},
   "outputs": [],
   "source": [
    "s = {1,1,1,1,2,3,3,3,4,5,5,5,5}"
   ]
  },
  {
   "cell_type": "code",
   "execution_count": 2,
   "id": "a85030ae-d655-42c4-8767-75337a906e7f",
   "metadata": {},
   "outputs": [
    {
     "data": {
      "text/plain": [
       "{1, 2, 3, 4, 5}"
      ]
     },
     "execution_count": 2,
     "metadata": {},
     "output_type": "execute_result"
    }
   ],
   "source": [
    "s"
   ]
  },
  {
   "cell_type": "code",
   "execution_count": 3,
   "id": "b4db819a-49e1-4613-9ee9-c84b7a8bcae7",
   "metadata": {},
   "outputs": [],
   "source": [
    "set_1 = {1,2,3,4,5}"
   ]
  },
  {
   "cell_type": "code",
   "execution_count": 4,
   "id": "86827635-e516-4570-a3a7-bc2ab3be2e12",
   "metadata": {},
   "outputs": [],
   "source": [
    "set_2 = {4,5,6,7,8}"
   ]
  },
  {
   "cell_type": "code",
   "execution_count": 5,
   "id": "991eafb0-5dc5-4e59-914d-33ce592605f5",
   "metadata": {},
   "outputs": [
    {
     "data": {
      "text/plain": [
       "{4, 5}"
      ]
     },
     "execution_count": 5,
     "metadata": {},
     "output_type": "execute_result"
    }
   ],
   "source": [
    "set_1.intersection(set_2)"
   ]
  },
  {
   "cell_type": "code",
   "execution_count": 6,
   "id": "a63a08f9-dbe9-4485-8ac6-228c2a37fd7c",
   "metadata": {},
   "outputs": [
    {
     "data": {
      "text/plain": [
       "{1, 2, 3, 4, 5, 6, 7, 8}"
      ]
     },
     "execution_count": 6,
     "metadata": {},
     "output_type": "execute_result"
    }
   ],
   "source": [
    "set_1.union(set_2)"
   ]
  },
  {
   "cell_type": "code",
   "execution_count": 7,
   "id": "6bb522c5-fbb1-4387-9bf6-40b4ba29cfa0",
   "metadata": {},
   "outputs": [
    {
     "data": {
      "text/plain": [
       "{1, 2, 3}"
      ]
     },
     "execution_count": 7,
     "metadata": {},
     "output_type": "execute_result"
    }
   ],
   "source": [
    "set_1.difference(set_2)"
   ]
  },
  {
   "cell_type": "code",
   "execution_count": 8,
   "id": "9b1b120c-fd7a-42ff-b280-a99ef1371be4",
   "metadata": {},
   "outputs": [
    {
     "data": {
      "text/plain": [
       "{6, 7, 8}"
      ]
     },
     "execution_count": 8,
     "metadata": {},
     "output_type": "execute_result"
    }
   ],
   "source": [
    "set_2.difference(set_1)"
   ]
  },
  {
   "cell_type": "code",
   "execution_count": 9,
   "id": "ec2c6d9d-a00f-438b-b3aa-5d8336293a08",
   "metadata": {},
   "outputs": [],
   "source": [
    "l = [1,1,1,2,3,3,4,5,6,7,5,3,2,1,4,6]"
   ]
  },
  {
   "cell_type": "code",
   "execution_count": 10,
   "id": "db812e4f-c5a8-4e35-be00-0d8da07c7132",
   "metadata": {},
   "outputs": [
    {
     "data": {
      "text/plain": [
       "[1, 1, 1, 2, 3, 3, 4, 5, 6, 7, 5, 3, 2, 1, 4, 6]"
      ]
     },
     "execution_count": 10,
     "metadata": {},
     "output_type": "execute_result"
    }
   ],
   "source": [
    "l"
   ]
  },
  {
   "cell_type": "code",
   "execution_count": 12,
   "id": "6b1c1e2b-c3c9-4b1b-bd07-6f590f34f515",
   "metadata": {},
   "outputs": [],
   "source": [
    "l = set(l)"
   ]
  },
  {
   "cell_type": "code",
   "execution_count": 13,
   "id": "e774dfa7-8176-44e3-bb0b-e3785aebf06b",
   "metadata": {},
   "outputs": [
    {
     "data": {
      "text/plain": [
       "{1, 2, 3, 4, 5, 6, 7}"
      ]
     },
     "execution_count": 13,
     "metadata": {},
     "output_type": "execute_result"
    }
   ],
   "source": [
    "l"
   ]
  },
  {
   "cell_type": "code",
   "execution_count": 15,
   "id": "8b8f1b4c-26b2-4999-b1fb-fc6d85ca7657",
   "metadata": {},
   "outputs": [],
   "source": [
    "l = list(l)"
   ]
  },
  {
   "cell_type": "code",
   "execution_count": 16,
   "id": "e0791cfb-686f-46a7-9dc4-9c6e8a7a7728",
   "metadata": {},
   "outputs": [
    {
     "data": {
      "text/plain": [
       "[1, 2, 3, 4, 5, 6, 7]"
      ]
     },
     "execution_count": 16,
     "metadata": {},
     "output_type": "execute_result"
    }
   ],
   "source": [
    "l"
   ]
  },
  {
   "cell_type": "markdown",
   "id": "abd3e30d-ab1f-4cff-83a2-0d5654904502",
   "metadata": {},
   "source": [
    "# Dictionary"
   ]
  },
  {
   "cell_type": "code",
   "execution_count": 17,
   "id": "d26ff4cb-2b02-4778-ab91-80e6156f1df3",
   "metadata": {},
   "outputs": [],
   "source": [
    "d = {'A':10, 'B':20, 'C':30}"
   ]
  },
  {
   "cell_type": "code",
   "execution_count": 18,
   "id": "f34816f8-d3f0-405d-9693-588bc958fb51",
   "metadata": {},
   "outputs": [
    {
     "data": {
      "text/plain": [
       "{'A': 10, 'B': 20, 'C': 30}"
      ]
     },
     "execution_count": 18,
     "metadata": {},
     "output_type": "execute_result"
    }
   ],
   "source": [
    "d"
   ]
  },
  {
   "cell_type": "code",
   "execution_count": 19,
   "id": "a124a46d-4e3e-4298-89c9-d314f818e27e",
   "metadata": {},
   "outputs": [
    {
     "data": {
      "text/plain": [
       "dict_keys(['A', 'B', 'C'])"
      ]
     },
     "execution_count": 19,
     "metadata": {},
     "output_type": "execute_result"
    }
   ],
   "source": [
    "d.keys()"
   ]
  },
  {
   "cell_type": "code",
   "execution_count": 21,
   "id": "3bc28dbd-57aa-409f-8802-1c7a004a160d",
   "metadata": {},
   "outputs": [
    {
     "data": {
      "text/plain": [
       "dict_values([10, 20, 30])"
      ]
     },
     "execution_count": 21,
     "metadata": {},
     "output_type": "execute_result"
    }
   ],
   "source": [
    "d.values()"
   ]
  },
  {
   "cell_type": "code",
   "execution_count": 22,
   "id": "61aa2eaf-000f-4848-9286-78d0e67dd25b",
   "metadata": {},
   "outputs": [
    {
     "data": {
      "text/plain": [
       "10"
      ]
     },
     "execution_count": 22,
     "metadata": {},
     "output_type": "execute_result"
    }
   ],
   "source": [
    "d['A']"
   ]
  },
  {
   "cell_type": "code",
   "execution_count": 23,
   "id": "327b470b-8e63-4413-b0b7-6837e0f106d0",
   "metadata": {},
   "outputs": [
    {
     "data": {
      "text/plain": [
       "20"
      ]
     },
     "execution_count": 23,
     "metadata": {},
     "output_type": "execute_result"
    }
   ],
   "source": [
    "d['B']"
   ]
  },
  {
   "cell_type": "code",
   "execution_count": 24,
   "id": "fbf55a45-587a-48a2-bf72-2a0ea8c893cf",
   "metadata": {},
   "outputs": [
    {
     "data": {
      "text/plain": [
       "30"
      ]
     },
     "execution_count": 24,
     "metadata": {},
     "output_type": "execute_result"
    }
   ],
   "source": [
    "d['C']"
   ]
  },
  {
   "cell_type": "code",
   "execution_count": 26,
   "id": "b4ecc2b6-d22d-4a08-8bb4-81a2be4b07e2",
   "metadata": {},
   "outputs": [],
   "source": [
    "d1 = {'Name':'Vaibhav', 'Age':45, 'Mobile':88142423, 'City':'Solapur'}"
   ]
  },
  {
   "cell_type": "code",
   "execution_count": 27,
   "id": "c44b81aa-1034-4def-a38a-52323ea90672",
   "metadata": {},
   "outputs": [
    {
     "data": {
      "text/plain": [
       "{'Name': 'Vaibhav', 'Age': 45, 'Mobile': 88142423, 'City': 'Solapur'}"
      ]
     },
     "execution_count": 27,
     "metadata": {},
     "output_type": "execute_result"
    }
   ],
   "source": [
    "d1"
   ]
  },
  {
   "cell_type": "code",
   "execution_count": 28,
   "id": "a5e4ce7d-1bf8-4b4e-88cd-19ce3aca2495",
   "metadata": {},
   "outputs": [
    {
     "data": {
      "text/plain": [
       "45"
      ]
     },
     "execution_count": 28,
     "metadata": {},
     "output_type": "execute_result"
    }
   ],
   "source": [
    "d1['Age']"
   ]
  },
  {
   "cell_type": "code",
   "execution_count": 29,
   "id": "68954f79-7905-4e38-bcfb-f04a10e855f4",
   "metadata": {},
   "outputs": [],
   "source": [
    "d1['Age'] = 24"
   ]
  },
  {
   "cell_type": "code",
   "execution_count": 30,
   "id": "9b424714-a08b-42a6-8c34-21ab17ef6e61",
   "metadata": {},
   "outputs": [
    {
     "data": {
      "text/plain": [
       "{'Name': 'Vaibhav', 'Age': 24, 'Mobile': 88142423, 'City': 'Solapur'}"
      ]
     },
     "execution_count": 30,
     "metadata": {},
     "output_type": "execute_result"
    }
   ],
   "source": [
    "d1"
   ]
  },
  {
   "cell_type": "code",
   "execution_count": 31,
   "id": "38fd88d3-d2fa-4173-9274-1def6a61263b",
   "metadata": {},
   "outputs": [],
   "source": [
    "# How to add new key and value in dict"
   ]
  },
  {
   "cell_type": "code",
   "execution_count": 32,
   "id": "8197ab50-d3a8-44ac-a967-04833cad44f9",
   "metadata": {},
   "outputs": [],
   "source": [
    "d1['Class'] = 12"
   ]
  },
  {
   "cell_type": "code",
   "execution_count": 33,
   "id": "6b35a775-1b7d-4a5f-aab8-dc58ba0bce9d",
   "metadata": {},
   "outputs": [
    {
     "data": {
      "text/plain": [
       "{'Name': 'Vaibhav',\n",
       " 'Age': 24,\n",
       " 'Mobile': 88142423,\n",
       " 'City': 'Solapur',\n",
       " 'Class': 12}"
      ]
     },
     "execution_count": 33,
     "metadata": {},
     "output_type": "execute_result"
    }
   ],
   "source": [
    "d1"
   ]
  },
  {
   "cell_type": "code",
   "execution_count": 34,
   "id": "e2b010d2-a63e-4931-a26a-ba28efb0495a",
   "metadata": {},
   "outputs": [],
   "source": [
    "mix = {'Names':['Hello', 'Python', 'data'], 'Age':(13,432,42,53) }"
   ]
  },
  {
   "cell_type": "code",
   "execution_count": 35,
   "id": "1c2acf0e-cad7-493c-ba89-8d82a6c4e5e1",
   "metadata": {},
   "outputs": [
    {
     "data": {
      "text/plain": [
       "{'Names': ['Hello', 'Python', 'data'], 'Age': (13, 432, 42, 53)}"
      ]
     },
     "execution_count": 35,
     "metadata": {},
     "output_type": "execute_result"
    }
   ],
   "source": [
    "mix"
   ]
  },
  {
   "cell_type": "code",
   "execution_count": null,
   "id": "61c81b93-e139-4988-97cc-c841b641f69e",
   "metadata": {},
   "outputs": [],
   "source": []
  }
 ],
 "metadata": {
  "kernelspec": {
   "display_name": "Python 3 (ipykernel)",
   "language": "python",
   "name": "python3"
  },
  "language_info": {
   "codemirror_mode": {
    "name": "ipython",
    "version": 3
   },
   "file_extension": ".py",
   "mimetype": "text/x-python",
   "name": "python",
   "nbconvert_exporter": "python",
   "pygments_lexer": "ipython3",
   "version": "3.12.4"
  }
 },
 "nbformat": 4,
 "nbformat_minor": 5
}

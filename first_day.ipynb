{
 "cells": [
  {
   "cell_type": "code",
   "execution_count": 1,
   "id": "59a4bbb5-842f-4431-8ee9-90d30e88bc78",
   "metadata": {},
   "outputs": [
    {
     "data": {
      "text/plain": [
       "15"
      ]
     },
     "execution_count": 1,
     "metadata": {},
     "output_type": "execute_result"
    }
   ],
   "source": [
    "10 + 5"
   ]
  },
  {
   "cell_type": "markdown",
   "id": "378abafe-09e6-414b-8c1c-afb3136bc974",
   "metadata": {},
   "source": [
    "# This is my first day"
   ]
  },
  {
   "cell_type": "markdown",
   "id": "64e90e05-59b2-4aed-9720-47a47fdc99d3",
   "metadata": {},
   "source": [
    "Today we are going to learn python."
   ]
  },
  {
   "cell_type": "raw",
   "id": "283df535-2423-42b4-b724-e09f49775595",
   "metadata": {},
   "source": [
    "x -->283\n",
    "y --- > 87238\n",
    "Today is our first day\n",
    "d\n",
    "ad\n",
    "d"
   ]
  },
  {
   "cell_type": "code",
   "execution_count": 2,
   "id": "843690d6-4ad2-45f7-b95e-c53b16f38df8",
   "metadata": {},
   "outputs": [
    {
     "data": {
      "text/plain": [
       "80"
      ]
     },
     "execution_count": 2,
     "metadata": {},
     "output_type": "execute_result"
    }
   ],
   "source": [
    "10 * 8"
   ]
  },
  {
   "cell_type": "code",
   "execution_count": null,
   "id": "c3c1ffed-1fb3-44c1-8546-188e92e0f45b",
   "metadata": {},
   "outputs": [],
   "source": []
  },
  {
   "cell_type": "code",
   "execution_count": null,
   "id": "8f8e3730-8ffe-41c1-9543-428f1ff20b65",
   "metadata": {},
   "outputs": [],
   "source": []
  },
  {
   "cell_type": "code",
   "execution_count": null,
   "id": "ea1ddd0b-c197-40a4-9fc3-eb1103146493",
   "metadata": {},
   "outputs": [],
   "source": []
  }
 ],
 "metadata": {
  "kernelspec": {
   "display_name": "Python 3 (ipykernel)",
   "language": "python",
   "name": "python3"
  },
  "language_info": {
   "codemirror_mode": {
    "name": "ipython",
    "version": 3
   },
   "file_extension": ".py",
   "mimetype": "text/x-python",
   "name": "python",
   "nbconvert_exporter": "python",
   "pygments_lexer": "ipython3",
   "version": "3.12.4"
  }
 },
 "nbformat": 4,
 "nbformat_minor": 5
}

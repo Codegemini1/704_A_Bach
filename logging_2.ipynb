{
 "cells": [
  {
   "cell_type": "code",
   "execution_count": 1,
   "id": "4ffde7a8-a195-4c2d-b15a-4549598005e3",
   "metadata": {},
   "outputs": [],
   "source": [
    "import logging"
   ]
  },
  {
   "cell_type": "code",
   "execution_count": 2,
   "id": "cba530c3-e51b-43d2-80e4-7d1f6ef6431a",
   "metadata": {},
   "outputs": [],
   "source": [
    "logging.basicConfig(filename = 'logging2.log', level = logging.INFO)"
   ]
  },
  {
   "cell_type": "code",
   "execution_count": 4,
   "id": "8747d5a4-4e82-462f-8317-52d884f32a19",
   "metadata": {},
   "outputs": [],
   "source": [
    "logging.info('Testing log file')"
   ]
  },
  {
   "cell_type": "code",
   "execution_count": 5,
   "id": "4824256c-69ee-4eb6-ab3e-86fdfe632f78",
   "metadata": {},
   "outputs": [],
   "source": [
    "def devide(a,b):\n",
    "    logging.info(f'Trying to add {a} and {b}')\n",
    "    try:\n",
    "        result = a / b \n",
    "        logging.info(f'Result is {result}')\n",
    "        return result\n",
    "    except Exception as e:\n",
    "        logging.error('Error happend in devide function')\n",
    "        logging.error(e)\n"
   ]
  },
  {
   "cell_type": "code",
   "execution_count": 6,
   "id": "b39fd813-6784-4912-8594-1529b2457657",
   "metadata": {},
   "outputs": [
    {
     "data": {
      "text/plain": [
       "2.0"
      ]
     },
     "execution_count": 6,
     "metadata": {},
     "output_type": "execute_result"
    }
   ],
   "source": [
    "devide(10,5)"
   ]
  },
  {
   "cell_type": "code",
   "execution_count": 7,
   "id": "bf52e698-b0d7-463f-809c-1ec925764dae",
   "metadata": {},
   "outputs": [],
   "source": [
    "devide(2,0)"
   ]
  },
  {
   "cell_type": "code",
   "execution_count": 8,
   "id": "49f997bd-6c51-48b8-a007-e9612844de7e",
   "metadata": {},
   "outputs": [],
   "source": [
    "logging.shutdown()"
   ]
  },
  {
   "cell_type": "code",
   "execution_count": null,
   "id": "af781e10-a9c4-45c9-a4d9-d1f0f1b1fdd3",
   "metadata": {},
   "outputs": [],
   "source": []
  }
 ],
 "metadata": {
  "kernelspec": {
   "display_name": "Python 3 (ipykernel)",
   "language": "python",
   "name": "python3"
  },
  "language_info": {
   "codemirror_mode": {
    "name": "ipython",
    "version": 3
   },
   "file_extension": ".py",
   "mimetype": "text/x-python",
   "name": "python",
   "nbconvert_exporter": "python",
   "pygments_lexer": "ipython3",
   "version": "3.12.4"
  }
 },
 "nbformat": 4,
 "nbformat_minor": 5
}

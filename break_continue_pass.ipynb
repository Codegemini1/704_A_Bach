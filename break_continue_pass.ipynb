{
 "cells": [
  {
   "cell_type": "code",
   "execution_count": 4,
   "id": "19055fb7-6a26-4301-a5e5-2e2ef3bb8ad8",
   "metadata": {},
   "outputs": [
    {
     "name": "stdout",
     "output_type": "stream",
     "text": [
      "1\n",
      "3\n",
      "6\n",
      "10\n",
      "15\n",
      "21\n",
      "28\n",
      "36\n",
      "45\n",
      "55\n",
      "66\n",
      "78\n",
      "91\n",
      "105\n",
      "120\n"
     ]
    }
   ],
   "source": [
    "sum = 0\n",
    "for i in range(1,16):\n",
    "    sum = sum + i\n",
    "    print(sum)"
   ]
  },
  {
   "cell_type": "code",
   "execution_count": 2,
   "id": "8006821c-46e5-4197-a8dd-4d45a197ab8f",
   "metadata": {},
   "outputs": [
    {
     "data": {
      "text/plain": [
       "120"
      ]
     },
     "execution_count": 2,
     "metadata": {},
     "output_type": "execute_result"
    }
   ],
   "source": [
    "sum"
   ]
  },
  {
   "cell_type": "code",
   "execution_count": 5,
   "id": "bf759b55-6331-4671-9479-1a8fc4a7d5ef",
   "metadata": {},
   "outputs": [
    {
     "name": "stdout",
     "output_type": "stream",
     "text": [
      "2 1\n",
      "3 3\n",
      "4 6\n",
      "5 10\n",
      "6 15\n",
      "7 21\n",
      "8 28\n",
      "9 36\n",
      "10 45\n",
      "11 55\n",
      "12 66\n",
      "13 78\n",
      "14 91\n",
      "15 105\n",
      "16 120\n"
     ]
    }
   ],
   "source": [
    "num = 1\n",
    "total = 0\n",
    "while num < 16:\n",
    "    total = total + num\n",
    "    num = num + 1\n",
    "    print(num, total)"
   ]
  },
  {
   "cell_type": "code",
   "execution_count": 6,
   "id": "7b42c6d3-1b98-4ec3-b560-4d7928a86907",
   "metadata": {},
   "outputs": [],
   "source": [
    "l = [1,2,3,4,5,6,7,8,9]"
   ]
  },
  {
   "cell_type": "code",
   "execution_count": 10,
   "id": "6f0b7835-a340-4dd3-bc96-babd304cdb2f",
   "metadata": {},
   "outputs": [
    {
     "name": "stdout",
     "output_type": "stream",
     "text": [
      "1 Odd number added in sum_odd\n",
      "2 Even number added in sum_even\n",
      "3 Odd number added in sum_odd\n",
      "4 Even number added in sum_even\n",
      "5 Odd number added in sum_odd\n",
      "6 Even number added in sum_even\n",
      "7 Odd number added in sum_odd\n",
      "8 Even number added in sum_even\n",
      "9 Odd number added in sum_odd\n"
     ]
    }
   ],
   "source": [
    "sum_even = 0\n",
    "sum_odd = 0\n",
    "for i in l:\n",
    "    if i % 2 == 0:\n",
    "        sum_even = sum_even + i\n",
    "        print(i, 'Even number added in sum_even')\n",
    "    else:\n",
    "        sum_odd = sum_odd + i\n",
    "        print(i, 'Odd number added in sum_odd')"
   ]
  },
  {
   "cell_type": "code",
   "execution_count": 11,
   "id": "77e20b50-207c-4e24-861e-c24ca5b8f25e",
   "metadata": {},
   "outputs": [
    {
     "data": {
      "text/plain": [
       "20"
      ]
     },
     "execution_count": 11,
     "metadata": {},
     "output_type": "execute_result"
    }
   ],
   "source": [
    "sum_even"
   ]
  },
  {
   "cell_type": "code",
   "execution_count": 12,
   "id": "c91d4155-4170-4900-9687-f8e4a7c50dd6",
   "metadata": {},
   "outputs": [
    {
     "data": {
      "text/plain": [
       "25"
      ]
     },
     "execution_count": 12,
     "metadata": {},
     "output_type": "execute_result"
    }
   ],
   "source": [
    "sum_odd"
   ]
  },
  {
   "cell_type": "markdown",
   "id": "f84eb31b-c79d-410f-8e1a-bf10d55ecca7",
   "metadata": {},
   "source": [
    "# Break"
   ]
  },
  {
   "cell_type": "code",
   "execution_count": 13,
   "id": "332cb6cd-a025-4ec4-9e7b-de82ae19aca2",
   "metadata": {},
   "outputs": [
    {
     "data": {
      "text/plain": [
       "[1, 2, 3, 4, 5, 6, 7, 8, 9]"
      ]
     },
     "execution_count": 13,
     "metadata": {},
     "output_type": "execute_result"
    }
   ],
   "source": [
    "l"
   ]
  },
  {
   "cell_type": "code",
   "execution_count": 14,
   "id": "3598fc1d-f667-44d0-a1dd-320b484338dd",
   "metadata": {},
   "outputs": [
    {
     "name": "stdout",
     "output_type": "stream",
     "text": [
      "Code is Ongoing 1\n",
      "Code is Ongoing 2\n",
      "Code is Ongoing 3\n"
     ]
    }
   ],
   "source": [
    "for i in l:\n",
    "    if i == 4:\n",
    "        break\n",
    "    print('Code is Ongoing', i)"
   ]
  },
  {
   "cell_type": "code",
   "execution_count": 15,
   "id": "3b950de9-cf6c-49bf-940e-a9909b682a81",
   "metadata": {},
   "outputs": [
    {
     "name": "stdout",
     "output_type": "stream",
     "text": [
      "d Code is fine and ongoing\n",
      "a Code is fine and ongoing\n",
      "t Code is fine and ongoing\n",
      "a Code is fine and ongoing\n",
      "  Code is fine and ongoing\n"
     ]
    }
   ],
   "source": [
    "for i in 'data science':\n",
    "    if i == 's':\n",
    "        break\n",
    "    print(i, 'Code is fine and ongoing')"
   ]
  },
  {
   "cell_type": "markdown",
   "id": "6a42ec01-301c-48e6-80a6-6af5dc064487",
   "metadata": {},
   "source": [
    "# Continue "
   ]
  },
  {
   "cell_type": "code",
   "execution_count": 16,
   "id": "d3f5a216-3e20-4ef9-976a-9c9a22a1ab31",
   "metadata": {},
   "outputs": [
    {
     "data": {
      "text/plain": [
       "[1, 2, 3, 4, 5, 6, 7, 8, 9]"
      ]
     },
     "execution_count": 16,
     "metadata": {},
     "output_type": "execute_result"
    }
   ],
   "source": [
    "l"
   ]
  },
  {
   "cell_type": "code",
   "execution_count": 17,
   "id": "0e486931-e5b1-4208-89a0-f4fba9918fb1",
   "metadata": {},
   "outputs": [
    {
     "name": "stdout",
     "output_type": "stream",
     "text": [
      "Code Exceuted till 1\n",
      "Code Exceuted till 2\n",
      "Code Exceuted till 3\n",
      "Code Exceuted till 5\n",
      "Code Exceuted till 6\n",
      "Code Exceuted till 7\n",
      "Code Exceuted till 8\n",
      "Code Exceuted till 9\n"
     ]
    }
   ],
   "source": [
    "for i in l:\n",
    "    if i == 4:\n",
    "        continue\n",
    "    print('Code Exceuted till', i)"
   ]
  },
  {
   "cell_type": "code",
   "execution_count": 18,
   "id": "d60903af-cc2e-4953-8ad8-a959f7f82779",
   "metadata": {},
   "outputs": [
    {
     "name": "stdout",
     "output_type": "stream",
     "text": [
      "d\n",
      "t\n",
      " \n",
      "s\n",
      "c\n",
      "i\n",
      "e\n",
      "n\n",
      "c\n",
      "e\n"
     ]
    }
   ],
   "source": [
    "for i in 'data science':\n",
    "    if i == 'a':\n",
    "        continue\n",
    "    print(i)"
   ]
  },
  {
   "cell_type": "markdown",
   "id": "2c161856-7714-4758-a53c-84eabf9bf281",
   "metadata": {},
   "source": [
    "# Pass"
   ]
  },
  {
   "cell_type": "code",
   "execution_count": null,
   "id": "cdf0f1ff-3dcd-49e2-9eeb-5275ee0e1718",
   "metadata": {},
   "outputs": [],
   "source": [
    "for i in l:\n",
    "    if i == 4:\n",
    "        pass"
   ]
  },
  {
   "cell_type": "code",
   "execution_count": 19,
   "id": "dc3d3ec4-0cb8-4d76-8959-9ef40d4bb6ce",
   "metadata": {},
   "outputs": [
    {
     "ename": "SyntaxError",
     "evalue": "incomplete input (1525633252.py, line 2)",
     "output_type": "error",
     "traceback": [
      "\u001b[1;36m  Cell \u001b[1;32mIn[19], line 2\u001b[1;36m\u001b[0m\n\u001b[1;33m    \u001b[0m\n\u001b[1;37m    ^\u001b[0m\n\u001b[1;31mSyntaxError\u001b[0m\u001b[1;31m:\u001b[0m incomplete input\n"
     ]
    }
   ],
   "source": [
    "for i in l:\n",
    "    "
   ]
  },
  {
   "cell_type": "code",
   "execution_count": 20,
   "id": "61e31cfc-1dbb-4b59-9c3a-eccc281f0bab",
   "metadata": {},
   "outputs": [],
   "source": [
    "for i in l:\n",
    "    pass"
   ]
  },
  {
   "cell_type": "code",
   "execution_count": 21,
   "id": "e969eaab-42c6-4334-baac-623ac693e214",
   "metadata": {},
   "outputs": [],
   "source": [
    "if i == '03i23':\n",
    "    pass"
   ]
  },
  {
   "cell_type": "code",
   "execution_count": 22,
   "id": "eb6c9576-6f1c-4d16-a285-5bcbe190e371",
   "metadata": {},
   "outputs": [
    {
     "ename": "SyntaxError",
     "evalue": "incomplete input (1233338434.py, line 1)",
     "output_type": "error",
     "traceback": [
      "\u001b[1;36m  Cell \u001b[1;32mIn[22], line 1\u001b[1;36m\u001b[0m\n\u001b[1;33m    if i == '03i23':\u001b[0m\n\u001b[1;37m                    ^\u001b[0m\n\u001b[1;31mSyntaxError\u001b[0m\u001b[1;31m:\u001b[0m incomplete input\n"
     ]
    }
   ],
   "source": [
    "if i == '03i23':\n"
   ]
  },
  {
   "cell_type": "markdown",
   "id": "0d75a85d-13c8-49ff-b717-bcfd7ab73461",
   "metadata": {},
   "source": [
    "# Inbuild Function in Python"
   ]
  },
  {
   "cell_type": "code",
   "execution_count": 24,
   "id": "537f5ae7-191d-46af-a1c4-39aa2eb2213c",
   "metadata": {},
   "outputs": [
    {
     "data": {
      "text/plain": [
       "'Hello'"
      ]
     },
     "execution_count": 24,
     "metadata": {},
     "output_type": "execute_result"
    }
   ],
   "source": [
    "'hello'.capitalize()"
   ]
  },
  {
   "cell_type": "code",
   "execution_count": 25,
   "id": "300bfa26-da4b-4258-a43f-b9fc841d3f33",
   "metadata": {},
   "outputs": [
    {
     "data": {
      "text/plain": [
       "'  hello   '"
      ]
     },
     "execution_count": 25,
     "metadata": {},
     "output_type": "execute_result"
    }
   ],
   "source": [
    "'hello'.center(10)"
   ]
  },
  {
   "cell_type": "code",
   "execution_count": 27,
   "id": "2bc24ea7-1022-4270-827c-25cb74671983",
   "metadata": {},
   "outputs": [
    {
     "data": {
      "text/plain": [
       "'****h****'"
      ]
     },
     "execution_count": 27,
     "metadata": {},
     "output_type": "execute_result"
    }
   ],
   "source": [
    "'h'.center(9, '*')"
   ]
  },
  {
   "cell_type": "code",
   "execution_count": 28,
   "id": "18583f1b-5590-4b22-8fec-031be961bc69",
   "metadata": {},
   "outputs": [
    {
     "data": {
      "text/plain": [
       "True"
      ]
     },
     "execution_count": 28,
     "metadata": {},
     "output_type": "execute_result"
    }
   ],
   "source": [
    "'hello'.islower()"
   ]
  },
  {
   "cell_type": "code",
   "execution_count": 29,
   "id": "06b4777a-5d2d-4c90-826d-e6369ec3848f",
   "metadata": {},
   "outputs": [
    {
     "data": {
      "text/plain": [
       "False"
      ]
     },
     "execution_count": 29,
     "metadata": {},
     "output_type": "execute_result"
    }
   ],
   "source": [
    "\"HELLO\".istitle()"
   ]
  },
  {
   "cell_type": "code",
   "execution_count": 31,
   "id": "110030b8-7c85-475e-a898-b4abca288a7c",
   "metadata": {},
   "outputs": [
    {
     "data": {
      "text/plain": [
       "True"
      ]
     },
     "execution_count": 31,
     "metadata": {},
     "output_type": "execute_result"
    }
   ],
   "source": [
    "'Hello'.istitle()"
   ]
  },
  {
   "cell_type": "code",
   "execution_count": 36,
   "id": "c4b27cf0-1bf9-4e41-b4ce-9c3b569bde00",
   "metadata": {},
   "outputs": [
    {
     "data": {
      "text/plain": [
       "['H', 'e', 'l', 'l', 'o']"
      ]
     },
     "execution_count": 36,
     "metadata": {},
     "output_type": "execute_result"
    }
   ],
   "source": [
    "list('Hello')"
   ]
  },
  {
   "cell_type": "code",
   "execution_count": 37,
   "id": "075202f2-4bfe-44b9-9198-a44cd84558c1",
   "metadata": {},
   "outputs": [
    {
     "data": {
      "text/plain": [
       "'120973'"
      ]
     },
     "execution_count": 37,
     "metadata": {},
     "output_type": "execute_result"
    }
   ],
   "source": [
    "'120973'"
   ]
  },
  {
   "cell_type": "code",
   "execution_count": 38,
   "id": "15c061b6-617e-4596-aa73-e52678d0e3c2",
   "metadata": {},
   "outputs": [
    {
     "data": {
      "text/plain": [
       "120973"
      ]
     },
     "execution_count": 38,
     "metadata": {},
     "output_type": "execute_result"
    }
   ],
   "source": [
    "120973"
   ]
  },
  {
   "cell_type": "code",
   "execution_count": 39,
   "id": "3a3b4afa-3be3-431a-8783-6f73b3ceec6b",
   "metadata": {},
   "outputs": [
    {
     "data": {
      "text/plain": [
       "'120973'"
      ]
     },
     "execution_count": 39,
     "metadata": {},
     "output_type": "execute_result"
    }
   ],
   "source": [
    "'120973'"
   ]
  },
  {
   "cell_type": "code",
   "execution_count": 40,
   "id": "fc8aaf7d-76cb-4ec8-8728-9c2cd564adcd",
   "metadata": {},
   "outputs": [
    {
     "data": {
      "text/plain": [
       "['1', '2', '0', '9', '7', '3']"
      ]
     },
     "execution_count": 40,
     "metadata": {},
     "output_type": "execute_result"
    }
   ],
   "source": [
    "list('120973')"
   ]
  },
  {
   "cell_type": "code",
   "execution_count": 41,
   "id": "1290adb5-f1d5-43e0-aa71-ae28d27481e0",
   "metadata": {},
   "outputs": [
    {
     "data": {
      "text/plain": [
       "['H', 'llo']"
      ]
     },
     "execution_count": 41,
     "metadata": {},
     "output_type": "execute_result"
    }
   ],
   "source": [
    "'Hello'.split('e')"
   ]
  },
  {
   "cell_type": "code",
   "execution_count": 42,
   "id": "22bc5af0-f021-440d-a7a5-d1bcbabd0087",
   "metadata": {},
   "outputs": [
    {
     "data": {
      "text/plain": [
       "['Today', 'we', 'are', 'going', 'to', 'learn', 'function']"
      ]
     },
     "execution_count": 42,
     "metadata": {},
     "output_type": "execute_result"
    }
   ],
   "source": [
    "'Today we are going to learn function'.split(' ')"
   ]
  },
  {
   "cell_type": "markdown",
   "id": "4fa22847-c9f0-4b11-9e3b-2355a5bc4d41",
   "metadata": {},
   "source": [
    "# Function"
   ]
  },
  {
   "cell_type": "raw",
   "id": "e032725b-3f49-47bf-a4d4-40ea2c8d891e",
   "metadata": {},
   "source": [
    "Function is having some block of codes.\n",
    "Function is going to perform spacefic task."
   ]
  },
  {
   "cell_type": "code",
   "execution_count": 43,
   "id": "ca50b6aa-3aba-4efa-97f7-b35a9403607d",
   "metadata": {},
   "outputs": [],
   "source": [
    "def hello():\n",
    "    print('Hello how are you!')"
   ]
  },
  {
   "cell_type": "code",
   "execution_count": 44,
   "id": "c3e14aec-1126-4a5b-b1d3-4d0647fc245e",
   "metadata": {},
   "outputs": [
    {
     "name": "stdout",
     "output_type": "stream",
     "text": [
      "Hello how are you!\n"
     ]
    }
   ],
   "source": [
    "hello()"
   ]
  },
  {
   "cell_type": "code",
   "execution_count": 45,
   "id": "098fcb36-e8dc-4327-a356-36e712477ef0",
   "metadata": {},
   "outputs": [],
   "source": [
    "def gretting():\n",
    "    print('Hello welcome to Python functions')"
   ]
  },
  {
   "cell_type": "code",
   "execution_count": 46,
   "id": "94adff77-33e3-4f59-82ce-49e1024198f6",
   "metadata": {},
   "outputs": [
    {
     "name": "stdout",
     "output_type": "stream",
     "text": [
      "Hello welcome to Python functions\n"
     ]
    }
   ],
   "source": [
    "gretting()"
   ]
  },
  {
   "cell_type": "code",
   "execution_count": null,
   "id": "a12ea48a-20aa-4ba6-bac0-ccd3fbee6067",
   "metadata": {},
   "outputs": [],
   "source": []
  }
 ],
 "metadata": {
  "kernelspec": {
   "display_name": "Python 3 (ipykernel)",
   "language": "python",
   "name": "python3"
  },
  "language_info": {
   "codemirror_mode": {
    "name": "ipython",
    "version": 3
   },
   "file_extension": ".py",
   "mimetype": "text/x-python",
   "name": "python",
   "nbconvert_exporter": "python",
   "pygments_lexer": "ipython3",
   "version": "3.12.4"
  }
 },
 "nbformat": 4,
 "nbformat_minor": 5
}
